{
 "cells": [
  {
   "cell_type": "markdown",
   "metadata": {},
   "source": [
    "# Advanced Data Analysis"
   ]
  },
  {
   "cell_type": "code",
   "execution_count": null,
   "metadata": {},
   "outputs": [],
   "source": [
    "import pandas as pd\n",
    "lis_df = pd.read_parquet('data/processed/03_listings.parquet') \n",
    "rev_df = pd.read_parquet('data/processed/03_reviews.parquet')\n",
    "print(\"Listings shape:\", lis_df.shape)\n",
    "print(\"Reviews shape:\", rev_df.shape)"
   ]
  },
  {
   "cell_type": "code",
   "execution_count": null,
   "metadata": {},
   "outputs": [],
   "source": [
    "lis_df.info()"
   ]
  },
  {
   "cell_type": "code",
   "execution_count": null,
   "metadata": {},
   "outputs": [],
   "source": [
    "#TODO in SQL\n",
    "# Response Quality: encode ordinal rating of each possible response time category\n",
    "# lis_df['host_response_time']\n",
    "\n",
    "# How many listings a host own (listings_count)"
   ]
  },
  {
   "cell_type": "markdown",
   "metadata": {},
   "source": [
    "___"
   ]
  },
  {
   "cell_type": "code",
   "execution_count": 13,
   "metadata": {},
   "outputs": [],
   "source": [
    "rev_df = pd.read_parquet('data/processed/03_reviews.parquet')\n",
    "rev_s = pd.read_parquet('data/processed/04_sentiment_bert.parquet')"
   ]
  },
  {
   "cell_type": "code",
   "execution_count": null,
   "metadata": {},
   "outputs": [],
   "source": [
    "rev_df.sort_values('listing_id')"
   ]
  },
  {
   "cell_type": "code",
   "execution_count": null,
   "metadata": {},
   "outputs": [],
   "source": [
    "rev_s.sort_values('listing_id')"
   ]
  },
  {
   "cell_type": "markdown",
   "metadata": {},
   "source": [
    "___"
   ]
  },
  {
   "cell_type": "code",
   "execution_count": null,
   "metadata": {},
   "outputs": [],
   "source": [
    "# Find all columns containing 'host_listings' or matching 'host_total_listings_count'\n",
    "host_listing_cols = [col for col in lis_df.columns if 'host_listings' in col or col == 'host_total_listings_count']\n",
    "print(\"Columns containing 'host_listings' or 'host_total_listings_count':\")\n",
    "print(host_listing_cols)"
   ]
  },
  {
   "cell_type": "code",
   "execution_count": null,
   "metadata": {},
   "outputs": [],
   "source": [
    "lis_df[host_listing_cols][:5]"
   ]
  },
  {
   "cell_type": "code",
   "execution_count": null,
   "metadata": {},
   "outputs": [],
   "source": [
    "# Compare the three different host listing count columns\n",
    "listing_counts = lis_df[['host_listings_count', 'host_total_listings_count', 'calculated_host_listings_count']]\n",
    "\n",
    "# Find cases where they are all equal\n",
    "all_equal = (listing_counts['host_listings_count'] == listing_counts['host_total_listings_count']) & \\\n",
    "            (listing_counts['host_total_listings_count'] == listing_counts['calculated_host_listings_count'])\n",
    "\n",
    "print(\"Cases where all counts are equal:\", sum(all_equal))\n",
    "print(\"\\nCases where counts differ:\")\n",
    "print(listing_counts[~all_equal].head())\n",
    "print(f\"\\nTotal cases where counts differ: {sum(~all_equal)}\")\n",
    "\n",
    "# Check if host_total_listings_count is always the largest\n",
    "is_largest = (listing_counts['host_total_listings_count'] >= listing_counts['host_listings_count']) & \\\n",
    "             (listing_counts['host_total_listings_count'] >= listing_counts['calculated_host_listings_count'])\n",
    "print(f\"\\nIs host_total_listings_count always the largest? {is_largest.all()}\")\n",
    "\n",
    "if not is_largest.all():\n",
    "    print(\"\\nCases where host_total_listings_count is not the largest:\")\n",
    "    print(listing_counts[~is_largest].head())\n"
   ]
  },
  {
   "cell_type": "markdown",
   "metadata": {},
   "source": [
    "___"
   ]
  },
  {
   "cell_type": "code",
   "execution_count": null,
   "metadata": {},
   "outputs": [],
   "source": [
    "# Verify host_response_rate_pct is always 0 when host_response_time is empty\n",
    "empty_response_time = lis_df[lis_df['host_response_time'] == '']\n",
    "print(\"\\nHost response rates when response time is empty:\")\n",
    "print(empty_response_time['host_response_rate_pct'].value_counts())\n",
    "print(f\"\\nAll zeros? {(empty_response_time['host_response_rate_pct'] == 0).all()}\")\n",
    "\n",
    "# Remap empty strings to 'never' where host_response_rate_pct is 0\n",
    "lis_df.loc[(lis_df['host_response_time'] == '') & (lis_df['host_response_rate_pct'] == 0), 'host_response_time'] = 'never'\n",
    "\n",
    "lis_df['host_response_time'].unique()"
   ]
  },
  {
   "cell_type": "markdown",
   "metadata": {},
   "source": [
    "Various types of analyses to understand the data better and to prepare for the database design."
   ]
  },
  {
   "cell_type": "code",
   "execution_count": null,
   "metadata": {},
   "outputs": [],
   "source": [
    "price_cols = [col for col in lis_df.columns if col.startswith('yearly')]\n",
    "print(\"Price-related columns:\", price_cols)"
   ]
  },
  {
   "cell_type": "code",
   "execution_count": null,
   "metadata": {},
   "outputs": [],
   "source": [
    "lis_df['days_since_last_review']"
   ]
  },
  {
   "cell_type": "code",
   "execution_count": null,
   "metadata": {},
   "outputs": [],
   "source": [
    "review_cols = ['total_reviews', 'number_of_reviews', 'reviews_per_month', 'number_of_reviews_l30d', 'yearly_review', 'number_of_reviews_ltm']\n",
    "print(\"Review-related columns from listings:\")\n",
    "print(lis_df[review_cols].head())"
   ]
  },
  {
   "cell_type": "code",
   "execution_count": null,
   "metadata": {},
   "outputs": [],
   "source": []
  }
 ],
 "metadata": {
  "kernelspec": {
   "display_name": "base",
   "language": "python",
   "name": "python3"
  },
  "language_info": {
   "codemirror_mode": {
    "name": "ipython",
    "version": 3
   },
   "file_extension": ".py",
   "mimetype": "text/x-python",
   "name": "python",
   "nbconvert_exporter": "python",
   "pygments_lexer": "ipython3",
   "version": "3.11.8"
  }
 },
 "nbformat": 4,
 "nbformat_minor": 2
}
