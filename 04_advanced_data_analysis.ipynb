{
 "cells": [
  {
   "cell_type": "markdown",
   "metadata": {},
   "source": [
    "# Advanced Data Analysis"
   ]
  },
  {
   "cell_type": "code",
   "execution_count": 14,
   "metadata": {},
   "outputs": [
    {
     "name": "stdout",
     "output_type": "stream",
     "text": [
      "Listings shape: (20905, 39)\n",
      "Reviews shape: (366636, 6)\n"
     ]
    }
   ],
   "source": [
    "import pandas as pd\n",
    "lis_df = pd.read_parquet('data/processed/05_listings.parquet') \n",
    "rev_df = pd.read_parquet('data/processed/05_sentiment_bert.parquet')\n",
    "print(\"Listings shape:\", lis_df.shape)\n",
    "print(\"Reviews shape:\", rev_df.shape)"
   ]
  },
  {
   "cell_type": "code",
   "execution_count": 15,
   "metadata": {},
   "outputs": [
    {
     "name": "stdout",
     "output_type": "stream",
     "text": [
      "<class 'pandas.core.frame.DataFrame'>\n",
      "RangeIndex: 20905 entries, 0 to 20904\n",
      "Data columns (total 39 columns):\n",
      " #   Column                       Non-Null Count  Dtype   \n",
      "---  ------                       --------------  -----   \n",
      " 0   id                           20905 non-null  int64   \n",
      " 1   listing_url                  20905 non-null  string  \n",
      " 2   description                  20232 non-null  object  \n",
      " 3   host_id                      20905 non-null  int64   \n",
      " 4   host_response_time           20905 non-null  string  \n",
      " 5   host_acceptance_rate_pct     20905 non-null  float64 \n",
      " 6   host_neighbourhood           20905 non-null  string  \n",
      " 7   host_total_listings_count    20905 non-null  int64   \n",
      " 8   host_has_profile_pic         20905 non-null  bool    \n",
      " 9   host_identity_verified       20905 non-null  bool    \n",
      " 10  latitude                     20905 non-null  float64 \n",
      " 11  longitude                    20905 non-null  float64 \n",
      " 12  property_type                20905 non-null  string  \n",
      " 13  room_type                    20905 non-null  string  \n",
      " 14  accommodates                 20905 non-null  int64   \n",
      " 15  bathrooms                    20905 non-null  float64 \n",
      " 16  bedrooms                     20905 non-null  int64   \n",
      " 17  beds                         20905 non-null  int64   \n",
      " 18  price_DKK                    20905 non-null  float64 \n",
      " 19  number_of_reviews            20905 non-null  int64   \n",
      " 20  review_scores_rating         20905 non-null  float64 \n",
      " 21  review_scores_accuracy       20905 non-null  float64 \n",
      " 22  review_scores_cleanliness    20905 non-null  float64 \n",
      " 23  review_scores_checkin        20905 non-null  float64 \n",
      " 24  review_scores_communication  20905 non-null  float64 \n",
      " 25  review_scores_location       20905 non-null  float64 \n",
      " 26  review_scores_value          20905 non-null  float64 \n",
      " 27  instant_bookable             20905 non-null  bool    \n",
      " 28  reviews_per_month            20905 non-null  float64 \n",
      " 29  superhost                    20905 non-null  bool    \n",
      " 30  host_verifications_count     20905 non-null  int64   \n",
      " 31  listings_in_neighborhood     20905 non-null  int64   \n",
      " 32  host_experience_years        20905 non-null  float64 \n",
      " 33  yearly_review                20905 non-null  float64 \n",
      " 34  active_period_years          17687 non-null  float64 \n",
      " 35  avg_sentiment                20905 non-null  float64 \n",
      " 36  n_bookings                   20905 non-null  int64   \n",
      " 37  amenity_category             20905 non-null  category\n",
      " 38  location_category            20905 non-null  category\n",
      "dtypes: bool(4), category(2), float64(17), int64(10), object(1), string(5)\n",
      "memory usage: 5.4+ MB\n",
      "None\n"
     ]
    },
    {
     "data": {
      "text/html": [
       "<div>\n",
       "<style scoped>\n",
       "    .dataframe tbody tr th:only-of-type {\n",
       "        vertical-align: middle;\n",
       "    }\n",
       "\n",
       "    .dataframe tbody tr th {\n",
       "        vertical-align: top;\n",
       "    }\n",
       "\n",
       "    .dataframe thead th {\n",
       "        text-align: right;\n",
       "    }\n",
       "</style>\n",
       "<table border=\"1\" class=\"dataframe\">\n",
       "  <thead>\n",
       "    <tr style=\"text-align: right;\">\n",
       "      <th></th>\n",
       "      <th>id</th>\n",
       "      <th>listing_url</th>\n",
       "      <th>description</th>\n",
       "      <th>host_id</th>\n",
       "      <th>host_response_time</th>\n",
       "      <th>host_acceptance_rate_pct</th>\n",
       "      <th>host_neighbourhood</th>\n",
       "      <th>host_total_listings_count</th>\n",
       "      <th>host_has_profile_pic</th>\n",
       "      <th>host_identity_verified</th>\n",
       "      <th>...</th>\n",
       "      <th>superhost</th>\n",
       "      <th>host_verifications_count</th>\n",
       "      <th>listings_in_neighborhood</th>\n",
       "      <th>host_experience_years</th>\n",
       "      <th>yearly_review</th>\n",
       "      <th>active_period_years</th>\n",
       "      <th>avg_sentiment</th>\n",
       "      <th>n_bookings</th>\n",
       "      <th>amenity_category</th>\n",
       "      <th>location_category</th>\n",
       "    </tr>\n",
       "  </thead>\n",
       "  <tbody>\n",
       "    <tr>\n",
       "      <th>0</th>\n",
       "      <td>31094</td>\n",
       "      <td>https://www.airbnb.com/rooms/31094</td>\n",
       "      <td>Welcome to our home, we hope you will enjoy Wo...</td>\n",
       "      <td>129976</td>\n",
       "      <td>never</td>\n",
       "      <td>0.0</td>\n",
       "      <td>Vesterbro</td>\n",
       "      <td>1</td>\n",
       "      <td>True</td>\n",
       "      <td>True</td>\n",
       "      <td>...</td>\n",
       "      <td>False</td>\n",
       "      <td>2</td>\n",
       "      <td>3586</td>\n",
       "      <td>12.016427</td>\n",
       "      <td>1.581169</td>\n",
       "      <td>12.016427</td>\n",
       "      <td>4.305989</td>\n",
       "      <td>19</td>\n",
       "      <td>high</td>\n",
       "      <td>very_central</td>\n",
       "    </tr>\n",
       "    <tr>\n",
       "      <th>1</th>\n",
       "      <td>262961</td>\n",
       "      <td>https://www.airbnb.com/rooms/262961</td>\n",
       "      <td>If you are looking for a large apartment in ce...</td>\n",
       "      <td>1379904</td>\n",
       "      <td>never</td>\n",
       "      <td>1.0</td>\n",
       "      <td>Nørrebro</td>\n",
       "      <td>3</td>\n",
       "      <td>True</td>\n",
       "      <td>True</td>\n",
       "      <td>...</td>\n",
       "      <td>False</td>\n",
       "      <td>2</td>\n",
       "      <td>3734</td>\n",
       "      <td>11.616701</td>\n",
       "      <td>3.098987</td>\n",
       "      <td>11.616701</td>\n",
       "      <td>4.246610</td>\n",
       "      <td>36</td>\n",
       "      <td>high</td>\n",
       "      <td>very_central</td>\n",
       "    </tr>\n",
       "    <tr>\n",
       "      <th>2</th>\n",
       "      <td>263036</td>\n",
       "      <td>https://www.airbnb.com/rooms/263036</td>\n",
       "      <td>None</td>\n",
       "      <td>1232471</td>\n",
       "      <td>within a few hours</td>\n",
       "      <td>0.0</td>\n",
       "      <td>Nørrebro</td>\n",
       "      <td>1</td>\n",
       "      <td>True</td>\n",
       "      <td>True</td>\n",
       "      <td>...</td>\n",
       "      <td>False</td>\n",
       "      <td>2</td>\n",
       "      <td>3734</td>\n",
       "      <td>11.583847</td>\n",
       "      <td>1.812869</td>\n",
       "      <td>11.583847</td>\n",
       "      <td>4.196258</td>\n",
       "      <td>21</td>\n",
       "      <td>medium</td>\n",
       "      <td>central</td>\n",
       "    </tr>\n",
       "  </tbody>\n",
       "</table>\n",
       "<p>3 rows × 39 columns</p>\n",
       "</div>"
      ],
      "text/plain": [
       "       id                          listing_url  \\\n",
       "0   31094   https://www.airbnb.com/rooms/31094   \n",
       "1  262961  https://www.airbnb.com/rooms/262961   \n",
       "2  263036  https://www.airbnb.com/rooms/263036   \n",
       "\n",
       "                                         description  host_id  \\\n",
       "0  Welcome to our home, we hope you will enjoy Wo...   129976   \n",
       "1  If you are looking for a large apartment in ce...  1379904   \n",
       "2                                               None  1232471   \n",
       "\n",
       "   host_response_time  host_acceptance_rate_pct host_neighbourhood  \\\n",
       "0               never                       0.0          Vesterbro   \n",
       "1               never                       1.0           Nørrebro   \n",
       "2  within a few hours                       0.0           Nørrebro   \n",
       "\n",
       "   host_total_listings_count  host_has_profile_pic  host_identity_verified  \\\n",
       "0                          1                  True                    True   \n",
       "1                          3                  True                    True   \n",
       "2                          1                  True                    True   \n",
       "\n",
       "   ...  superhost  host_verifications_count listings_in_neighborhood  \\\n",
       "0  ...      False                         2                     3586   \n",
       "1  ...      False                         2                     3734   \n",
       "2  ...      False                         2                     3734   \n",
       "\n",
       "  host_experience_years  yearly_review  active_period_years  avg_sentiment  \\\n",
       "0             12.016427       1.581169            12.016427       4.305989   \n",
       "1             11.616701       3.098987            11.616701       4.246610   \n",
       "2             11.583847       1.812869            11.583847       4.196258   \n",
       "\n",
       "   n_bookings  amenity_category  location_category  \n",
       "0          19              high       very_central  \n",
       "1          36              high       very_central  \n",
       "2          21            medium            central  \n",
       "\n",
       "[3 rows x 39 columns]"
      ]
     },
     "execution_count": 15,
     "metadata": {},
     "output_type": "execute_result"
    }
   ],
   "source": [
    "print(lis_df.info())\n",
    "lis_df[:3]"
   ]
  },
  {
   "cell_type": "code",
   "execution_count": null,
   "metadata": {},
   "outputs": [],
   "source": [
    "\n",
    "print(rev_df.info())\n",
    "rev_df[:3]"
   ]
  },
  {
   "cell_type": "markdown",
   "metadata": {},
   "source": [
    "---"
   ]
  },
  {
   "cell_type": "code",
   "execution_count": 130,
   "metadata": {},
   "outputs": [],
   "source": [
    "# Aggregate reviews before merging\n",
    "reviews_agg = rev_df.groupby('listing_id').agg({\n",
    "    'date': lambda x: (x.max() - x.min()).days / 365.25,  # Get range of dates\n",
    "    'sentiment_score_1_5': 'mean',  # Average sentiment and count\n",
    "    'reviewer_id': 'nunique' \n",
    "}).rename(columns={\n",
    "    'date': 'active_period_years',\n",
    "    'sentiment_score_1_5': 'avg_sentiment',\n",
    "    'reviewer_id': 'n_bookings'\n",
    "}).reset_index()\n",
    "\n",
    "# Merge with listings (now one-to-one)\n",
    "lis_1t1 = lis_df.merge(\n",
    "    reviews_agg,\n",
    "    left_on='id',\n",
    "    right_on='listing_id',\n",
    "    how='left'\n",
    ")"
   ]
  },
  {
   "cell_type": "markdown",
   "metadata": {},
   "source": [
    "### smth"
   ]
  },
  {
   "cell_type": "code",
   "execution_count": null,
   "metadata": {},
   "outputs": [],
   "source": [
    "lis_1t1[['id','review_scores_rating','avg_sentiment']]"
   ]
  },
  {
   "cell_type": "code",
   "execution_count": null,
   "metadata": {},
   "outputs": [],
   "source": [
    "# lis_1t1.drop(columns=[ 'host_identity_verified', 'instant_bookable'], inplace=True)\n",
    "# lis_1t1.info()"
   ]
  },
  {
   "cell_type": "code",
   "execution_count": null,
   "metadata": {},
   "outputs": [],
   "source": [
    "# 'host_has_profile_pic', 'description'"
   ]
  },
  {
   "cell_type": "code",
   "execution_count": null,
   "metadata": {},
   "outputs": [],
   "source": [
    "#'host_acceptance_rate_pct',"
   ]
  },
  {
   "cell_type": "code",
   "execution_count": null,
   "metadata": {},
   "outputs": [],
   "source": [
    "lis_1t1.drop(columns=['name','description','host_response_rate_pct','neighbourhood_cleansed',  'has_availability', 'listing_id', 'host_since'], inplace=True) \n",
    "\n",
    "lis_1t1.drop(columns=['price_vs_room_type', 'price_per_person', 'price_per_bedroom', 'neighborhood_avg_price','price_vs_neighborhood','room_type_avg_price', 'host_listings_ratio' ], inplace=True)\n",
    "lis_1t1.info()"
   ]
  },
  {
   "cell_type": "code",
   "execution_count": null,
   "metadata": {},
   "outputs": [],
   "source": [
    "lis_df['host_identity_verified']"
   ]
  },
  {
   "cell_type": "code",
   "execution_count": null,
   "metadata": {},
   "outputs": [],
   "source": [
    "reviews = rev_df.groupby('listing_id')[['date', 'sentiment_score_1_5', 'comments', 'reviewer_id']].reset_index()\n",
    "\n",
    "# Merge with listings\n",
    "lis_df = lis_df.merge(\n",
    "    reviews,\n",
    "    left_on='id',\n",
    "    right_on='listing_id',\n",
    "    how='left'\n",
    ")"
   ]
  },
  {
   "cell_type": "code",
   "execution_count": null,
   "metadata": {},
   "outputs": [],
   "source": [
    "rev_df[rev_df['listing_id'] == 1188302911099164911]['comments']"
   ]
  },
  {
   "cell_type": "code",
   "execution_count": null,
   "metadata": {},
   "outputs": [],
   "source": [
    "# Count missing avg_sentiment values\n",
    "missing_sentiment = lis_1t1['avg_sentiment'].isna().sum()\n",
    "total_rows = len(lis_1t1)\n",
    "print(f\"Missing sentiment scores: {missing_sentiment} out of {total_rows} rows ({missing_sentiment/total_rows:.1%})\")"
   ]
  },
  {
   "cell_type": "code",
   "execution_count": null,
   "metadata": {},
   "outputs": [],
   "source": [
    "# Count missing review_scores_rating values\n",
    "missing_ratings = lis_1t1['review_scores_rating'].isna().sum()\n",
    "total_rows = len(lis_1t1)\n",
    "print(f\"Missing review scores: {missing_ratings} out of {total_rows} rows ({missing_ratings/total_rows:.1%})\")\n"
   ]
  },
  {
   "cell_type": "code",
   "execution_count": null,
   "metadata": {},
   "outputs": [],
   "source": [
    "review_columns = [col for col in lis_df.columns if 'review' in col.lower()]\n",
    "print(\"Columns containing 'review':\")\n",
    "for col in review_columns:\n",
    "    print(f\"- {col}\")\n"
   ]
  },
  {
   "cell_type": "code",
   "execution_count": null,
   "metadata": {},
   "outputs": [],
   "source": [
    "#TODO in SQL\n",
    "# Response Quality: encode ordinal rating of each possible response time category\n",
    "# lis_df['host_response_time']\n",
    "\n",
    "# How many listings a host own (listings_count)"
   ]
  },
  {
   "cell_type": "code",
   "execution_count": null,
   "metadata": {},
   "outputs": [],
   "source": [
    "def analyze_missing_values(df, df_name):\n",
    "    # Calculate missing values\n",
    "    missing = df.isnull().sum()\n",
    "    missing_percent = (df.isnull().sum() / len(df)) * 100\n",
    "    \n",
    "    # Create a summary DataFrame\n",
    "    missing_info = pd.DataFrame({\n",
    "        'Missing Values': missing,\n",
    "        'Missing Percentage': missing_percent.round(2)\n",
    "    })\n",
    "    \n",
    "    # Only show columns with missing values, sorted by percentage\n",
    "    missing_info = missing_info[missing_info['Missing Values'] > 0].sort_values(\n",
    "        'Missing Percentage', ascending=False\n",
    "    )\n",
    "    \n",
    "    print(f\"\\nMissing Values Analysis for {df_name}:\")\n",
    "    print(\"-\" * 50)\n",
    "    if len(missing_info) > 0:\n",
    "        print(missing_info)\n",
    "    else:\n",
    "        print(\"No missing values found!\")\n",
    "    print(f\"\\nTotal rows in dataset: {len(df)}\")\n",
    "\n",
    "# Analyze both datasets\n",
    "analyze_missing_values(lis_df, \"Listings\")\n",
    "analyze_missing_values(rev_df, \"Reviews\")"
   ]
  },
  {
   "cell_type": "code",
   "execution_count": null,
   "metadata": {},
   "outputs": [],
   "source": [
    "# Check missing values in reviews.comments\n",
    "print(\"\\nMissing values in reviews.beds:\")\n",
    "print(f\"Number of missing beds: {lis_df['beds'].isna().sum()}\")\n",
    "print(f\"Percentage missing: {(lis_df['beds'].isna().sum() / len(lis_df) * 100):.2f}%\")\n",
    "\n",
    "# Show sample of reviews with missing comments\n",
    "print(\"\\nSample of reviews with missing beds:\")\n",
    "display(lis_df[lis_df['beds'].isna()].head())\n",
    "# Display beds and bathrooms for rows where beds are missing\n",
    "print(\"\\nBeds and bathrooms for listings with missing beds:\")\n",
    "display(lis_df[lis_df['beds'].isna()][['beds', 'bathrooms', 'bathrooms_text']])\n",
    "\n"
   ]
  },
  {
   "cell_type": "code",
   "execution_count": null,
   "metadata": {},
   "outputs": [],
   "source": [
    "lis_df[lis_df.columns[lis_df.columns.str.contains('reviews_')]]"
   ]
  },
  {
   "cell_type": "code",
   "execution_count": null,
   "metadata": {},
   "outputs": [],
   "source": [
    "# Handle half baths and NAs in bathrooms_text\n",
    "# First convert to float to avoid dtype warning\n",
    "half_bath_mask = lis_df['bathrooms_text'].isin(['Half-bath', 'Shared half-bath', 'Private half-bath'])\n",
    "lis_df.loc[half_bath_mask, 'bathrooms_text'] = lis_df.loc[half_bath_mask, 'bathrooms_text'].astype(float).fillna(0.5)\n",
    "\n",
    "# Handle NAs with explicit float conversion\n",
    "lis_df['bathrooms_text'] = lis_df['bathrooms_text'].astype(float).fillna(0.0)\n",
    "\n",
    "# Extract numeric values from bathrooms_text\n",
    "# Convert to string first before using str accessor\n",
    "lis_df['bathrooms_text'] = lis_df['bathrooms_text'].astype(str).str.extract(r'^(\\d+\\.?\\d?)').astype(float)\n",
    "\n",
    "# Fill NaN bathrooms values with bathrooms_text values\n",
    "lis_df.loc[lis_df['bathrooms'].isna(), 'bathrooms'] = lis_df.loc[lis_df['bathrooms'].isna(), 'bathrooms_text']\n",
    "print(len(lis_df['bathrooms_text'].unique()), lis_df['bathrooms_text'].unique())"
   ]
  },
  {
   "cell_type": "code",
   "execution_count": null,
   "metadata": {},
   "outputs": [],
   "source": []
  },
  {
   "cell_type": "code",
   "execution_count": null,
   "metadata": {},
   "outputs": [],
   "source": [
    "lis_df['bathrooms_text'].unique()\n",
    "# Aggregate reviews before merging\n",
    "lis_df[['bathrooms', 'bathrooms_text']].dtypes\n",
    "\n",
    "# Show sample where bathrooms and bathrooms_text values differ and get total count\n",
    "diff_bath = lis_df[['bathrooms', 'bathrooms_text']].loc[lis_df['bathrooms'] != lis_df['bathrooms_text']]\n",
    "print(f\"Total rows with different values: {len(diff_bath)}\")\n",
    "print(\"\\nSample of differences:\")\n",
    "display(diff_bath[:5])"
   ]
  },
  {
   "cell_type": "code",
   "execution_count": null,
   "metadata": {},
   "outputs": [],
   "source": [
    "# Fill NaN bathrooms values with bathrooms_text values\n",
    "lis_df.loc[lis_df['bathrooms'].isna(), 'bathrooms'] = lis_df.loc[lis_df['bathrooms'].isna(), 'bathrooms_text']"
   ]
  },
  {
   "cell_type": "markdown",
   "metadata": {},
   "source": [
    "___"
   ]
  },
  {
   "cell_type": "code",
   "execution_count": 2,
   "metadata": {},
   "outputs": [],
   "source": [
    "import pandas as pd"
   ]
  },
  {
   "cell_type": "code",
   "execution_count": null,
   "metadata": {},
   "outputs": [],
   "source": [
    "rev_df = pd.read_parquet('data/processed/03_reviews.parquet')\n",
    "rev_s = pd.read_parquet('data/processed/04_sentiment_bert.parquet')"
   ]
  },
  {
   "cell_type": "code",
   "execution_count": null,
   "metadata": {},
   "outputs": [],
   "source": [
    "rev_df.sort_values('id')[:2]"
   ]
  },
  {
   "cell_type": "code",
   "execution_count": null,
   "metadata": {},
   "outputs": [],
   "source": [
    "rev_s.sort_values('id')[:2]"
   ]
  },
  {
   "cell_type": "code",
   "execution_count": null,
   "metadata": {},
   "outputs": [],
   "source": [
    "\n",
    "len(rev_s['sentiment_score_1_5'].unique())"
   ]
  },
  {
   "cell_type": "markdown",
   "metadata": {},
   "source": [
    "___"
   ]
  },
  {
   "cell_type": "code",
   "execution_count": null,
   "metadata": {},
   "outputs": [],
   "source": [
    "# Find all columns containing 'host_listings' or matching 'host_total_listings_count'\n",
    "host_listing_cols = [col for col in lis_df.columns if 'host_listings' in col or col == 'host_total_listings_count']\n",
    "print(\"Columns containing 'host_listings' or 'host_total_listings_count':\")\n",
    "print(host_listing_cols)"
   ]
  },
  {
   "cell_type": "code",
   "execution_count": null,
   "metadata": {},
   "outputs": [],
   "source": [
    "lis_df[host_listing_cols][:5]"
   ]
  },
  {
   "cell_type": "code",
   "execution_count": null,
   "metadata": {},
   "outputs": [],
   "source": [
    "# Compare the three different host listing count columns\n",
    "listing_counts = lis_df[['host_listings_count', 'host_total_listings_count', 'calculated_host_listings_count']]\n",
    "\n",
    "# Find cases where they are all equal\n",
    "all_equal = (listing_counts['host_listings_count'] == listing_counts['host_total_listings_count']) & \\\n",
    "            (listing_counts['host_total_listings_count'] == listing_counts['calculated_host_listings_count'])\n",
    "\n",
    "print(\"Cases where all counts are equal:\", sum(all_equal))\n",
    "print(\"\\nCases where counts differ:\")\n",
    "print(listing_counts[~all_equal].head())\n",
    "print(f\"\\nTotal cases where counts differ: {sum(~all_equal)}\")\n",
    "\n",
    "# Check if host_total_listings_count is always the largest\n",
    "is_largest = (listing_counts['host_total_listings_count'] >= listing_counts['host_listings_count']) & \\\n",
    "             (listing_counts['host_total_listings_count'] >= listing_counts['calculated_host_listings_count'])\n",
    "print(f\"\\nIs host_total_listings_count always the largest? {is_largest.all()}\")\n",
    "\n",
    "if not is_largest.all():\n",
    "    print(\"\\nCases where host_total_listings_count is not the largest:\")\n",
    "    print(listing_counts[~is_largest].head())\n"
   ]
  },
  {
   "cell_type": "markdown",
   "metadata": {},
   "source": [
    "___"
   ]
  },
  {
   "cell_type": "markdown",
   "metadata": {},
   "source": [
    "___"
   ]
  },
  {
   "cell_type": "markdown",
   "metadata": {},
   "source": [
    "Various types of analyses to understand the data better and to prepare for the database design."
   ]
  },
  {
   "cell_type": "code",
   "execution_count": null,
   "metadata": {},
   "outputs": [],
   "source": [
    "price_cols = [col for col in lis_df.columns if col.startswith('yearly')]\n",
    "print(\"Price-related columns:\", price_cols)"
   ]
  },
  {
   "cell_type": "code",
   "execution_count": null,
   "metadata": {},
   "outputs": [],
   "source": [
    "lis_df['days_since_last_review']"
   ]
  },
  {
   "cell_type": "code",
   "execution_count": null,
   "metadata": {},
   "outputs": [],
   "source": [
    "review_cols = ['total_reviews', 'number_of_reviews', 'reviews_per_month', 'number_of_reviews_l30d', 'yearly_review', 'number_of_reviews_ltm']\n",
    "print(\"Review-related columns from listings:\")\n",
    "print(lis_df[review_cols].head())"
   ]
  },
  {
   "cell_type": "code",
   "execution_count": null,
   "metadata": {},
   "outputs": [],
   "source": []
  }
 ],
 "metadata": {
  "kernelspec": {
   "display_name": "base",
   "language": "python",
   "name": "python3"
  },
  "language_info": {
   "codemirror_mode": {
    "name": "ipython",
    "version": 3
   },
   "file_extension": ".py",
   "mimetype": "text/x-python",
   "name": "python",
   "nbconvert_exporter": "python",
   "pygments_lexer": "ipython3",
   "version": "3.11.8"
  }
 },
 "nbformat": 4,
 "nbformat_minor": 2
}
