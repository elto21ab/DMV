{
 "cells": [
  {
   "cell_type": "markdown",
   "metadata": {},
   "source": [
    "# Advanced Data Analysis"
   ]
  },
  {
   "cell_type": "code",
   "execution_count": null,
   "metadata": {},
   "outputs": [],
   "source": [
    "import pandas as pd\n",
    "lis_df = pd.read_parquet('data/processed/03_listings.parquet') \n",
    "rev_df = pd.read_parquet('data/processed/03_reviews.parquet')\n",
    "print(\"Listings shape:\", lis_df.shape)\n",
    "print(\"Reviews shape:\", rev_df.shape)"
   ]
  },
  {
   "cell_type": "code",
   "execution_count": null,
   "metadata": {},
   "outputs": [],
   "source": [
    "rev_df.head()"
   ]
  },
  {
   "cell_type": "code",
   "execution_count": null,
   "metadata": {},
   "outputs": [],
   "source": [
    "lis_df[['neighbourhood','host_neighbourhood', 'neighbourhood_cleansed','host_location']][:20]\n",
    "# lis_df['neighbourhood'].unique()\n",
    "# lis_df['host_neighbourhood'].unique()\n",
    "# lis_df['neighbourhood_cleansed'].unique()\n",
    "# "
   ]
  },
  {
   "cell_type": "code",
   "execution_count": 64,
   "metadata": {},
   "outputs": [],
   "source": [
    "# Drop neighbourhood and host_location columns\n",
    "lis_df = lis_df.drop(['neighbourhood', 'host_location'], axis=1)\n"
   ]
  },
  {
   "cell_type": "code",
   "execution_count": null,
   "metadata": {},
   "outputs": [],
   "source": [
    "lis_df['neighbourhood_cleansed'].unique()"
   ]
  },
  {
   "cell_type": "code",
   "execution_count": null,
   "metadata": {},
   "outputs": [],
   "source": [
    "lis_df['host_neighbourhood'].unique()"
   ]
  },
  {
   "cell_type": "code",
   "execution_count": null,
   "metadata": {},
   "outputs": [],
   "source": [
    "# Count mismatches between host_neighbourhood and neighbourhood_cleansed\n",
    "mismatch_count = len(lis_df[lis_df['host_neighbourhood'] != lis_df['neighbourhood_cleansed']])\n",
    "print(f\"Number of rows where host_neighbourhood differs from neighbourhood_cleansed: {mismatch_count}\")\n",
    "\n",
    "# Show sample of mismatched rows\n",
    "print(\"\\nSample of mismatched rows:\")\n",
    "print(lis_df[lis_df['host_neighbourhood'] != lis_df['neighbourhood_cleansed']]\n",
    "      [['host_neighbourhood', 'neighbourhood_cleansed']]\n",
    "      .head()\n",
    "      .to_string())"
   ]
  },
  {
   "cell_type": "code",
   "execution_count": null,
   "metadata": {},
   "outputs": [],
   "source": [
    "# Show all neighbourhood columns for listings where host_neighbourhood is 'Hackney'\n",
    "print(\"Listings where host_neighbourhood is 'Hackney':\")\n",
    "print(lis_df[lis_df['host_neighbourhood'] == 'Hackney']\n",
    "      [['host_neighbourhood', 'neighbourhood', 'neighbourhood_cleansed','host_location']]\n",
    "      .to_string())\n",
    "      "
   ]
  },
  {
   "cell_type": "code",
   "execution_count": null,
   "metadata": {},
   "outputs": [],
   "source": [
    "# Fix Danish character encodings in neighbourhood_cleansed\n",
    "mapping = {\n",
    "    'Nrrebro': 'Nørrebro',\n",
    "    'sterbro': 'Østerbro', \n",
    "    'Vanlse': 'Vanløse',\n",
    "    'Brnshj-Husum': 'Brønshøj',\n",
    "    'Vesterbro-Kongens Enghave': 'Vesterbro',\n",
    "}\n",
    "\n",
    "# Update Vesterbro-Kongens Enghave to Vesterbro\n",
    "# lis_df['host_neighbourhood'] = lis_df['host_neighbourhood'].replace('Vesterbro-Kongens Enghave', 'Vesterbro')\n",
    "\n",
    "lis_df['neighbourhood_cleansed'] = lis_df['neighbourhood_cleansed'].replace(mapping)\n",
    "lis_df['neighbourhood_cleansed'].unique()\n",
    "\n",
    "\n",
    "non_cph_neighborhoods = ['', 'Nyboder', 'Niagara','6th Arrondissement', 'Södermalm','Embajadores', 'Batignolles', 'Montmartre', 'Vesturbær', 'Passy', 'Almagro','Clinton Hill', 'Jakkur Layout', 'Jardim das Bandeiras', 'Williamsburg', 'Notting Hill', 'Belém', 'Campo Belo', 'El Madroñal', 'Alphabet City', 'Buzovna', 'Bastille']\n",
    "\n",
    "# Count listings for each non-Copenhagen neighborhood\n",
    "non_cph_counts = lis_df[lis_df['host_neighbourhood'].isin(non_cph_neighborhoods)]['host_neighbourhood'].value_counts()\n",
    "\n",
    "print(\"Number of listings in each non-Copenhagen neighborhood:\")\n",
    "print(non_cph_counts)\n",
    "\n",
    "print(\"\\nTotal number of listings with non-Copenhagen neighborhoods:\", \n",
    "      len(lis_df[lis_df['host_neighbourhood'].isin(non_cph_neighborhoods)]))\n",
    "\n",
    "\n",
    "# Remap Hackney to Nørrebro\n",
    "lis_df.loc[lis_df['host_neighbourhood'] == 'Hackney', 'host_neighbourhood'] = 'Nørrebro'\n",
    "\n",
    "# Replace empty host_neighbourhood values with corresponding neighbourhood_cleansed values\n",
    "lis_df.loc[lis_df['host_neighbourhood'] == '', 'host_neighbourhood'] = lis_df.loc[lis_df['host_neighbourhood'] == '', 'neighbourhood_cleansed']\n",
    "\n",
    "# Get neighborhoods with count < 9 from non_cph_counts\n",
    "small_non_cph = non_cph_counts[non_cph_counts < 9].index\n",
    "\n",
    "# Show the rows before changes\n",
    "print(\"Before changes:\")\n",
    "print(lis_df[lis_df['host_neighbourhood'].isin(small_non_cph)]\n",
    "      [['host_neighbourhood', 'neighbourhood', 'neighbourhood_cleansed']]\n",
    "      .to_string())\n",
    "\n",
    "# Update host_neighbourhood to match neighbourhood_cleansed where host_neighbourhood is in small_non_cph\n",
    "mask = lis_df['host_neighbourhood'].isin(small_non_cph)\n",
    "lis_df.loc[mask, 'host_neighbourhood'] = lis_df.loc[mask, 'neighbourhood_cleansed']\n",
    "\n",
    "print(\"\\nAfter changes:\")\n",
    "print(lis_df[lis_df['host_neighbourhood'].isin(small_non_cph)]\n",
    "      [['host_neighbourhood', 'neighbourhood', 'neighbourhood_cleansed']]\n",
    "      .to_string())\n"
   ]
  },
  {
   "cell_type": "code",
   "execution_count": null,
   "metadata": {},
   "outputs": [],
   "source": [
    "# Check missing values in host_neighbourhood\n",
    "print(\"Number of missing values in host_neighbourhood:\", lis_df['host_neighbourhood'].isna().sum())\n",
    "print(\"\\nPercentage of missing values:\", (lis_df['host_neighbourhood'].isna().sum() / len(lis_df) * 100).round(2), \"%\")\n",
    "\n",
    "# Compare with neighbourhood_cleansed values where host_neighbourhood is missing\n",
    "print(\"\\nSample of rows with missing host_neighbourhood:\")\n",
    "print(lis_df[lis_df['host_neighbourhood'].isna()][['neighbourhood_cleansed', 'host_neighbourhood', 'neighbourhood']][:5])\n"
   ]
  },
  {
   "cell_type": "markdown",
   "metadata": {},
   "source": [
    "___"
   ]
  },
  {
   "cell_type": "code",
   "execution_count": null,
   "metadata": {},
   "outputs": [],
   "source": [
    "lis_df.info()"
   ]
  },
  {
   "cell_type": "code",
   "execution_count": null,
   "metadata": {},
   "outputs": [],
   "source": [
    "lis_df['calendar_last_scraped'][:2]"
   ]
  },
  {
   "cell_type": "code",
   "execution_count": null,
   "metadata": {},
   "outputs": [],
   "source": [
    "lis_df.drop(['last_scraped', 'source', 'host_response_rate_pct', ], axis=1, inplace=True)"
   ]
  },
  {
   "cell_type": "markdown",
   "metadata": {},
   "source": [
    "___"
   ]
  },
  {
   "cell_type": "code",
   "execution_count": null,
   "metadata": {},
   "outputs": [],
   "source": [
    "# Find all columns containing 'host_listings' or matching 'host_total_listings_count'\n",
    "host_listing_cols = [col for col in lis_df.columns if 'host_listings' in col or col == 'host_total_listings_count']\n",
    "print(\"Columns containing 'host_listings' or 'host_total_listings_count':\")\n",
    "print(host_listing_cols)"
   ]
  },
  {
   "cell_type": "code",
   "execution_count": null,
   "metadata": {},
   "outputs": [],
   "source": [
    "lis_df[host_listing_cols][:5]"
   ]
  },
  {
   "cell_type": "code",
   "execution_count": null,
   "metadata": {},
   "outputs": [],
   "source": [
    "# Compare the three different host listing count columns\n",
    "listing_counts = lis_df[['host_listings_count', 'host_total_listings_count', 'calculated_host_listings_count']]\n",
    "\n",
    "# Find cases where they are all equal\n",
    "all_equal = (listing_counts['host_listings_count'] == listing_counts['host_total_listings_count']) & \\\n",
    "            (listing_counts['host_total_listings_count'] == listing_counts['calculated_host_listings_count'])\n",
    "\n",
    "print(\"Cases where all counts are equal:\", sum(all_equal))\n",
    "print(\"\\nCases where counts differ:\")\n",
    "print(listing_counts[~all_equal].head())\n",
    "print(f\"\\nTotal cases where counts differ: {sum(~all_equal)}\")\n",
    "\n",
    "# Check if host_total_listings_count is always the largest\n",
    "is_largest = (listing_counts['host_total_listings_count'] >= listing_counts['host_listings_count']) & \\\n",
    "             (listing_counts['host_total_listings_count'] >= listing_counts['calculated_host_listings_count'])\n",
    "print(f\"\\nIs host_total_listings_count always the largest? {is_largest.all()}\")\n",
    "\n",
    "if not is_largest.all():\n",
    "    print(\"\\nCases where host_total_listings_count is not the largest:\")\n",
    "    print(listing_counts[~is_largest].head())\n"
   ]
  },
  {
   "cell_type": "markdown",
   "metadata": {},
   "source": [
    "___"
   ]
  },
  {
   "cell_type": "code",
   "execution_count": null,
   "metadata": {},
   "outputs": [],
   "source": [
    "# Verify host_response_rate_pct is always 0 when host_response_time is empty\n",
    "empty_response_time = lis_df[lis_df['host_response_time'] == '']\n",
    "print(\"\\nHost response rates when response time is empty:\")\n",
    "print(empty_response_time['host_response_rate_pct'].value_counts())\n",
    "print(f\"\\nAll zeros? {(empty_response_time['host_response_rate_pct'] == 0).all()}\")\n",
    "\n",
    "# Remap empty strings to 'never' where host_response_rate_pct is 0\n",
    "lis_df.loc[(lis_df['host_response_time'] == '') & (lis_df['host_response_rate_pct'] == 0), 'host_response_time'] = 'never'\n",
    "\n",
    "lis_df['host_response_time'].unique()"
   ]
  },
  {
   "cell_type": "markdown",
   "metadata": {},
   "source": [
    "Various types of analyses to understand the data better and to prepare for the database design."
   ]
  },
  {
   "cell_type": "code",
   "execution_count": null,
   "metadata": {},
   "outputs": [],
   "source": [
    "price_cols = [col for col in lis_df.columns if col.startswith('yearly')]\n",
    "print(\"Price-related columns:\", price_cols)"
   ]
  },
  {
   "cell_type": "code",
   "execution_count": null,
   "metadata": {},
   "outputs": [],
   "source": [
    "lis_df['days_since_last_review']"
   ]
  },
  {
   "cell_type": "code",
   "execution_count": null,
   "metadata": {},
   "outputs": [],
   "source": [
    "review_cols = ['total_reviews', 'number_of_reviews', 'reviews_per_month', 'number_of_reviews_l30d', 'yearly_review', 'number_of_reviews_ltm']\n",
    "print(\"Review-related columns from listings:\")\n",
    "print(lis_df[review_cols].head())"
   ]
  },
  {
   "cell_type": "code",
   "execution_count": null,
   "metadata": {},
   "outputs": [],
   "source": []
  }
 ],
 "metadata": {
  "kernelspec": {
   "display_name": "base",
   "language": "python",
   "name": "python3"
  },
  "language_info": {
   "codemirror_mode": {
    "name": "ipython",
    "version": 3
   },
   "file_extension": ".py",
   "mimetype": "text/x-python",
   "name": "python",
   "nbconvert_exporter": "python",
   "pygments_lexer": "ipython3",
   "version": "3.11.8"
  }
 },
 "nbformat": 4,
 "nbformat_minor": 2
}
