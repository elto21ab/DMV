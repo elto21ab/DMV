{
 "cells": [
  {
   "cell_type": "markdown",
   "metadata": {},
   "source": [
    "# Advanced Data Analysis"
   ]
  },
  {
   "cell_type": "code",
   "execution_count": 1,
   "metadata": {},
   "outputs": [
    {
     "name": "stdout",
     "output_type": "stream",
     "text": [
      "Listings shape: (20905, 35)\n",
      "Reviews shape: (366636, 6)\n"
     ]
    }
   ],
   "source": [
    "import pandas as pd\n",
    "lis_df = pd.read_parquet('data/processed/05_listings.parquet') \n",
    "rev_df = pd.read_parquet('data/processed/05_sentiment_bert.parquet')\n",
    "print(\"Listings shape:\", lis_df.shape)\n",
    "print(\"Reviews shape:\", rev_df.shape)"
   ]
  },
  {
   "cell_type": "code",
   "execution_count": 2,
   "metadata": {},
   "outputs": [
    {
     "name": "stdout",
     "output_type": "stream",
     "text": [
      "\n",
      "Missing Values Analysis for Listings:\n",
      "--------------------------------------------------\n",
      "                   Missing Values  Missing Percentage\n",
      "beds                         7249               34.68\n",
      "reviews_per_month            3218               15.39\n",
      "bedrooms                      609                2.91\n",
      "\n",
      "Total rows in dataset: 20905\n",
      "\n",
      "Missing Values Analysis for Reviews:\n",
      "--------------------------------------------------\n",
      "          Missing Values  Missing Percentage\n",
      "comments              17                 0.0\n",
      "\n",
      "Total rows in dataset: 366636\n"
     ]
    }
   ],
   "source": [
    "def analyze_missing_values(df, df_name):\n",
    "    # Calculate missing values\n",
    "    missing = df.isnull().sum()\n",
    "    missing_percent = (df.isnull().sum() / len(df)) * 100\n",
    "    \n",
    "    # Create a summary DataFrame\n",
    "    missing_info = pd.DataFrame({\n",
    "        'Missing Values': missing,\n",
    "        'Missing Percentage': missing_percent.round(2)\n",
    "    })\n",
    "    \n",
    "    # Only show columns with missing values, sorted by percentage\n",
    "    missing_info = missing_info[missing_info['Missing Values'] > 0].sort_values(\n",
    "        'Missing Percentage', ascending=False\n",
    "    )\n",
    "    \n",
    "    print(f\"\\nMissing Values Analysis for {df_name}:\")\n",
    "    print(\"-\" * 50)\n",
    "    if len(missing_info) > 0:\n",
    "        print(missing_info)\n",
    "    else:\n",
    "        print(\"No missing values found!\")\n",
    "    print(f\"\\nTotal rows in dataset: {len(df)}\")\n",
    "\n",
    "# Analyze both datasets\n",
    "analyze_missing_values(lis_df, \"Listings\")\n",
    "analyze_missing_values(rev_df, \"Reviews\")"
   ]
  },
  {
   "cell_type": "code",
   "execution_count": 8,
   "metadata": {},
   "outputs": [
    {
     "name": "stdout",
     "output_type": "stream",
     "text": [
      "\n",
      "Missing values in reviews.beds:\n",
      "Number of missing beds: 7249\n",
      "Percentage missing: 34.68%\n",
      "\n",
      "Sample of reviews with missing beds:\n"
     ]
    },
    {
     "data": {
      "text/html": [
       "<div>\n",
       "<style scoped>\n",
       "    .dataframe tbody tr th:only-of-type {\n",
       "        vertical-align: middle;\n",
       "    }\n",
       "\n",
       "    .dataframe tbody tr th {\n",
       "        vertical-align: top;\n",
       "    }\n",
       "\n",
       "    .dataframe thead th {\n",
       "        text-align: right;\n",
       "    }\n",
       "</style>\n",
       "<table border=\"1\" class=\"dataframe\">\n",
       "  <thead>\n",
       "    <tr style=\"text-align: right;\">\n",
       "      <th></th>\n",
       "      <th>id</th>\n",
       "      <th>listing_url</th>\n",
       "      <th>host_id</th>\n",
       "      <th>host_response_time</th>\n",
       "      <th>host_acceptance_rate_pct</th>\n",
       "      <th>host_neighbourhood</th>\n",
       "      <th>host_total_listings_count</th>\n",
       "      <th>host_identity_verified</th>\n",
       "      <th>latitude</th>\n",
       "      <th>longitude</th>\n",
       "      <th>...</th>\n",
       "      <th>review_scores_value</th>\n",
       "      <th>instant_bookable</th>\n",
       "      <th>reviews_per_month</th>\n",
       "      <th>superhost</th>\n",
       "      <th>amenities_count</th>\n",
       "      <th>host_verifications_count</th>\n",
       "      <th>distance_to_center_km</th>\n",
       "      <th>listings_in_neighborhood</th>\n",
       "      <th>host_experience_years</th>\n",
       "      <th>yearly_review</th>\n",
       "    </tr>\n",
       "  </thead>\n",
       "  <tbody>\n",
       "    <tr>\n",
       "      <th>0</th>\n",
       "      <td>31094</td>\n",
       "      <td>https://www.airbnb.com/rooms/31094</td>\n",
       "      <td>129976</td>\n",
       "      <td>never</td>\n",
       "      <td>0.00</td>\n",
       "      <td>Vesterbro</td>\n",
       "      <td>1.0</td>\n",
       "      <td>True</td>\n",
       "      <td>55.666602</td>\n",
       "      <td>12.555283</td>\n",
       "      <td>...</td>\n",
       "      <td>4.53</td>\n",
       "      <td>False</td>\n",
       "      <td>0.11</td>\n",
       "      <td>False</td>\n",
       "      <td>56</td>\n",
       "      <td>2.0</td>\n",
       "      <td>1.788642</td>\n",
       "      <td>3586</td>\n",
       "      <td>12.016427</td>\n",
       "      <td>1.581169</td>\n",
       "    </tr>\n",
       "    <tr>\n",
       "      <th>5</th>\n",
       "      <td>264220</td>\n",
       "      <td>https://www.airbnb.com/rooms/264220</td>\n",
       "      <td>1386103</td>\n",
       "      <td>never</td>\n",
       "      <td>0.00</td>\n",
       "      <td>Amagerbro</td>\n",
       "      <td>8.0</td>\n",
       "      <td>False</td>\n",
       "      <td>55.661350</td>\n",
       "      <td>12.605310</td>\n",
       "      <td>...</td>\n",
       "      <td>3.50</td>\n",
       "      <td>False</td>\n",
       "      <td>0.03</td>\n",
       "      <td>False</td>\n",
       "      <td>1</td>\n",
       "      <td>2.0</td>\n",
       "      <td>4.422347</td>\n",
       "      <td>1572</td>\n",
       "      <td>1.839836</td>\n",
       "      <td>2.174107</td>\n",
       "    </tr>\n",
       "    <tr>\n",
       "      <th>6</th>\n",
       "      <td>32841</td>\n",
       "      <td>https://www.airbnb.com/rooms/32841</td>\n",
       "      <td>142143</td>\n",
       "      <td>never</td>\n",
       "      <td>0.00</td>\n",
       "      <td>Østerbro</td>\n",
       "      <td>1.0</td>\n",
       "      <td>True</td>\n",
       "      <td>55.711760</td>\n",
       "      <td>12.570910</td>\n",
       "      <td>...</td>\n",
       "      <td>4.50</td>\n",
       "      <td>False</td>\n",
       "      <td>0.04</td>\n",
       "      <td>False</td>\n",
       "      <td>10</td>\n",
       "      <td>2.0</td>\n",
       "      <td>3.968848</td>\n",
       "      <td>2247</td>\n",
       "      <td>6.143737</td>\n",
       "      <td>1.139372</td>\n",
       "    </tr>\n",
       "    <tr>\n",
       "      <th>8</th>\n",
       "      <td>287737</td>\n",
       "      <td>https://www.airbnb.com/rooms/287737</td>\n",
       "      <td>1494596</td>\n",
       "      <td>within an hour</td>\n",
       "      <td>1.00</td>\n",
       "      <td>Nørrebro</td>\n",
       "      <td>2.0</td>\n",
       "      <td>True</td>\n",
       "      <td>55.697510</td>\n",
       "      <td>12.548260</td>\n",
       "      <td>...</td>\n",
       "      <td>4.63</td>\n",
       "      <td>False</td>\n",
       "      <td>0.39</td>\n",
       "      <td>False</td>\n",
       "      <td>22</td>\n",
       "      <td>3.0</td>\n",
       "      <td>3.255139</td>\n",
       "      <td>3734</td>\n",
       "      <td>10.658453</td>\n",
       "      <td>5.441690</td>\n",
       "    </tr>\n",
       "    <tr>\n",
       "      <th>10</th>\n",
       "      <td>300086</td>\n",
       "      <td>https://www.airbnb.com/rooms/300086</td>\n",
       "      <td>1482064</td>\n",
       "      <td>within an hour</td>\n",
       "      <td>0.77</td>\n",
       "      <td>København NV</td>\n",
       "      <td>1.0</td>\n",
       "      <td>True</td>\n",
       "      <td>55.698570</td>\n",
       "      <td>12.532560</td>\n",
       "      <td>...</td>\n",
       "      <td>4.66</td>\n",
       "      <td>False</td>\n",
       "      <td>0.26</td>\n",
       "      <td>False</td>\n",
       "      <td>34</td>\n",
       "      <td>2.0</td>\n",
       "      <td>4.686052</td>\n",
       "      <td>990</td>\n",
       "      <td>11.025325</td>\n",
       "      <td>3.174510</td>\n",
       "    </tr>\n",
       "  </tbody>\n",
       "</table>\n",
       "<p>5 rows × 35 columns</p>\n",
       "</div>"
      ],
      "text/plain": [
       "        id                          listing_url  host_id host_response_time  \\\n",
       "0    31094   https://www.airbnb.com/rooms/31094   129976              never   \n",
       "5   264220  https://www.airbnb.com/rooms/264220  1386103              never   \n",
       "6    32841   https://www.airbnb.com/rooms/32841   142143              never   \n",
       "8   287737  https://www.airbnb.com/rooms/287737  1494596     within an hour   \n",
       "10  300086  https://www.airbnb.com/rooms/300086  1482064     within an hour   \n",
       "\n",
       "    host_acceptance_rate_pct host_neighbourhood  host_total_listings_count  \\\n",
       "0                       0.00          Vesterbro                        1.0   \n",
       "5                       0.00          Amagerbro                        8.0   \n",
       "6                       0.00           Østerbro                        1.0   \n",
       "8                       1.00           Nørrebro                        2.0   \n",
       "10                      0.77       København NV                        1.0   \n",
       "\n",
       "    host_identity_verified   latitude  longitude  ... review_scores_value  \\\n",
       "0                     True  55.666602  12.555283  ...                4.53   \n",
       "5                    False  55.661350  12.605310  ...                3.50   \n",
       "6                     True  55.711760  12.570910  ...                4.50   \n",
       "8                     True  55.697510  12.548260  ...                4.63   \n",
       "10                    True  55.698570  12.532560  ...                4.66   \n",
       "\n",
       "   instant_bookable  reviews_per_month  superhost  amenities_count  \\\n",
       "0             False               0.11      False               56   \n",
       "5             False               0.03      False                1   \n",
       "6             False               0.04      False               10   \n",
       "8             False               0.39      False               22   \n",
       "10            False               0.26      False               34   \n",
       "\n",
       "    host_verifications_count  distance_to_center_km  listings_in_neighborhood  \\\n",
       "0                        2.0               1.788642                      3586   \n",
       "5                        2.0               4.422347                      1572   \n",
       "6                        2.0               3.968848                      2247   \n",
       "8                        3.0               3.255139                      3734   \n",
       "10                       2.0               4.686052                       990   \n",
       "\n",
       "    host_experience_years  yearly_review  \n",
       "0               12.016427       1.581169  \n",
       "5                1.839836       2.174107  \n",
       "6                6.143737       1.139372  \n",
       "8               10.658453       5.441690  \n",
       "10              11.025325       3.174510  \n",
       "\n",
       "[5 rows x 35 columns]"
      ]
     },
     "metadata": {},
     "output_type": "display_data"
    },
    {
     "name": "stdout",
     "output_type": "stream",
     "text": [
      "\n",
      "Beds and bathrooms for listings with missing beds:\n"
     ]
    },
    {
     "data": {
      "text/html": [
       "<div>\n",
       "<style scoped>\n",
       "    .dataframe tbody tr th:only-of-type {\n",
       "        vertical-align: middle;\n",
       "    }\n",
       "\n",
       "    .dataframe tbody tr th {\n",
       "        vertical-align: top;\n",
       "    }\n",
       "\n",
       "    .dataframe thead th {\n",
       "        text-align: right;\n",
       "    }\n",
       "</style>\n",
       "<table border=\"1\" class=\"dataframe\">\n",
       "  <thead>\n",
       "    <tr style=\"text-align: right;\">\n",
       "      <th></th>\n",
       "      <th>beds</th>\n",
       "      <th>bathrooms</th>\n",
       "      <th>bathrooms_text</th>\n",
       "    </tr>\n",
       "  </thead>\n",
       "  <tbody>\n",
       "    <tr>\n",
       "      <th>0</th>\n",
       "      <td>NaN</td>\n",
       "      <td>1.5</td>\n",
       "      <td>1.5</td>\n",
       "    </tr>\n",
       "    <tr>\n",
       "      <th>5</th>\n",
       "      <td>NaN</td>\n",
       "      <td>1.0</td>\n",
       "      <td>1.0</td>\n",
       "    </tr>\n",
       "    <tr>\n",
       "      <th>6</th>\n",
       "      <td>NaN</td>\n",
       "      <td>1.0</td>\n",
       "      <td>1.0</td>\n",
       "    </tr>\n",
       "    <tr>\n",
       "      <th>8</th>\n",
       "      <td>NaN</td>\n",
       "      <td>1.0</td>\n",
       "      <td>1.0</td>\n",
       "    </tr>\n",
       "    <tr>\n",
       "      <th>10</th>\n",
       "      <td>NaN</td>\n",
       "      <td>1.0</td>\n",
       "      <td>1.0</td>\n",
       "    </tr>\n",
       "    <tr>\n",
       "      <th>...</th>\n",
       "      <td>...</td>\n",
       "      <td>...</td>\n",
       "      <td>...</td>\n",
       "    </tr>\n",
       "    <tr>\n",
       "      <th>19970</th>\n",
       "      <td>NaN</td>\n",
       "      <td>1.0</td>\n",
       "      <td>1.0</td>\n",
       "    </tr>\n",
       "    <tr>\n",
       "      <th>19975</th>\n",
       "      <td>NaN</td>\n",
       "      <td>1.0</td>\n",
       "      <td>1.0</td>\n",
       "    </tr>\n",
       "    <tr>\n",
       "      <th>20009</th>\n",
       "      <td>NaN</td>\n",
       "      <td>1.0</td>\n",
       "      <td>1.0</td>\n",
       "    </tr>\n",
       "    <tr>\n",
       "      <th>20030</th>\n",
       "      <td>NaN</td>\n",
       "      <td>1.0</td>\n",
       "      <td>1.0</td>\n",
       "    </tr>\n",
       "    <tr>\n",
       "      <th>20076</th>\n",
       "      <td>NaN</td>\n",
       "      <td>1.0</td>\n",
       "      <td>1.0</td>\n",
       "    </tr>\n",
       "  </tbody>\n",
       "</table>\n",
       "<p>7249 rows × 3 columns</p>\n",
       "</div>"
      ],
      "text/plain": [
       "       beds  bathrooms  bathrooms_text\n",
       "0       NaN        1.5             1.5\n",
       "5       NaN        1.0             1.0\n",
       "6       NaN        1.0             1.0\n",
       "8       NaN        1.0             1.0\n",
       "10      NaN        1.0             1.0\n",
       "...     ...        ...             ...\n",
       "19970   NaN        1.0             1.0\n",
       "19975   NaN        1.0             1.0\n",
       "20009   NaN        1.0             1.0\n",
       "20030   NaN        1.0             1.0\n",
       "20076   NaN        1.0             1.0\n",
       "\n",
       "[7249 rows x 3 columns]"
      ]
     },
     "metadata": {},
     "output_type": "display_data"
    }
   ],
   "source": [
    "# Check missing values in reviews.comments\n",
    "print(\"\\nMissing values in reviews.beds:\")\n",
    "print(f\"Number of missing beds: {lis_df['beds'].isna().sum()}\")\n",
    "print(f\"Percentage missing: {(lis_df['beds'].isna().sum() / len(lis_df) * 100):.2f}%\")\n",
    "\n",
    "# Show sample of reviews with missing comments\n",
    "print(\"\\nSample of reviews with missing beds:\")\n",
    "display(lis_df[lis_df['beds'].isna()].head())\n",
    "# Display beds and bathrooms for rows where beds are missing\n",
    "print(\"\\nBeds and bathrooms for listings with missing beds:\")\n",
    "display(lis_df[lis_df['beds'].isna()][['beds', 'bathrooms', 'bathrooms_text']])\n",
    "\n"
   ]
  },
  {
   "cell_type": "code",
   "execution_count": null,
   "metadata": {},
   "outputs": [],
   "source": [
    "lis_df[lis_df.columns[lis_df.columns.str.contains('reviews_')]]"
   ]
  },
  {
   "cell_type": "code",
   "execution_count": null,
   "metadata": {},
   "outputs": [],
   "source": [
    "# Handle half baths and NAs in bathrooms_text\n",
    "# First convert to float to avoid dtype warning\n",
    "half_bath_mask = lis_df['bathrooms_text'].isin(['Half-bath', 'Shared half-bath', 'Private half-bath'])\n",
    "lis_df.loc[half_bath_mask, 'bathrooms_text'] = lis_df.loc[half_bath_mask, 'bathrooms_text'].astype(float).fillna(0.5)\n",
    "\n",
    "# Handle NAs with explicit float conversion\n",
    "lis_df['bathrooms_text'] = lis_df['bathrooms_text'].astype(float).fillna(0.0)\n",
    "\n",
    "# Extract numeric values from bathrooms_text\n",
    "# Convert to string first before using str accessor\n",
    "lis_df['bathrooms_text'] = lis_df['bathrooms_text'].astype(str).str.extract(r'^(\\d+\\.?\\d?)').astype(float)\n",
    "\n",
    "# Fill NaN bathrooms values with bathrooms_text values\n",
    "lis_df.loc[lis_df['bathrooms'].isna(), 'bathrooms'] = lis_df.loc[lis_df['bathrooms'].isna(), 'bathrooms_text']\n",
    "print(len(lis_df['bathrooms_text'].unique()), lis_df['bathrooms_text'].unique())"
   ]
  },
  {
   "cell_type": "code",
   "execution_count": null,
   "metadata": {},
   "outputs": [],
   "source": []
  },
  {
   "cell_type": "code",
   "execution_count": null,
   "metadata": {},
   "outputs": [],
   "source": [
    "lis_df['bathrooms_text'].unique()\n",
    "# Aggregate reviews before merging\n",
    "lis_df[['bathrooms', 'bathrooms_text']].dtypes\n",
    "\n",
    "# Show sample where bathrooms and bathrooms_text values differ and get total count\n",
    "diff_bath = lis_df[['bathrooms', 'bathrooms_text']].loc[lis_df['bathrooms'] != lis_df['bathrooms_text']]\n",
    "print(f\"Total rows with different values: {len(diff_bath)}\")\n",
    "print(\"\\nSample of differences:\")\n",
    "display(diff_bath[:5])\n"
   ]
  },
  {
   "cell_type": "code",
   "execution_count": 129,
   "metadata": {},
   "outputs": [],
   "source": [
    "# Fill NaN bathrooms values with bathrooms_text values\n",
    "lis_df.loc[lis_df['bathrooms'].isna(), 'bathrooms'] = lis_df.loc[lis_df['bathrooms'].isna(), 'bathrooms_text']\n"
   ]
  },
  {
   "cell_type": "code",
   "execution_count": 130,
   "metadata": {},
   "outputs": [],
   "source": [
    "# Aggregate reviews before merging\n",
    "reviews_agg = rev_df.groupby('listing_id').agg({\n",
    "    'date': lambda x: (x.max() - x.min()).days / 365.25,  # Get range of dates\n",
    "    'sentiment_score_1_5': 'mean',  # Average sentiment and count\n",
    "    'reviewer_id': 'nunique' \n",
    "}).rename(columns={\n",
    "    'date': 'active_period_years',\n",
    "    'sentiment_score_1_5': 'avg_sentiment',\n",
    "    'reviewer_id': 'n_commenters'\n",
    "}).reset_index()\n",
    "\n",
    "# Merge with listings (now one-to-one)\n",
    "lis_1t1 = lis_df.merge(\n",
    "    reviews_agg,\n",
    "    left_on='id',\n",
    "    right_on='listing_id',\n",
    "    how='left'\n",
    ")"
   ]
  },
  {
   "cell_type": "code",
   "execution_count": null,
   "metadata": {},
   "outputs": [],
   "source": [
    "#'host_acceptance_rate_pct',\n",
    "\n",
    "lis_1t1.drop(columns=['name','description','host_response_rate_pct','neighbourhood_cleansed',  'has_availability', 'listing_id', 'host_since', 'host_has_profile_pic'], inplace=True) \n",
    "lis_1t1.info()"
   ]
  },
  {
   "cell_type": "code",
   "execution_count": null,
   "metadata": {},
   "outputs": [],
   "source": [
    "lis_1t1.drop(columns=['name','description','host_response_rate_pct','neighbourhood_cleansed',  'has_availability', 'listing_id', 'host_since', 'host_has_profile_pic'], inplace=True) \n",
    "\n",
    "lis_1t1.drop(columns=['price_vs_room_type', 'price_per_person', 'price_per_bedroom', 'neighborhood_avg_price','price_vs_neighborhood','room_type_avg_price', 'host_listings_ratio' ], inplace=True)\n",
    "lis_1t1.info()"
   ]
  },
  {
   "cell_type": "code",
   "execution_count": null,
   "metadata": {},
   "outputs": [],
   "source": [
    "lis_df['host_identity_verified']"
   ]
  },
  {
   "cell_type": "code",
   "execution_count": null,
   "metadata": {},
   "outputs": [],
   "source": [
    "# lis_1t1.drop(columns=[ 'host_identity_verified', 'instant_bookable'], inplace=True)\n",
    "# lis_1t1.info()"
   ]
  },
  {
   "cell_type": "code",
   "execution_count": null,
   "metadata": {},
   "outputs": [],
   "source": [
    "rev_df[rev_df['listing_id'] == 1188302911099164911]['comments']"
   ]
  },
  {
   "cell_type": "code",
   "execution_count": null,
   "metadata": {},
   "outputs": [],
   "source": [
    "lis_1t1[['id','review_scores_rating','avg_sentiment']]"
   ]
  },
  {
   "cell_type": "code",
   "execution_count": null,
   "metadata": {},
   "outputs": [],
   "source": [
    "# Count missing avg_sentiment values\n",
    "missing_sentiment = lis_1t1['avg_sentiment'].isna().sum()\n",
    "total_rows = len(lis_1t1)\n",
    "print(f\"Missing sentiment scores: {missing_sentiment} out of {total_rows} rows ({missing_sentiment/total_rows:.1%})\")"
   ]
  },
  {
   "cell_type": "code",
   "execution_count": null,
   "metadata": {},
   "outputs": [],
   "source": [
    "# Count missing review_scores_rating values\n",
    "missing_ratings = lis_1t1['review_scores_rating'].isna().sum()\n",
    "total_rows = len(lis_1t1)\n",
    "print(f\"Missing review scores: {missing_ratings} out of {total_rows} rows ({missing_ratings/total_rows:.1%})\")\n"
   ]
  },
  {
   "cell_type": "code",
   "execution_count": null,
   "metadata": {},
   "outputs": [],
   "source": [
    "reviews = rev_df.groupby('listing_id')[['date', 'sentiment_score_1_5', 'comments', 'reviewer_id']].reset_index()\n",
    "\n",
    "# Merge with listings\n",
    "lis_df = lis_df.merge(\n",
    "    reviews,\n",
    "    left_on='id',\n",
    "    right_on='listing_id',\n",
    "    how='left'\n",
    ")"
   ]
  },
  {
   "cell_type": "code",
   "execution_count": null,
   "metadata": {},
   "outputs": [],
   "source": [
    "review_columns = [col for col in lis_df.columns if 'review' in col.lower()]\n",
    "print(\"Columns containing 'review':\")\n",
    "for col in review_columns:\n",
    "    print(f\"- {col}\")\n"
   ]
  },
  {
   "cell_type": "code",
   "execution_count": null,
   "metadata": {},
   "outputs": [],
   "source": [
    "#TODO in SQL\n",
    "# Response Quality: encode ordinal rating of each possible response time category\n",
    "# lis_df['host_response_time']\n",
    "\n",
    "# How many listings a host own (listings_count)"
   ]
  },
  {
   "cell_type": "markdown",
   "metadata": {},
   "source": [
    "___"
   ]
  },
  {
   "cell_type": "code",
   "execution_count": 2,
   "metadata": {},
   "outputs": [],
   "source": [
    "import pandas as pd"
   ]
  },
  {
   "cell_type": "code",
   "execution_count": null,
   "metadata": {},
   "outputs": [],
   "source": [
    "rev_df = pd.read_parquet('data/processed/03_reviews.parquet')\n",
    "rev_s = pd.read_parquet('data/processed/04_sentiment_bert.parquet')"
   ]
  },
  {
   "cell_type": "code",
   "execution_count": null,
   "metadata": {},
   "outputs": [],
   "source": [
    "rev_df.sort_values('id')[:2]"
   ]
  },
  {
   "cell_type": "code",
   "execution_count": null,
   "metadata": {},
   "outputs": [],
   "source": [
    "rev_s.sort_values('id')[:2]"
   ]
  },
  {
   "cell_type": "code",
   "execution_count": null,
   "metadata": {},
   "outputs": [],
   "source": [
    "\n",
    "len(rev_s['sentiment_score_1_5'].unique())"
   ]
  },
  {
   "cell_type": "markdown",
   "metadata": {},
   "source": [
    "___"
   ]
  },
  {
   "cell_type": "code",
   "execution_count": null,
   "metadata": {},
   "outputs": [],
   "source": [
    "# Find all columns containing 'host_listings' or matching 'host_total_listings_count'\n",
    "host_listing_cols = [col for col in lis_df.columns if 'host_listings' in col or col == 'host_total_listings_count']\n",
    "print(\"Columns containing 'host_listings' or 'host_total_listings_count':\")\n",
    "print(host_listing_cols)"
   ]
  },
  {
   "cell_type": "code",
   "execution_count": null,
   "metadata": {},
   "outputs": [],
   "source": [
    "lis_df[host_listing_cols][:5]"
   ]
  },
  {
   "cell_type": "code",
   "execution_count": null,
   "metadata": {},
   "outputs": [],
   "source": [
    "# Compare the three different host listing count columns\n",
    "listing_counts = lis_df[['host_listings_count', 'host_total_listings_count', 'calculated_host_listings_count']]\n",
    "\n",
    "# Find cases where they are all equal\n",
    "all_equal = (listing_counts['host_listings_count'] == listing_counts['host_total_listings_count']) & \\\n",
    "            (listing_counts['host_total_listings_count'] == listing_counts['calculated_host_listings_count'])\n",
    "\n",
    "print(\"Cases where all counts are equal:\", sum(all_equal))\n",
    "print(\"\\nCases where counts differ:\")\n",
    "print(listing_counts[~all_equal].head())\n",
    "print(f\"\\nTotal cases where counts differ: {sum(~all_equal)}\")\n",
    "\n",
    "# Check if host_total_listings_count is always the largest\n",
    "is_largest = (listing_counts['host_total_listings_count'] >= listing_counts['host_listings_count']) & \\\n",
    "             (listing_counts['host_total_listings_count'] >= listing_counts['calculated_host_listings_count'])\n",
    "print(f\"\\nIs host_total_listings_count always the largest? {is_largest.all()}\")\n",
    "\n",
    "if not is_largest.all():\n",
    "    print(\"\\nCases where host_total_listings_count is not the largest:\")\n",
    "    print(listing_counts[~is_largest].head())\n"
   ]
  },
  {
   "cell_type": "markdown",
   "metadata": {},
   "source": [
    "___"
   ]
  },
  {
   "cell_type": "markdown",
   "metadata": {},
   "source": [
    "___"
   ]
  },
  {
   "cell_type": "markdown",
   "metadata": {},
   "source": [
    "Various types of analyses to understand the data better and to prepare for the database design."
   ]
  },
  {
   "cell_type": "code",
   "execution_count": null,
   "metadata": {},
   "outputs": [],
   "source": [
    "price_cols = [col for col in lis_df.columns if col.startswith('yearly')]\n",
    "print(\"Price-related columns:\", price_cols)"
   ]
  },
  {
   "cell_type": "code",
   "execution_count": null,
   "metadata": {},
   "outputs": [],
   "source": [
    "lis_df['days_since_last_review']"
   ]
  },
  {
   "cell_type": "code",
   "execution_count": null,
   "metadata": {},
   "outputs": [],
   "source": [
    "review_cols = ['total_reviews', 'number_of_reviews', 'reviews_per_month', 'number_of_reviews_l30d', 'yearly_review', 'number_of_reviews_ltm']\n",
    "print(\"Review-related columns from listings:\")\n",
    "print(lis_df[review_cols].head())"
   ]
  },
  {
   "cell_type": "code",
   "execution_count": null,
   "metadata": {},
   "outputs": [],
   "source": []
  }
 ],
 "metadata": {
  "kernelspec": {
   "display_name": "base",
   "language": "python",
   "name": "python3"
  },
  "language_info": {
   "codemirror_mode": {
    "name": "ipython",
    "version": 3
   },
   "file_extension": ".py",
   "mimetype": "text/x-python",
   "name": "python",
   "nbconvert_exporter": "python",
   "pygments_lexer": "ipython3",
   "version": "3.11.8"
  }
 },
 "nbformat": 4,
 "nbformat_minor": 2
}
