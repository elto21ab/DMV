{
 "cells": [
  {
   "cell_type": "markdown",
   "metadata": {},
   "source": [
    "# Advanced Data Analysis"
   ]
  },
  {
   "cell_type": "code",
   "execution_count": 2,
   "metadata": {},
   "outputs": [
    {
     "name": "stdout",
     "output_type": "stream",
     "text": [
      "Listings shape: (20905, 43)\n",
      "Reviews shape: (366636, 5)\n"
     ]
    }
   ],
   "source": [
    "import pandas as pd\n",
    "lis_df = pd.read_parquet('data/processed/03_listings.parquet') \n",
    "rev_df = pd.read_parquet('data/processed/03_reviews.parquet')\n",
    "print(\"Listings shape:\", lis_df.shape)\n",
    "print(\"Reviews shape:\", rev_df.shape)"
   ]
  },
  {
   "cell_type": "code",
   "execution_count": 12,
   "metadata": {},
   "outputs": [
    {
     "data": {
      "text/html": [
       "<div>\n",
       "<style scoped>\n",
       "    .dataframe tbody tr th:only-of-type {\n",
       "        vertical-align: middle;\n",
       "    }\n",
       "\n",
       "    .dataframe tbody tr th {\n",
       "        vertical-align: top;\n",
       "    }\n",
       "\n",
       "    .dataframe thead th {\n",
       "        text-align: right;\n",
       "    }\n",
       "</style>\n",
       "<table border=\"1\" class=\"dataframe\">\n",
       "  <thead>\n",
       "    <tr style=\"text-align: right;\">\n",
       "      <th></th>\n",
       "      <th>listing_id</th>\n",
       "      <th>id</th>\n",
       "      <th>date</th>\n",
       "      <th>reviewer_id</th>\n",
       "      <th>comments</th>\n",
       "    </tr>\n",
       "  </thead>\n",
       "  <tbody>\n",
       "    <tr>\n",
       "      <th>0</th>\n",
       "      <td>31094</td>\n",
       "      <td>79346</td>\n",
       "      <td>2010-08-16</td>\n",
       "      <td>171607</td>\n",
       "      <td>We had a great stay. Conveniently located, qui...</td>\n",
       "    </tr>\n",
       "    <tr>\n",
       "      <th>1</th>\n",
       "      <td>31094</td>\n",
       "      <td>166275</td>\n",
       "      <td>2011-01-05</td>\n",
       "      <td>306860</td>\n",
       "      <td>It was a very good stay. The appartment was re...</td>\n",
       "    </tr>\n",
       "    <tr>\n",
       "      <th>2</th>\n",
       "      <td>31094</td>\n",
       "      <td>1452299</td>\n",
       "      <td>2012-06-10</td>\n",
       "      <td>1321058</td>\n",
       "      <td>Really enjoyed my time at Ebbe's place.  It is...</td>\n",
       "    </tr>\n",
       "    <tr>\n",
       "      <th>3</th>\n",
       "      <td>31094</td>\n",
       "      <td>6766430</td>\n",
       "      <td>2013-08-24</td>\n",
       "      <td>2182771</td>\n",
       "      <td>The apartment was very well located, 10-15 min...</td>\n",
       "    </tr>\n",
       "    <tr>\n",
       "      <th>4</th>\n",
       "      <td>31094</td>\n",
       "      <td>6827217</td>\n",
       "      <td>2013-08-26</td>\n",
       "      <td>8025926</td>\n",
       "      <td>This is a great flat, very clean with everythi...</td>\n",
       "    </tr>\n",
       "  </tbody>\n",
       "</table>\n",
       "</div>"
      ],
      "text/plain": [
       "   listing_id       id       date  reviewer_id  \\\n",
       "0       31094    79346 2010-08-16       171607   \n",
       "1       31094   166275 2011-01-05       306860   \n",
       "2       31094  1452299 2012-06-10      1321058   \n",
       "3       31094  6766430 2013-08-24      2182771   \n",
       "4       31094  6827217 2013-08-26      8025926   \n",
       "\n",
       "                                            comments  \n",
       "0  We had a great stay. Conveniently located, qui...  \n",
       "1  It was a very good stay. The appartment was re...  \n",
       "2  Really enjoyed my time at Ebbe's place.  It is...  \n",
       "3  The apartment was very well located, 10-15 min...  \n",
       "4  This is a great flat, very clean with everythi...  "
      ]
     },
     "execution_count": 12,
     "metadata": {},
     "output_type": "execute_result"
    }
   ],
   "source": [
    "rev_df.head()"
   ]
  },
  {
   "cell_type": "code",
   "execution_count": 4,
   "metadata": {},
   "outputs": [
    {
     "data": {
      "text/html": [
       "<div>\n",
       "<style scoped>\n",
       "    .dataframe tbody tr th:only-of-type {\n",
       "        vertical-align: middle;\n",
       "    }\n",
       "\n",
       "    .dataframe tbody tr th {\n",
       "        vertical-align: top;\n",
       "    }\n",
       "\n",
       "    .dataframe thead th {\n",
       "        text-align: right;\n",
       "    }\n",
       "</style>\n",
       "<table border=\"1\" class=\"dataframe\">\n",
       "  <thead>\n",
       "    <tr style=\"text-align: right;\">\n",
       "      <th></th>\n",
       "      <th>neighbourhood</th>\n",
       "      <th>host_neighbourhood</th>\n",
       "      <th>neighbourhood_cleansed</th>\n",
       "      <th>host_location</th>\n",
       "    </tr>\n",
       "  </thead>\n",
       "  <tbody>\n",
       "    <tr>\n",
       "      <th>0</th>\n",
       "      <td>Copenhagen, Capital Region of Denmark, Denmark</td>\n",
       "      <td>Vesterbro</td>\n",
       "      <td>Vesterbro-Kongens Enghave</td>\n",
       "      <td>Copenhagen, Denmark</td>\n",
       "    </tr>\n",
       "    <tr>\n",
       "      <th>1</th>\n",
       "      <td>Copenhagen, Capital Region of Denmark, Denmark</td>\n",
       "      <td>Nørrebro</td>\n",
       "      <td>Nrrebro</td>\n",
       "      <td>Copenhagen, Denmark</td>\n",
       "    </tr>\n",
       "    <tr>\n",
       "      <th>2</th>\n",
       "      <td>Unknown</td>\n",
       "      <td>Nørrebro</td>\n",
       "      <td>Nrrebro</td>\n",
       "      <td>Copenhagen, Denmark</td>\n",
       "    </tr>\n",
       "    <tr>\n",
       "      <th>3</th>\n",
       "      <td>Copenhagen, V, Denmark</td>\n",
       "      <td>Vesterbro</td>\n",
       "      <td>Vesterbro-Kongens Enghave</td>\n",
       "      <td>Copenhagen, Denmark</td>\n",
       "    </tr>\n",
       "    <tr>\n",
       "      <th>4</th>\n",
       "      <td>Unknown</td>\n",
       "      <td>Vesterbro</td>\n",
       "      <td>Vesterbro-Kongens Enghave</td>\n",
       "      <td>Copenhagen, Denmark</td>\n",
       "    </tr>\n",
       "    <tr>\n",
       "      <th>5</th>\n",
       "      <td>Unknown</td>\n",
       "      <td>Amagerbro</td>\n",
       "      <td>Amager st</td>\n",
       "      <td>Copenhagen, Denmark</td>\n",
       "    </tr>\n",
       "    <tr>\n",
       "      <th>6</th>\n",
       "      <td>Unknown</td>\n",
       "      <td>Østerbro</td>\n",
       "      <td>sterbro</td>\n",
       "      <td>Copenhagen, Denmark</td>\n",
       "    </tr>\n",
       "    <tr>\n",
       "      <th>7</th>\n",
       "      <td>Frederiksberg, Capital Region of Denmark, Denmark</td>\n",
       "      <td>Vesterbro</td>\n",
       "      <td>Vesterbro-Kongens Enghave</td>\n",
       "      <td>Copenhagen, Denmark</td>\n",
       "    </tr>\n",
       "    <tr>\n",
       "      <th>8</th>\n",
       "      <td>Copenhagen, Capital Region of Denmark, Denmark</td>\n",
       "      <td>Nørrebro</td>\n",
       "      <td>Nrrebro</td>\n",
       "      <td>Copenhagen, Denmark</td>\n",
       "    </tr>\n",
       "    <tr>\n",
       "      <th>9</th>\n",
       "      <td>Copenhagen, Denmark</td>\n",
       "      <td>Indre By</td>\n",
       "      <td>Indre By</td>\n",
       "      <td>Copenhagen, Denmark</td>\n",
       "    </tr>\n",
       "    <tr>\n",
       "      <th>10</th>\n",
       "      <td>Unknown</td>\n",
       "      <td>København NV</td>\n",
       "      <td>Bispebjerg</td>\n",
       "      <td>Copenhagen, Denmark</td>\n",
       "    </tr>\n",
       "    <tr>\n",
       "      <th>11</th>\n",
       "      <td>Copenhagen, Hovedstaden, Denmark</td>\n",
       "      <td>Islands Brygge</td>\n",
       "      <td>Amager Vest</td>\n",
       "      <td>Copenhagen, Denmark</td>\n",
       "    </tr>\n",
       "    <tr>\n",
       "      <th>12</th>\n",
       "      <td>Copenhagen, Denmark</td>\n",
       "      <td>Amagerbro</td>\n",
       "      <td>Amager st</td>\n",
       "      <td>Copenhagen, Denmark</td>\n",
       "    </tr>\n",
       "    <tr>\n",
       "      <th>13</th>\n",
       "      <td>Valby, Denmark</td>\n",
       "      <td>Valby</td>\n",
       "      <td>Valby</td>\n",
       "      <td>Copenhagen, Denmark</td>\n",
       "    </tr>\n",
       "    <tr>\n",
       "      <th>14</th>\n",
       "      <td>Copenhagen, Capital Region of Denmark, Denmark</td>\n",
       "      <td>Nørrebro</td>\n",
       "      <td>Nrrebro</td>\n",
       "      <td>Copenhagen, Denmark</td>\n",
       "    </tr>\n",
       "    <tr>\n",
       "      <th>15</th>\n",
       "      <td>Copenhagen, Denmark</td>\n",
       "      <td>Nørrebro</td>\n",
       "      <td>Nrrebro</td>\n",
       "      <td>Copenhagen, Denmark</td>\n",
       "    </tr>\n",
       "    <tr>\n",
       "      <th>16</th>\n",
       "      <td>Copenhagen, Capital Region of Denmark, Denmark</td>\n",
       "      <td>Nørrebro</td>\n",
       "      <td>Nrrebro</td>\n",
       "      <td>Copenhagen, Denmark</td>\n",
       "    </tr>\n",
       "    <tr>\n",
       "      <th>17</th>\n",
       "      <td>Unknown</td>\n",
       "      <td>Indre By</td>\n",
       "      <td>Indre By</td>\n",
       "      <td>Copenhagen, Denmark</td>\n",
       "    </tr>\n",
       "    <tr>\n",
       "      <th>18</th>\n",
       "      <td>Copenhagen, Capital Region of Denmark, Denmark</td>\n",
       "      <td>Nørrebro</td>\n",
       "      <td>Nrrebro</td>\n",
       "      <td>Copenhagen, Denmark</td>\n",
       "    </tr>\n",
       "    <tr>\n",
       "      <th>19</th>\n",
       "      <td>Copenhagen, Denmark</td>\n",
       "      <td>Vesterbro</td>\n",
       "      <td>Vesterbro-Kongens Enghave</td>\n",
       "      <td>Copenhagen, Denmark</td>\n",
       "    </tr>\n",
       "  </tbody>\n",
       "</table>\n",
       "</div>"
      ],
      "text/plain": [
       "                                        neighbourhood host_neighbourhood  \\\n",
       "0      Copenhagen, Capital Region of Denmark, Denmark          Vesterbro   \n",
       "1      Copenhagen, Capital Region of Denmark, Denmark           Nørrebro   \n",
       "2                                             Unknown           Nørrebro   \n",
       "3                              Copenhagen, V, Denmark          Vesterbro   \n",
       "4                                             Unknown          Vesterbro   \n",
       "5                                             Unknown          Amagerbro   \n",
       "6                                             Unknown           Østerbro   \n",
       "7   Frederiksberg, Capital Region of Denmark, Denmark          Vesterbro   \n",
       "8      Copenhagen, Capital Region of Denmark, Denmark           Nørrebro   \n",
       "9                                 Copenhagen, Denmark           Indre By   \n",
       "10                                            Unknown       København NV   \n",
       "11                   Copenhagen, Hovedstaden, Denmark     Islands Brygge   \n",
       "12                                Copenhagen, Denmark          Amagerbro   \n",
       "13                                     Valby, Denmark              Valby   \n",
       "14     Copenhagen, Capital Region of Denmark, Denmark           Nørrebro   \n",
       "15                                Copenhagen, Denmark           Nørrebro   \n",
       "16     Copenhagen, Capital Region of Denmark, Denmark           Nørrebro   \n",
       "17                                            Unknown           Indre By   \n",
       "18     Copenhagen, Capital Region of Denmark, Denmark           Nørrebro   \n",
       "19                                Copenhagen, Denmark          Vesterbro   \n",
       "\n",
       "       neighbourhood_cleansed        host_location  \n",
       "0   Vesterbro-Kongens Enghave  Copenhagen, Denmark  \n",
       "1                     Nrrebro  Copenhagen, Denmark  \n",
       "2                     Nrrebro  Copenhagen, Denmark  \n",
       "3   Vesterbro-Kongens Enghave  Copenhagen, Denmark  \n",
       "4   Vesterbro-Kongens Enghave  Copenhagen, Denmark  \n",
       "5                   Amager st  Copenhagen, Denmark  \n",
       "6                     sterbro  Copenhagen, Denmark  \n",
       "7   Vesterbro-Kongens Enghave  Copenhagen, Denmark  \n",
       "8                     Nrrebro  Copenhagen, Denmark  \n",
       "9                    Indre By  Copenhagen, Denmark  \n",
       "10                 Bispebjerg  Copenhagen, Denmark  \n",
       "11                Amager Vest  Copenhagen, Denmark  \n",
       "12                  Amager st  Copenhagen, Denmark  \n",
       "13                      Valby  Copenhagen, Denmark  \n",
       "14                    Nrrebro  Copenhagen, Denmark  \n",
       "15                    Nrrebro  Copenhagen, Denmark  \n",
       "16                    Nrrebro  Copenhagen, Denmark  \n",
       "17                   Indre By  Copenhagen, Denmark  \n",
       "18                    Nrrebro  Copenhagen, Denmark  \n",
       "19  Vesterbro-Kongens Enghave  Copenhagen, Denmark  "
      ]
     },
     "execution_count": 4,
     "metadata": {},
     "output_type": "execute_result"
    }
   ],
   "source": [
    "lis_df[['neighbourhood','host_neighbourhood', 'neighbourhood_cleansed','host_location']][:20]\n",
    "# lis_df['neighbourhood'].unique()\n",
    "# lis_df['host_neighbourhood'].unique()\n",
    "# lis_df['neighbourhood_cleansed'].unique()\n",
    "# "
   ]
  },
  {
   "cell_type": "code",
   "execution_count": 9,
   "metadata": {},
   "outputs": [
    {
     "data": {
      "text/plain": [
       "<StringArray>\n",
       "[           'Vesterbro',             'Nørrebro',            'Amagerbro',\n",
       "             'Østerbro',             'Indre By',         'København NV',\n",
       "       'Islands Brygge',                'Valby',        'Frederiksberg',\n",
       "          'Amager Vest',       'Christianshavn',          'Sluseholmen',\n",
       "           'Amager Øst',                     '',              'Vanløse',\n",
       "             'Brønshøj',              'Nyboder',              'Niagara',\n",
       "           'Teglholmen',              'Hackney',              'Kødbyen',\n",
       "   '6th Arrondissement',            'Södermalm',               'Holmen',\n",
       "          'Embajadores',          'Batignolles',           'Montmartre',\n",
       "               'Dragør',            'Vesturbær',              'Kastrup',\n",
       "                'Passy',              'Almagro',         'Clinton Hill',\n",
       "        'Jakkur Layout', 'Jardim das Bandeiras',         'Williamsburg',\n",
       "         'Notting Hill',                'Belém',           'Campo Belo',\n",
       "          'El Madroñal',        'Alphabet City',              'Buzovna',\n",
       "             'Bastille']\n",
       "Length: 43, dtype: string"
      ]
     },
     "execution_count": 9,
     "metadata": {},
     "output_type": "execute_result"
    }
   ],
   "source": [
    "lis_df['host_neighbourhood'].unique()"
   ]
  },
  {
   "cell_type": "code",
   "execution_count": 11,
   "metadata": {},
   "outputs": [
    {
     "name": "stdout",
     "output_type": "stream",
     "text": [
      "Number of listings in each non-Copenhagen neighborhood:\n",
      "host_neighbourhood\n",
      "                        15489\n",
      "Nyboder                     9\n",
      "Jakkur Layout               8\n",
      "El Madroñal                 6\n",
      "Vesturbær                   2\n",
      "Jardim das Bandeiras        2\n",
      "Passy                       1\n",
      "Niagara                     1\n",
      "6th Arrondissement          1\n",
      "Södermalm                   1\n",
      "Embajadores                 1\n",
      "Batignolles                 1\n",
      "Montmartre                  1\n",
      "Williamsburg                1\n",
      "Almagro                     1\n",
      "Clinton Hill                1\n",
      "Notting Hill                1\n",
      "Belém                       1\n",
      "Campo Belo                  1\n",
      "Alphabet City               1\n",
      "Buzovna                     1\n",
      "Bastille                    1\n",
      "Name: count, dtype: Int64\n",
      "\n",
      "Total number of listings with non-Copenhagen neighborhoods: 15532\n"
     ]
    }
   ],
   "source": [
    "non_cph_neighborhoods = ['', 'Nyboder', 'Niagara','6th Arrondissement', 'Södermalm','Embajadores', 'Batignolles', 'Montmartre', 'Vesturbær', 'Passy', 'Almagro','Clinton Hill', 'Jakkur Layout', 'Jardim das Bandeiras', 'Williamsburg', 'Notting Hill', 'Belém', 'Campo Belo', 'El Madroñal', 'Alphabet City', 'Buzovna', 'Bastille']\n",
    "\n",
    "# Count listings for each non-Copenhagen neighborhood\n",
    "non_cph_counts = lis_df[lis_df['host_neighbourhood'].isin(non_cph_neighborhoods)]['host_neighbourhood'].value_counts()\n",
    "\n",
    "print(\"Number of listings in each non-Copenhagen neighborhood:\")\n",
    "print(non_cph_counts)\n",
    "\n",
    "print(\"\\nTotal number of listings with non-Copenhagen neighborhoods:\", \n",
    "      len(lis_df[lis_df['host_neighbourhood'].isin(non_cph_neighborhoods)]))"
   ]
  },
  {
   "cell_type": "code",
   "execution_count": null,
   "metadata": {},
   "outputs": [],
   "source": []
  },
  {
   "cell_type": "code",
   "execution_count": 8,
   "metadata": {},
   "outputs": [
    {
     "name": "stdout",
     "output_type": "stream",
     "text": [
      "Number of missing values in host_neighbourhood: 0\n",
      "\n",
      "Percentage of missing values: 0.0 %\n",
      "\n",
      "Sample of rows with missing host_neighbourhood:\n",
      "Empty DataFrame\n",
      "Columns: [neighbourhood_cleansed, host_neighbourhood, neighbourhood]\n",
      "Index: []\n"
     ]
    }
   ],
   "source": [
    "# Check missing values in host_neighbourhood\n",
    "print(\"Number of missing values in host_neighbourhood:\", lis_df['host_neighbourhood'].isna().sum())\n",
    "print(\"\\nPercentage of missing values:\", (lis_df['host_neighbourhood'].isna().sum() / len(lis_df) * 100).round(2), \"%\")\n",
    "\n",
    "# Compare with neighbourhood_cleansed values where host_neighbourhood is missing\n",
    "print(\"\\nSample of rows with missing host_neighbourhood:\")\n",
    "print(lis_df[lis_df['host_neighbourhood'].isna()][['neighbourhood_cleansed', 'host_neighbourhood', 'neighbourhood']][:5])\n"
   ]
  },
  {
   "cell_type": "code",
   "execution_count": null,
   "metadata": {},
   "outputs": [],
   "source": [
    "lis_df['neighbourhood_cleansed'].unique()"
   ]
  },
  {
   "cell_type": "code",
   "execution_count": null,
   "metadata": {},
   "outputs": [],
   "source": [
    "lis_df.info()"
   ]
  },
  {
   "cell_type": "code",
   "execution_count": null,
   "metadata": {},
   "outputs": [],
   "source": [
    "lis_df['calendar_last_scraped'][:2]"
   ]
  },
  {
   "cell_type": "code",
   "execution_count": null,
   "metadata": {},
   "outputs": [],
   "source": [
    "lis_df.drop(['last_scraped', 'source', 'host_response_rate_pct', ], axis=1, inplace=True)"
   ]
  },
  {
   "cell_type": "markdown",
   "metadata": {},
   "source": [
    "___"
   ]
  },
  {
   "cell_type": "code",
   "execution_count": null,
   "metadata": {},
   "outputs": [],
   "source": [
    "# Find all columns containing 'host_listings' or matching 'host_total_listings_count'\n",
    "host_listing_cols = [col for col in lis_df.columns if 'host_listings' in col or col == 'host_total_listings_count']\n",
    "print(\"Columns containing 'host_listings' or 'host_total_listings_count':\")\n",
    "print(host_listing_cols)"
   ]
  },
  {
   "cell_type": "code",
   "execution_count": null,
   "metadata": {},
   "outputs": [],
   "source": [
    "lis_df[host_listing_cols][:5]"
   ]
  },
  {
   "cell_type": "code",
   "execution_count": null,
   "metadata": {},
   "outputs": [],
   "source": [
    "# Compare the three different host listing count columns\n",
    "listing_counts = lis_df[['host_listings_count', 'host_total_listings_count', 'calculated_host_listings_count']]\n",
    "\n",
    "# Find cases where they are all equal\n",
    "all_equal = (listing_counts['host_listings_count'] == listing_counts['host_total_listings_count']) & \\\n",
    "            (listing_counts['host_total_listings_count'] == listing_counts['calculated_host_listings_count'])\n",
    "\n",
    "print(\"Cases where all counts are equal:\", sum(all_equal))\n",
    "print(\"\\nCases where counts differ:\")\n",
    "print(listing_counts[~all_equal].head())\n",
    "print(f\"\\nTotal cases where counts differ: {sum(~all_equal)}\")\n",
    "\n",
    "# Check if host_total_listings_count is always the largest\n",
    "is_largest = (listing_counts['host_total_listings_count'] >= listing_counts['host_listings_count']) & \\\n",
    "             (listing_counts['host_total_listings_count'] >= listing_counts['calculated_host_listings_count'])\n",
    "print(f\"\\nIs host_total_listings_count always the largest? {is_largest.all()}\")\n",
    "\n",
    "if not is_largest.all():\n",
    "    print(\"\\nCases where host_total_listings_count is not the largest:\")\n",
    "    print(listing_counts[~is_largest].head())\n"
   ]
  },
  {
   "cell_type": "markdown",
   "metadata": {},
   "source": [
    "___"
   ]
  },
  {
   "cell_type": "code",
   "execution_count": null,
   "metadata": {},
   "outputs": [],
   "source": [
    "# Verify host_response_rate_pct is always 0 when host_response_time is empty\n",
    "empty_response_time = lis_df[lis_df['host_response_time'] == '']\n",
    "print(\"\\nHost response rates when response time is empty:\")\n",
    "print(empty_response_time['host_response_rate_pct'].value_counts())\n",
    "print(f\"\\nAll zeros? {(empty_response_time['host_response_rate_pct'] == 0).all()}\")\n",
    "\n",
    "# Remap empty strings to 'never' where host_response_rate_pct is 0\n",
    "lis_df.loc[(lis_df['host_response_time'] == '') & (lis_df['host_response_rate_pct'] == 0), 'host_response_time'] = 'never'\n",
    "\n",
    "lis_df['host_response_time'].unique()"
   ]
  },
  {
   "cell_type": "markdown",
   "metadata": {},
   "source": [
    "Various types of analyses to understand the data better and to prepare for the database design."
   ]
  },
  {
   "cell_type": "code",
   "execution_count": null,
   "metadata": {},
   "outputs": [],
   "source": [
    "price_cols = [col for col in lis_df.columns if col.startswith('yearly')]\n",
    "print(\"Price-related columns:\", price_cols)"
   ]
  },
  {
   "cell_type": "code",
   "execution_count": null,
   "metadata": {},
   "outputs": [],
   "source": [
    "lis_df['days_since_last_review']"
   ]
  },
  {
   "cell_type": "code",
   "execution_count": null,
   "metadata": {},
   "outputs": [],
   "source": [
    "review_cols = ['total_reviews', 'number_of_reviews', 'reviews_per_month', 'number_of_reviews_l30d', 'yearly_review', 'number_of_reviews_ltm']\n",
    "print(\"Review-related columns from listings:\")\n",
    "print(lis_df[review_cols].head())"
   ]
  },
  {
   "cell_type": "code",
   "execution_count": null,
   "metadata": {},
   "outputs": [],
   "source": []
  }
 ],
 "metadata": {
  "kernelspec": {
   "display_name": "base",
   "language": "python",
   "name": "python3"
  },
  "language_info": {
   "codemirror_mode": {
    "name": "ipython",
    "version": 3
   },
   "file_extension": ".py",
   "mimetype": "text/x-python",
   "name": "python",
   "nbconvert_exporter": "python",
   "pygments_lexer": "ipython3",
   "version": "3.11.8"
  }
 },
 "nbformat": 4,
 "nbformat_minor": 2
}
