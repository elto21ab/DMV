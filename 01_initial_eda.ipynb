{
 "cells": [
  {
   "cell_type": "code",
   "execution_count": 1,
   "metadata": {},
   "outputs": [],
   "source": [
    "import pandas as pd"
   ]
  },
  {
   "cell_type": "code",
   "execution_count": 2,
   "metadata": {},
   "outputs": [],
   "source": [
    "# Read the CSV files\n",
    "cal = pd.read_csv('data/calendar2024.csv')\n",
    "lis = pd.read_csv('data/listings2024.csv') \n",
    "rev = pd.read_csv('data/reviews2024.csv')"
   ]
  },
  {
   "cell_type": "code",
   "execution_count": 3,
   "metadata": {},
   "outputs": [],
   "source": [
    "cal.drop(columns=['adjusted_price'], inplace=True)\n",
    "\n",
    "null_cols_lis = lis.columns[lis.isna().all()].tolist()\n",
    "lis = lis.drop(columns=null_cols_lis)\n",
    "\n",
    "lis.drop(columns=['scrape_id'], inplace=True)\n",
    "\n",
    "rev.drop(columns=['reviewer_name'], inplace=True)"
   ]
  },
  {
   "cell_type": "code",
   "execution_count": null,
   "metadata": {},
   "outputs": [],
   "source": [
    "cal['price'] = cal['price'].str.replace(r'[\\$,]', '', regex=True)\n",
    "\n",
    "cal = cal.rename(columns={'price': 'price($)'})\n",
    "cal['price($)'] = pd.to_numeric(cal['price($)'], errors='coerce')\n",
    "\n",
    "cal['available'] = cal['available'] == 't'\n",
    "lis['instant_bookable'] = lis['instant_bookable'] == 't'\n",
    "\n",
    "cal['date'] = pd.to_datetime(cal['date'])\n",
    "rev['date'] = pd.to_datetime(rev['date'])\n",
    "lis['last_scraped'] = pd.to_datetime(lis['last_scraped'])\n",
    "lis['host_since'] = pd.to_datetime(lis['host_since'])\n",
    "\n",
    "rev['comments'].astype(\"string\")#(str)\n",
    "\n",
    "lis.info()"
   ]
  },
  {
   "cell_type": "code",
   "execution_count": null,
   "metadata": {},
   "outputs": [],
   "source": []
  }
 ],
 "metadata": {
  "kernelspec": {
   "display_name": "base",
   "language": "python",
   "name": "python3"
  },
  "language_info": {
   "codemirror_mode": {
    "name": "ipython",
    "version": 3
   },
   "file_extension": ".py",
   "mimetype": "text/x-python",
   "name": "python",
   "nbconvert_exporter": "python",
   "pygments_lexer": "ipython3",
   "version": "3.11.8"
  }
 },
 "nbformat": 4,
 "nbformat_minor": 2
}
