{
 "cells": [
  {
   "cell_type": "markdown",
   "metadata": {},
   "source": [
    "# Data Cleaning and Feature Engineering"
   ]
  },
  {
   "cell_type": "markdown",
   "metadata": {},
   "source": [
    "### 1. Setup and Data Import"
   ]
  },
  {
   "cell_type": "code",
   "execution_count": 65,
   "metadata": {},
   "outputs": [],
   "source": [
    "import pandas as pd\n",
    "import numpy as np"
   ]
  },
  {
   "cell_type": "code",
   "execution_count": 66,
   "metadata": {},
   "outputs": [],
   "source": [
    "cal = pd.read_csv('data/raw/calendar2024.csv')\n",
    "lis = pd.read_csv('data/raw/listings2024.csv') \n",
    "rev = pd.read_csv('data/raw/reviews2024.csv')"
   ]
  },
  {
   "cell_type": "markdown",
   "metadata": {},
   "source": [
    "### 2. Initial Column Cleanup"
   ]
  },
  {
   "cell_type": "code",
   "execution_count": 67,
   "metadata": {},
   "outputs": [],
   "source": [
    "# Remove empty columns\n",
    "null_cols_lis = lis.columns[lis.isna().all()].tolist()\n",
    "lis = lis.drop(columns=null_cols_lis)\n",
    "\n",
    "# Drop unnecessary columns\n",
    "lis.drop(columns=['scrape_id', 'host_name', 'picture_url', 'host_url', 'host_thumbnail_url', 'host_picture_url'], inplace=True)\n",
    "cal.drop(columns=['adjusted_price'], inplace=True)\n",
    "rev.drop(columns=['reviewer_name'], inplace=True)"
   ]
  },
  {
   "cell_type": "markdown",
   "metadata": {},
   "source": [
    "### 3. Data Type Conversions"
   ]
  },
  {
   "cell_type": "code",
   "execution_count": 68,
   "metadata": {},
   "outputs": [],
   "source": [
    "# Helper functions\n",
    "def convert_to_boolean(df, columns, true_value='t'):\n",
    "    \"\"\"Convert specified columns from string indicators to boolean\"\"\"\n",
    "    for col in columns:\n",
    "        df[col] = df[col] == true_value\n",
    "    return df\n",
    "\n",
    "def convert_to_datetime(df, columns):\n",
    "    \"\"\"Convert specified columns to datetime\"\"\"\n",
    "    for col in columns:\n",
    "        df[col] = pd.to_datetime(df[col])\n",
    "    return df\n",
    "\n",
    "def convert_to_type(df, columns, dtype):\n",
    "    \"\"\"Convert specified columns to given dtype\"\"\"\n",
    "    for col in columns:\n",
    "        df[col] = df[col].astype(dtype)\n",
    "    return df"
   ]
  },
  {
   "cell_type": "markdown",
   "metadata": {},
   "source": [
    "### 4. Apply Type Conversions"
   ]
  },
  {
   "cell_type": "code",
   "execution_count": 69,
   "metadata": {},
   "outputs": [],
   "source": [
    "# Boolean conversions\n",
    "boolean_cols = ['instant_bookable', 'host_is_superhost', 'host_has_profile_pic', 'host_identity_verified', 'has_availability']\n",
    "lis = convert_to_boolean(lis, boolean_cols)\n",
    "cal['available'] = cal['available'] == 't'\n",
    "\n",
    "# Datetime conversions\n",
    "datetime_cols_lis = ['calendar_last_scraped', 'first_review', 'last_review', 'last_scraped', 'host_since']\n",
    "lis = convert_to_datetime(lis, datetime_cols_lis)\n",
    "cal['date'] = pd.to_datetime(cal['date'])\n",
    "rev['date'] = pd.to_datetime(rev['date'])\n",
    "\n",
    "# String conversions\n",
    "string_columns = ['bathrooms_text', 'neighbourhood', 'neighbourhood_cleansed', 'property_type', 'room_type', \n",
    "                 'host_location', 'host_about', 'host_neighbourhood', 'listing_url', 'host_response_time', \n",
    "                 'source', 'name', 'description', 'neighborhood_overview']\n",
    "lis = convert_to_type(lis, string_columns, \"string\")\n",
    "rev['comments'] = rev['comments'].astype(\"string\")"
   ]
  },
  {
   "cell_type": "markdown",
   "metadata": {},
   "source": [
    "### 5. Handle Percentage and Currency Columns"
   ]
  },
  {
   "cell_type": "code",
   "execution_count": 70,
   "metadata": {},
   "outputs": [],
   "source": [
    "# Convert percentage columns\n",
    "percentage_cols = ['host_response_rate', 'host_acceptance_rate']\n",
    "for col in percentage_cols:\n",
    "    lis = lis.rename(columns={col: f\"{col}_pct\"})\n",
    "    lis[f\"{col}_pct\"] = lis[f\"{col}_pct\"].str.rstrip('%').astype('float') / 100\n",
    "\n",
    "# Clean and standardize price columns\n",
    "lis['price'] = lis['price'].str.replace(r'[\\$,]', '', regex=True)\n",
    "lis = lis.rename(columns={'price': 'price_DKK'})\n",
    "lis['price_DKK'] = pd.to_numeric(lis['price_DKK'], errors='coerce')\n",
    "\n",
    "cal['price'] = cal['price'].str.replace(r'[\\$,]', '', regex=True)\n",
    "cal = cal.rename(columns={'price': 'price_USD'})\n",
    "cal['price_USD'] = pd.to_numeric(cal['price_USD'], errors='coerce')"
   ]
  },
  {
   "cell_type": "markdown",
   "metadata": {},
   "source": [
    "### 6. Process List-Type Columns"
   ]
  },
  {
   "cell_type": "code",
   "execution_count": 71,
   "metadata": {},
   "outputs": [],
   "source": [
    "# Process amenities\n",
    "lis['amenities_count'] = lis.amenities.str.strip('[]').str.split(',').str.len()\n",
    "\n",
    "# Process host verifications\n",
    "lis['host_verifications'] = lis['host_verifications'].str.strip('[]').str.replace(\"'\", \"\").str.split(', ')\n",
    "verification_dummies = lis['host_verifications'].str.join('|').str.get_dummies()\n",
    "verification_dummies = verification_dummies.add_prefix('verification_')\n",
    "lis = pd.concat([lis, verification_dummies], axis=1)"
   ]
  },
  {
   "cell_type": "markdown",
   "metadata": {},
   "source": [
    "### 7. Handle Missing Values"
   ]
  },
  {
   "cell_type": "markdown",
   "metadata": {},
   "source": [
    "#### Imputation for Listings"
   ]
  },
  {
   "cell_type": "code",
   "execution_count": 72,
   "metadata": {},
   "outputs": [],
   "source": [
    "# Physical characteristics imputation - revised approach\n",
    "# Bathrooms - keep room_type median as it must exist\n",
    "lis['bathrooms'] = lis.groupby('room_type')['bathrooms'].transform(lambda x: x.fillna(x.median()))\n",
    "lis['bathrooms'] = lis['bathrooms'].fillna(1.0)  # Fallback to 1 if still missing\n",
    "\n",
    "# Bedrooms - set to 0 for shared/studio, impute for homes\n",
    "lis.loc[lis['room_type'].isin(['Shared room', 'Private room']), 'bedrooms'] = \\\n",
    "    lis.loc[lis['room_type'].isin(['Shared room', 'Private room']), 'bedrooms'].fillna(0)\n",
    "lis.loc[lis['room_type'] == 'Entire home/apt', 'bedrooms'] = \\\n",
    "    lis.loc[lis['room_type'] == 'Entire home/apt', 'bedrooms'].transform(lambda x: x.fillna(x.median()))\n",
    "lis['bedrooms'] = lis['bedrooms'].fillna(0)  # Any remaining missing to 0\n",
    "\n",
    "# Beds - ensure at least 1 bed per listing based on accommodates\n",
    "lis['beds'] = lis['beds'].fillna(lis['accommodates'].clip(lower=1))\n",
    "\n",
    "\n",
    "# Price imputation\n",
    "# If price is missing, use the median price for that room type\n",
    "lis['price_DKK'] = lis.groupby('room_type')['price_DKK'].transform(lambda x: x.fillna(x.median()))\n",
    "\n",
    "# If any prices are still missing (very rare case), use overall median\n",
    "lis['price_DKK'] = lis['price_DKK'].fillna(lis['price_DKK'].median())\n",
    "\n",
    "\n",
    "\n",
    "# Numeric imputation - ensure all numeric fields have appropriate values for PostgreSQL numeric types\n",
    "numeric_cols_to_impute = {\n",
    "    'host_response_rate_pct': 0.0,  # Use 0 instead of mean for percentage\n",
    "    'host_acceptance_rate_pct': 0.0,  # Use 0 instead of mean for percentage\n",
    "    'review_scores_rating': 0,  # Use 0 instead of median for scores\n",
    "    'review_scores_accuracy': 0,\n",
    "    'review_scores_cleanliness': 0,\n",
    "    'review_scores_checkin': 0,\n",
    "    'review_scores_communication': 0,\n",
    "    'review_scores_location': 0,\n",
    "    'review_scores_value': 0,\n",
    "    'reviews_per_month': 0,\n",
    "    'host_listings_count': 1,\n",
    "    'host_total_listings_count': 1\n",
    "}\n",
    "\n",
    "for col, value in numeric_cols_to_impute.items():\n",
    "    lis[col] = lis[col].fillna(value)\n",
    "\n",
    "# Categorical imputation - use empty string for VARCHAR fields where appropriate\n",
    "categorical_cols_to_impute = {\n",
    "    'host_response_time': '',  # VARCHAR\n",
    "    'host_neighbourhood': '',  # VARCHAR\n",
    "    'bathrooms_text': '',  # VARCHAR\n",
    "    'neighbourhood': 'mode',  # Keep mode for geographic consistency\n",
    "    'neighbourhood_cleansed': 'mode',  # Keep mode for geographic consistency\n",
    "    'host_location': 'Copenhagen, Denmark',  # Important location default\n",
    "    'host_verifications': '[]'  # JSON-compatible empty array\n",
    "}\n",
    "\n",
    "for col, strategy in categorical_cols_to_impute.items():\n",
    "    if strategy == 'mode':\n",
    "        lis[col] = lis[col].fillna(lis[col].mode()[0])\n",
    "    else:\n",
    "        lis[col] = lis[col].fillna(strategy)\n",
    "\n",
    "# Text columns - use empty string for TEXT fields\n",
    "text_cols_to_impute = ['host_about', 'neighborhood_overview', 'description']\n",
    "for col in text_cols_to_impute:\n",
    "    lis[col] = lis[col].fillna('')\n",
    "\n",
    "# Date columns - use explicit PostgreSQL-compatible dates\n",
    "current_date = pd.Timestamp.now().date()\n",
    "lis['host_since'] = lis['host_since'].fillna(pd.Timestamp('2000-01-01'))  # Use explicit default date\n",
    "lis['first_review'] = lis['first_review'].fillna(pd.NaT)  # Keep as NULL for no reviews\n",
    "lis['last_review'] = lis['last_review'].fillna(pd.NaT)  # Keep as NULL for no reviews\n",
    "\n",
    "# Boolean columns - ensure True/False (not NULL)\n",
    "boolean_cols = ['instant_bookable', 'host_is_superhost', 'host_has_profile_pic', \n",
    "                'host_identity_verified', 'has_availability']\n",
    "for col in boolean_cols:\n",
    "    lis[col] = lis[col].fillna(False)  # Default to False for missing booleans"
   ]
  },
  {
   "cell_type": "markdown",
   "metadata": {},
   "source": [
    "#### Imputation for Calendar"
   ]
  },
  {
   "cell_type": "code",
   "execution_count": 73,
   "metadata": {},
   "outputs": [],
   "source": [
    "# Price imputation for calendar\n",
    "cal['price_USD'] = cal.groupby(['listing_id', 'available'])['price_USD'].transform(lambda x: x.fillna(x.median()))\n",
    "cal['price_USD'] = cal['price_USD'].fillna(0)  # Default to 0 for any remaining NULL prices\n",
    "\n",
    "# Handle minimum and maximum nights\n",
    "cal['minimum_nights'] = cal.groupby('listing_id')['minimum_nights'].transform(lambda x: x.fillna(x.median()))\n",
    "cal['maximum_nights'] = cal.groupby('listing_id')['maximum_nights'].transform(lambda x: x.fillna(x.median()))\n",
    "# Default to 1 and 365 if still missing\n",
    "cal['minimum_nights'] = cal['minimum_nights'].fillna(1)\n",
    "cal['maximum_nights'] = cal['maximum_nights'].fillna(365)"
   ]
  },
  {
   "cell_type": "markdown",
   "metadata": {},
   "source": [
    "#### Imputation for Reviews"
   ]
  },
  {
   "cell_type": "code",
   "execution_count": 74,
   "metadata": {},
   "outputs": [],
   "source": [
    "# Handle missing comments\n",
    "rev['comments'] = rev['comments'].fillna('')  # Empty string for TEXT field\n",
    "\n",
    "# Handle missing dates (shouldn't be any, but just in case)\n",
    "rev['date'] = rev['date'].fillna(pd.Timestamp('2000-01-01'))  # Use explicit default date"
   ]
  },
  {
   "cell_type": "code",
   "execution_count": 75,
   "metadata": {},
   "outputs": [
    {
     "name": "stdout",
     "output_type": "stream",
     "text": [
      "\n",
      "Columns with remaining NULL values:\n",
      "first_review    3220\n",
      "last_review     3220\n",
      "dtype: int64\n"
     ]
    }
   ],
   "source": [
    "# After all imputations, check which columns still have nulls\n",
    "null_check = lis.isnull().sum()\n",
    "print(\"\\nColumns with remaining NULL values:\")\n",
    "print(null_check[null_check > 0])\n",
    "\n",
    "# Fix remaining nulls based on their data types\n",
    "for col in lis.columns[lis.isnull().any()]:\n",
    "    dtype = lis[col].dtype\n",
    "    \n",
    "    if np.issubdtype(dtype, np.number):  # Numeric columns\n",
    "        lis[col] = lis[col].fillna(0)\n",
    "    elif dtype == 'datetime64[ns]':  # DateTime columns\n",
    "        lis[col] = lis[col].fillna(pd.Timestamp('2000-01-01'))\n",
    "    elif dtype == 'bool':  # Boolean columns\n",
    "        lis[col] = lis[col].fillna(False)\n",
    "    else:  # String/object columns\n",
    "        lis[col] = lis[col].fillna('')"
   ]
  },
  {
   "cell_type": "code",
   "execution_count": 76,
   "metadata": {},
   "outputs": [
    {
     "name": "stdout",
     "output_type": "stream",
     "text": [
      "\n",
      "Verifying no NULL values remain:\n",
      "\n",
      "Listings nulls: 0\n",
      "Calendar nulls: 0\n",
      "Reviews nulls: 0\n"
     ]
    }
   ],
   "source": [
    "# Verify imputation\n",
    "print(\"\\nVerifying no NULL values remain:\")\n",
    "print(\"\\nListings nulls:\", lis.isnull().sum().sum())\n",
    "print(\"Calendar nulls:\", cal.isnull().sum().sum())\n",
    "print(\"Reviews nulls:\", rev.isnull().sum().sum())"
   ]
  },
  {
   "cell_type": "markdown",
   "metadata": {},
   "source": [
    "### 8. Feature Engineering"
   ]
  },
  {
   "cell_type": "code",
   "execution_count": 77,
   "metadata": {},
   "outputs": [],
   "source": [
    "# Store original columns\n",
    "original_columns = lis.columns.copy()"
   ]
  },
  {
   "cell_type": "code",
   "execution_count": 78,
   "metadata": {},
   "outputs": [],
   "source": [
    "# Listing Quality Indicators\n",
    "lis['is_superhost'] = lis['host_is_superhost']  # Already boolean\n",
    "lis['total_reviews'] = lis['number_of_reviews']\n",
    "lis['avg_rating'] = lis['review_scores_rating']\n",
    "lis['review_frequency'] = lis['reviews_per_month']\n",
    "\n",
    "# Availability and Demand\n",
    "lis['availability_365'] = lis['availability_90']  # How often is it available?\n",
    "lis['occupancy_rate'] = 1 - (lis['availability_365'] / 365)  # Inverse of availability"
   ]
  },
  {
   "cell_type": "code",
   "execution_count": 79,
   "metadata": {},
   "outputs": [],
   "source": [
    "# Location Features\n",
    "COPENHAGEN_CENTER_LAT = 55.6761\n",
    "COPENHAGEN_CENTER_LON = 12.5683\n",
    "\n",
    "# Distance to center\n",
    "lis['distance_to_center_km'] = np.sqrt(\n",
    "    (lis['latitude'] - COPENHAGEN_CENTER_LAT)**2 + \n",
    "    (lis['longitude'] - COPENHAGEN_CENTER_LON)**2\n",
    ") * 111  # Rough conversion to kilometers\n",
    "\n",
    "# Neighborhood density\n",
    "lis['listings_in_neighborhood'] = lis.groupby('neighbourhood_cleansed')['id'].transform('count')"
   ]
  },
  {
   "cell_type": "code",
   "execution_count": 80,
   "metadata": {},
   "outputs": [],
   "source": [
    "# Price Features\n",
    "# Neighborhood price comparison\n",
    "lis['neighborhood_avg_price'] = lis.groupby('neighbourhood_cleansed')['price_DKK'].transform('mean')\n",
    "lis['price_vs_neighborhood'] = lis['price_DKK'] / lis['neighborhood_avg_price']\n",
    "\n",
    "# Room type price comparison\n",
    "lis['room_type_avg_price'] = lis.groupby('room_type')['price_DKK'].transform('mean')\n",
    "lis['price_vs_room_type'] = lis['price_DKK'] / lis['room_type_avg_price']\n",
    "\n",
    "# Value indicators\n",
    "lis['price_per_person'] = lis['price_DKK'] / lis['accommodates']\n",
    "lis['price_per_bedroom'] = lis['price_DKK'].div(lis['bedrooms'].where(lis['bedrooms'] > 0, 1))"
   ]
  },
  {
   "cell_type": "code",
   "execution_count": 81,
   "metadata": {},
   "outputs": [],
   "source": [
    "# Host Features\n",
    "lis['host_experience_years'] = (pd.Timestamp.now() - lis['host_since']).dt.total_seconds() / (365.25 * 24 * 60 * 60)\n",
    "lis['host_listings_ratio'] = lis['host_total_listings_count'] / lis['listings_in_neighborhood']\n",
    "\n",
    "# Response Quality\n",
    "lis['host_response_speed'] = pd.Categorical(lis['host_response_time'], \n",
    "    categories=['within an hour', 'within a few hours', 'within a day', 'a few days or more'], \n",
    "    ordered=True).codes"
   ]
  },
  {
   "cell_type": "code",
   "execution_count": 82,
   "metadata": {},
   "outputs": [],
   "source": [
    "# Review Features\n",
    "lis['days_since_last_review'] = (pd.Timestamp.now() - lis['last_review']).dt.total_seconds() / (24 * 60 * 60)\n",
    "lis['review_rate'] = lis['number_of_reviews'] / lis['host_experience_years']\n",
    "\n",
    "# Calculate review score variance\n",
    "review_score_cols = [col for col in lis.columns if col.startswith('review_scores_')]\n",
    "lis['review_score_variance'] = lis[review_score_cols].var(axis=1)"
   ]
  },
  {
   "cell_type": "code",
   "execution_count": 83,
   "metadata": {},
   "outputs": [],
   "source": [
    "# Calendar Features\n",
    "cal['date'] = pd.to_datetime(cal['date'])\n",
    "cal['is_weekend'] = cal['date'].dt.dayofweek >= 5\n",
    "cal['is_holiday'] = cal['date'].dt.month.isin([6, 7, 8, 12])  # Summer and December\n",
    "\n",
    "# Aggregate to listing level\n",
    "calendar_features = cal.groupby('listing_id').agg({\n",
    "    'price_USD': ['mean', 'std'],\n",
    "    'is_weekend': 'mean',  # Proportion of weekend days\n",
    "    'is_holiday': 'mean',  # Proportion of holiday days\n",
    "    'available': 'mean'    # Proportion of available days\n",
    "}).reset_index()"
   ]
  },
  {
   "cell_type": "code",
   "execution_count": 84,
   "metadata": {},
   "outputs": [
    {
     "name": "stdout",
     "output_type": "stream",
     "text": [
      "\n",
      "New Feature Summary:\n",
      "\n",
      "avg_rating:\n",
      "count    20909.000000\n",
      "mean         4.087925\n",
      "std          1.760318\n",
      "min          0.000000\n",
      "25%          4.590000\n",
      "50%          4.860000\n",
      "75%          5.000000\n",
      "max          5.000000\n",
      "Name: avg_rating, dtype: float64\n",
      "\n",
      "days_since_last_review:\n",
      "count    20909.000000\n",
      "mean      1854.225337\n",
      "std       3153.659065\n",
      "min        227.626360\n",
      "25%        247.626360\n",
      "50%        435.626360\n",
      "75%        927.626360\n",
      "max       9173.626360\n",
      "Name: days_since_last_review, dtype: float64\n",
      "\n",
      "distance_to_center_km:\n",
      "count    20909.000000\n",
      "mean         3.733427\n",
      "std          2.014880\n",
      "min          0.096576\n",
      "25%          2.259250\n",
      "50%          3.445322\n",
      "75%          4.762564\n",
      "max         13.204881\n",
      "Name: distance_to_center_km, dtype: float64\n",
      "\n",
      "host_experience_years:\n",
      "count    20909.000000\n",
      "mean         8.230373\n",
      "std          3.243080\n",
      "min          0.625945\n",
      "25%          6.487683\n",
      "50%          8.872351\n",
      "75%         10.605411\n",
      "max         25.116020\n",
      "Name: host_experience_years, dtype: float64\n",
      "\n",
      "host_listings_ratio:\n",
      "count    20909.000000\n",
      "mean         0.005179\n",
      "std          0.033076\n",
      "min          0.000268\n",
      "25%          0.000334\n",
      "50%          0.000557\n",
      "75%          0.001115\n",
      "max          0.802680\n",
      "Name: host_listings_ratio, dtype: float64\n",
      "\n",
      "host_response_speed:\n",
      "count    20909.000000\n",
      "mean         0.367067\n",
      "std          1.229807\n",
      "min         -1.000000\n",
      "25%         -1.000000\n",
      "50%          0.000000\n",
      "75%          1.000000\n",
      "max          3.000000\n",
      "Name: host_response_speed, dtype: float64\n",
      "\n",
      "is_superhost:\n",
      "count     20909\n",
      "unique        2\n",
      "top       False\n",
      "freq      18438\n",
      "Name: is_superhost, dtype: object\n",
      "\n",
      "listings_in_neighborhood:\n",
      "count    20909.000000\n",
      "mean      2569.418863\n",
      "std       1009.267884\n",
      "min        366.000000\n",
      "25%       1869.000000\n",
      "50%       2248.000000\n",
      "75%       3588.000000\n",
      "max       3734.000000\n",
      "Name: listings_in_neighborhood, dtype: float64\n",
      "\n",
      "neighborhood_avg_price:\n",
      "count    20909.000000\n",
      "mean      1291.086135\n",
      "std        177.720953\n",
      "min       1026.678283\n",
      "25%       1167.216926\n",
      "50%       1282.545909\n",
      "75%       1304.860320\n",
      "max       1689.012175\n",
      "Name: neighborhood_avg_price, dtype: float64\n",
      "\n",
      "occupancy_rate:\n",
      "count    20909.000000\n",
      "mean         0.948331\n",
      "std          0.070253\n",
      "min          0.753425\n",
      "25%          0.926027\n",
      "50%          0.980822\n",
      "75%          1.000000\n",
      "max          1.000000\n",
      "Name: occupancy_rate, dtype: float64\n",
      "\n",
      "price_per_bedroom:\n",
      "count     20909.000000\n",
      "mean        916.060289\n",
      "std         956.554060\n",
      "min          82.333333\n",
      "25%         600.000000\n",
      "50%         864.000000\n",
      "75%        1200.000000\n",
      "max      100000.000000\n",
      "Name: price_per_bedroom, dtype: float64\n",
      "\n",
      "price_per_person:\n",
      "count    20909.000000\n",
      "mean       434.463136\n",
      "std        482.257305\n",
      "min         12.500000\n",
      "25%        300.000000\n",
      "50%        400.000000\n",
      "75%        575.000000\n",
      "max      50000.000000\n",
      "Name: price_per_person, dtype: float64\n",
      "\n",
      "price_vs_neighborhood:\n",
      "count    20909.000000\n",
      "mean         1.000000\n",
      "std          0.865380\n",
      "min          0.077970\n",
      "25%          0.736345\n",
      "50%          0.930420\n",
      "75%          1.075301\n",
      "max         77.509952\n",
      "Name: price_vs_neighborhood, dtype: float64\n",
      "\n",
      "price_vs_room_type:\n",
      "count    20909.000000\n",
      "mean         1.000000\n",
      "std          0.917214\n",
      "min          0.173337\n",
      "25%          0.810626\n",
      "50%          0.885124\n",
      "75%          1.005105\n",
      "max         73.760340\n",
      "Name: price_vs_room_type, dtype: float64\n",
      "\n",
      "review_frequency:\n",
      "count    20909.000000\n",
      "mean         0.656765\n",
      "std          1.071863\n",
      "min          0.000000\n",
      "25%          0.100000\n",
      "50%          0.320000\n",
      "75%          0.770000\n",
      "max         42.500000\n",
      "Name: review_frequency, dtype: float64\n",
      "\n",
      "review_rate:\n",
      "count    20909.000000\n",
      "mean         2.451132\n",
      "std          6.869207\n",
      "min          0.000000\n",
      "25%          0.226178\n",
      "50%          0.884114\n",
      "75%          2.450946\n",
      "max        424.032628\n",
      "Name: review_rate, dtype: float64\n",
      "\n",
      "review_score_variance:\n",
      "count    20909.000000\n",
      "mean         0.041219\n",
      "std          0.159034\n",
      "min          0.000000\n",
      "25%          0.000000\n",
      "50%          0.010214\n",
      "75%          0.032800\n",
      "max          3.666667\n",
      "Name: review_score_variance, dtype: float64\n",
      "\n",
      "room_type_avg_price:\n",
      "count    20909.000000\n",
      "mean      1291.086135\n",
      "std        204.465665\n",
      "min        489.807692\n",
      "25%       1355.742120\n",
      "50%       1355.742120\n",
      "75%       1355.742120\n",
      "max       1355.742120\n",
      "Name: room_type_avg_price, dtype: float64\n",
      "\n",
      "total_reviews:\n",
      "count    20909.000000\n",
      "mean        17.534841\n",
      "std         41.693636\n",
      "min          0.000000\n",
      "25%          2.000000\n",
      "50%          7.000000\n",
      "75%         18.000000\n",
      "max       1972.000000\n",
      "Name: total_reviews, dtype: float64\n",
      "\n",
      "Checking for issues in new features:\n",
      "avg_rating                  0\n",
      "days_since_last_review      0\n",
      "distance_to_center_km       0\n",
      "host_experience_years       0\n",
      "host_listings_ratio         0\n",
      "host_response_speed         0\n",
      "is_superhost                0\n",
      "listings_in_neighborhood    0\n",
      "neighborhood_avg_price      0\n",
      "occupancy_rate              0\n",
      "price_per_bedroom           0\n",
      "price_per_person            0\n",
      "price_vs_neighborhood       0\n",
      "price_vs_room_type          0\n",
      "review_frequency            0\n",
      "review_rate                 0\n",
      "review_score_variance       0\n",
      "room_type_avg_price         0\n",
      "total_reviews               0\n",
      "dtype: int64\n"
     ]
    }
   ],
   "source": [
    "# Print summary of new features\n",
    "print(\"\\nNew Feature Summary:\")\n",
    "new_features = lis.columns.difference(original_columns)\n",
    "for col in new_features:\n",
    "    print(f\"\\n{col}:\")\n",
    "    print(lis[col].describe())\n",
    "\n",
    "# Check for any issues in new features\n",
    "print(\"\\nChecking for issues in new features:\")\n",
    "print(lis[new_features].isnull().sum())"
   ]
  },
  {
   "cell_type": "markdown",
   "metadata": {},
   "source": [
    "### 9. Final Status Check"
   ]
  },
  {
   "cell_type": "code",
   "execution_count": 85,
   "metadata": {},
   "outputs": [
    {
     "name": "stdout",
     "output_type": "stream",
     "text": [
      "Listings shape: (20909, 90)\n",
      "Calendar shape: (7631731, 8)\n",
      "Reviews shape: (366636, 5)\n"
     ]
    }
   ],
   "source": [
    "print(\"Listings shape:\", lis.shape)\n",
    "print(\"Calendar shape:\", cal.shape) \n",
    "print(\"Reviews shape:\", rev.shape)"
   ]
  },
  {
   "cell_type": "markdown",
   "metadata": {},
   "source": [
    "### 10. Save Processed Datasets"
   ]
  },
  {
   "cell_type": "code",
   "execution_count": 86,
   "metadata": {},
   "outputs": [],
   "source": [
    "lis.to_parquet('data/processed/03_listings_cleaned.parquet')\n",
    "cal.to_parquet('data/processed/03_calendar_cleaned.parquet') \n",
    "rev.to_parquet('data/processed/03_reviews_cleaned.parquet')"
   ]
  }
 ],
 "metadata": {
  "kernelspec": {
   "display_name": "base",
   "language": "python",
   "name": "python3"
  },
  "language_info": {
   "codemirror_mode": {
    "name": "ipython",
    "version": 3
   },
   "file_extension": ".py",
   "mimetype": "text/x-python",
   "name": "python",
   "nbconvert_exporter": "python",
   "pygments_lexer": "ipython3",
   "version": "3.12.5"
  }
 },
 "nbformat": 4,
 "nbformat_minor": 2
}
