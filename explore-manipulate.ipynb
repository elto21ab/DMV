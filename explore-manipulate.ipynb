{
 "cells": [
  {
   "cell_type": "code",
   "execution_count": 2,
   "metadata": {},
   "outputs": [],
   "source": [
    "import pandas as pd"
   ]
  },
  {
   "cell_type": "code",
   "execution_count": 3,
   "metadata": {},
   "outputs": [],
   "source": [
    "# Read the CSV files\n",
    "cal = pd.read_csv('data/calendar2024.csv')\n",
    "lis = pd.read_csv('data/listings2024.csv') \n",
    "rev = pd.read_csv('data/reviews2024.csv')"
   ]
  },
  {
   "cell_type": "markdown",
   "metadata": {},
   "source": [
    "## TODO\n",
    "- [ ] Many variables are stored as generic objects, instead of their actual datatype\n",
    "- [ ] ETL: Extract, Transform, Load\n",
    "\n",
    "---\n",
    "> Attributes of datasets identified at initial look\n",
    "- Primary keys: cal.listing_id, list.id, rev.listing_id\n"
   ]
  },
  {
   "cell_type": "markdown",
   "metadata": {},
   "source": [
    "### Clean"
   ]
  },
  {
   "cell_type": "code",
   "execution_count": 4,
   "metadata": {},
   "outputs": [],
   "source": [
    "cal.drop(columns=['adjusted_price'], inplace=True)\n",
    "\n",
    "null_cols_lis = lis.columns[lis.isna().all()].tolist()\n",
    "lis = lis.drop(columns=null_cols_lis)\n",
    "\n",
    "lis.drop(columns=['scrape_id'], inplace=True)\n",
    "\n",
    "rev.drop(columns=['reviewer_name'], inplace=True)"
   ]
  },
  {
   "cell_type": "code",
   "execution_count": null,
   "metadata": {},
   "outputs": [],
   "source": [
    "cal['price'] = cal['price'].str.replace(r'[\\$,]', '', regex=True)\n",
    "\n",
    "cal = cal.rename(columns={'price': 'price($)'})\n",
    "cal['price($)'] = pd.to_numeric(cal['price($)'], errors='coerce')\n",
    "\n",
    "cal['available'] = cal['available'] == 't'\n",
    "lis['instant_bookable'] = lis['instant_bookable'] == 't'\n",
    "\n",
    "cal['date'] = pd.to_datetime(cal['date'])\n",
    "rev['date'] = pd.to_datetime(rev['date'])\n",
    "lis['last_scraped'] = pd.to_datetime(lis['last_scraped'])\n",
    "lis['host_since'] = pd.to_datetime(lis['host_since'])\n",
    "\n",
    "rev['comments'].astype(\"string\")#(str)"
   ]
  },
  {
   "cell_type": "code",
   "execution_count": null,
   "metadata": {},
   "outputs": [],
   "source": [
    "rev[:5]\n",
    "# calendar_df[calendar_df['listing_id'] == 31094]"
   ]
  },
  {
   "cell_type": "code",
   "execution_count": null,
   "metadata": {},
   "outputs": [],
   "source": [
    "# Convert to datetime\n",
    "rev['comments'] = rev['comments'].astype(\"string\")\n",
    "\n",
    "# Check both type and dtype since astype(str) was called but comments may still not be string dtype\n",
    "print(\"Python type:\", type(rev['comments']))\n",
    "print(\"Pandas dtype:\", rev['comments'].dtype)\n",
    "# rev.info()\n",
    "# Sanity check\n",
    "# print(\"Calendar date range:\", cal['datetime'].min(), \"to\", cal['datetime'].max())"
   ]
  },
  {
   "cell_type": "code",
   "execution_count": 32,
   "metadata": {},
   "outputs": [
    {
     "name": "stdout",
     "output_type": "stream",
     "text": [
      "<class 'pandas.core.frame.DataFrame'>\n",
      "RangeIndex: 20909 entries, 0 to 20908\n",
      "Data columns (total 71 columns):\n",
      " #   Column                                        Non-Null Count  Dtype  \n",
      "---  ------                                        --------------  -----  \n",
      " 0   id                                            20909 non-null  int64  \n",
      " 1   listing_url                                   20909 non-null  object \n",
      " 2   last_scraped                                  20909 non-null  object \n",
      " 3   source                                        20909 non-null  object \n",
      " 4   name                                          20909 non-null  object \n",
      " 5   description                                   20235 non-null  object \n",
      " 6   neighborhood_overview                         8984 non-null   object \n",
      " 7   picture_url                                   20909 non-null  object \n",
      " 8   host_id                                       20909 non-null  int64  \n",
      " 9   host_url                                      20909 non-null  object \n",
      " 10  host_name                                     20908 non-null  object \n",
      " 11  host_since                                    20908 non-null  object \n",
      " 12  host_location                                 17480 non-null  object \n",
      " 13  host_about                                    8866 non-null   object \n",
      " 14  host_response_time                            14441 non-null  object \n",
      " 15  host_response_rate                            14441 non-null  object \n",
      " 16  host_acceptance_rate                          17161 non-null  object \n",
      " 17  host_is_superhost                             20685 non-null  object \n",
      " 18  host_thumbnail_url                            20908 non-null  object \n",
      " 19  host_picture_url                              20908 non-null  object \n",
      " 20  host_neighbourhood                            5417 non-null   object \n",
      " 21  host_listings_count                           20908 non-null  float64\n",
      " 22  host_total_listings_count                     20908 non-null  float64\n",
      " 23  host_verifications                            20908 non-null  object \n",
      " 24  host_has_profile_pic                          20908 non-null  object \n",
      " 25  host_identity_verified                        20908 non-null  object \n",
      " 26  neighbourhood                                 8984 non-null   object \n",
      " 27  neighbourhood_cleansed                        20909 non-null  object \n",
      " 28  latitude                                      20909 non-null  float64\n",
      " 29  longitude                                     20909 non-null  float64\n",
      " 30  property_type                                 20909 non-null  object \n",
      " 31  room_type                                     20909 non-null  object \n",
      " 32  accommodates                                  20909 non-null  int64  \n",
      " 33  bathrooms                                     13660 non-null  float64\n",
      " 34  bathrooms_text                                20903 non-null  object \n",
      " 35  bedrooms                                      20300 non-null  float64\n",
      " 36  beds                                          13660 non-null  float64\n",
      " 37  amenities                                     20909 non-null  object \n",
      " 38  price                                         13596 non-null  object \n",
      " 39  minimum_nights                                20909 non-null  int64  \n",
      " 40  maximum_nights                                20909 non-null  int64  \n",
      " 41  minimum_minimum_nights                        20909 non-null  int64  \n",
      " 42  maximum_minimum_nights                        20909 non-null  int64  \n",
      " 43  minimum_maximum_nights                        20909 non-null  int64  \n",
      " 44  maximum_maximum_nights                        20909 non-null  int64  \n",
      " 45  minimum_nights_avg_ntm                        20909 non-null  float64\n",
      " 46  maximum_nights_avg_ntm                        20909 non-null  float64\n",
      " 47  has_availability                              20437 non-null  object \n",
      " 48  availability_30                               20909 non-null  int64  \n",
      " 49  availability_60                               20909 non-null  int64  \n",
      " 50  availability_90                               20909 non-null  int64  \n",
      " 51  availability_365                              20909 non-null  int64  \n",
      " 52  calendar_last_scraped                         20909 non-null  object \n",
      " 53  number_of_reviews                             20909 non-null  int64  \n",
      " 54  number_of_reviews_ltm                         20909 non-null  int64  \n",
      " 55  number_of_reviews_l30d                        20909 non-null  int64  \n",
      " 56  first_review                                  17689 non-null  object \n",
      " 57  last_review                                   17689 non-null  object \n",
      " 58  review_scores_rating                          17689 non-null  float64\n",
      " 59  review_scores_accuracy                        17665 non-null  float64\n",
      " 60  review_scores_cleanliness                     17665 non-null  float64\n",
      " 61  review_scores_checkin                         17665 non-null  float64\n",
      " 62  review_scores_communication                   17665 non-null  float64\n",
      " 63  review_scores_location                        17664 non-null  float64\n",
      " 64  review_scores_value                           17664 non-null  float64\n",
      " 65  instant_bookable                              20909 non-null  bool   \n",
      " 66  calculated_host_listings_count                20909 non-null  int64  \n",
      " 67  calculated_host_listings_count_entire_homes   20909 non-null  int64  \n",
      " 68  calculated_host_listings_count_private_rooms  20909 non-null  int64  \n",
      " 69  calculated_host_listings_count_shared_rooms   20909 non-null  int64  \n",
      " 70  reviews_per_month                             17689 non-null  float64\n",
      "dtypes: bool(1), float64(17), int64(20), object(33)\n",
      "memory usage: 11.2+ MB\n"
     ]
    }
   ],
   "source": [
    "lis.info()"
   ]
  },
  {
   "cell_type": "code",
   "execution_count": 33,
   "metadata": {},
   "outputs": [
    {
     "name": "stdout",
     "output_type": "stream",
     "text": [
      "0                      31094\n",
      "1                     262961\n",
      "2                     263036\n",
      "3                      32379\n",
      "4                     263708\n",
      "                ...         \n",
      "20904    1189068003466882100\n",
      "20905    1188291058700847695\n",
      "20906    1189086099059352914\n",
      "20907    1188302911099164911\n",
      "20908    1189116201603723600\n",
      "Name: id, Length: 20909, dtype: int64\n"
     ]
    }
   ],
   "source": [
    "print(lis.id)#.nunique())"
   ]
  },
  {
   "cell_type": "code",
   "execution_count": 34,
   "metadata": {},
   "outputs": [
    {
     "name": "stdout",
     "output_type": "stream",
     "text": [
      "0        False\n",
      "1        False\n",
      "2        False\n",
      "3        False\n",
      "4        False\n",
      "         ...  \n",
      "20904    False\n",
      "20905    False\n",
      "20906    False\n",
      "20907    False\n",
      "20908    False\n",
      "Name: instant_bookable, Length: 20909, dtype: bool\n"
     ]
    }
   ],
   "source": [
    "print(lis.instant_bookable)"
   ]
  },
  {
   "cell_type": "code",
   "execution_count": null,
   "metadata": {},
   "outputs": [],
   "source": [
    "# Get columns with less than 10 unique values\n",
    "low_unique_cols = [col for col in cal.columns if cal[col].nunique() < 3]\n",
    "print(\"Columns with less than 3 unique values:\")\n",
    "for col in low_unique_cols:\n",
    "    print(f\"{col}: {cal[col].nunique()}\")"
   ]
  },
  {
   "cell_type": "code",
   "execution_count": null,
   "metadata": {},
   "outputs": [],
   "source": [
    "lis[lis.columns[10:20]].info()"
   ]
  },
  {
   "cell_type": "code",
   "execution_count": 35,
   "metadata": {},
   "outputs": [
    {
     "data": {
      "text/html": [
       "<div>\n",
       "<style scoped>\n",
       "    .dataframe tbody tr th:only-of-type {\n",
       "        vertical-align: middle;\n",
       "    }\n",
       "\n",
       "    .dataframe tbody tr th {\n",
       "        vertical-align: top;\n",
       "    }\n",
       "\n",
       "    .dataframe thead th {\n",
       "        text-align: right;\n",
       "    }\n",
       "</style>\n",
       "<table border=\"1\" class=\"dataframe\">\n",
       "  <thead>\n",
       "    <tr style=\"text-align: right;\">\n",
       "      <th></th>\n",
       "      <th>host_name</th>\n",
       "      <th>host_since</th>\n",
       "      <th>host_location</th>\n",
       "      <th>host_about</th>\n",
       "      <th>host_response_time</th>\n",
       "      <th>host_response_rate</th>\n",
       "      <th>host_acceptance_rate</th>\n",
       "      <th>host_is_superhost</th>\n",
       "      <th>host_thumbnail_url</th>\n",
       "      <th>host_picture_url</th>\n",
       "    </tr>\n",
       "  </thead>\n",
       "  <tbody>\n",
       "    <tr>\n",
       "      <th>0</th>\n",
       "      <td>Ebbe</td>\n",
       "      <td>2010-05-22</td>\n",
       "      <td>Copenhagen, Denmark</td>\n",
       "      <td>Hi and welcome. My name is Ebbe, I am a medica...</td>\n",
       "      <td>NaN</td>\n",
       "      <td>NaN</td>\n",
       "      <td>NaN</td>\n",
       "      <td>f</td>\n",
       "      <td>https://a0.muscache.com/im/users/129976/profil...</td>\n",
       "      <td>https://a0.muscache.com/im/users/129976/profil...</td>\n",
       "    </tr>\n",
       "    <tr>\n",
       "      <th>1</th>\n",
       "      <td>Nina</td>\n",
       "      <td>2011-11-07</td>\n",
       "      <td>Copenhagen, Denmark</td>\n",
       "      <td>Hej -  I read the Master in Pedagogy. My husba...</td>\n",
       "      <td>NaN</td>\n",
       "      <td>NaN</td>\n",
       "      <td>100%</td>\n",
       "      <td>f</td>\n",
       "      <td>https://a0.muscache.com/im/pictures/user/43342...</td>\n",
       "      <td>https://a0.muscache.com/im/pictures/user/43342...</td>\n",
       "    </tr>\n",
       "  </tbody>\n",
       "</table>\n",
       "</div>"
      ],
      "text/plain": [
       "  host_name  host_since        host_location  \\\n",
       "0      Ebbe  2010-05-22  Copenhagen, Denmark   \n",
       "1      Nina  2011-11-07  Copenhagen, Denmark   \n",
       "\n",
       "                                          host_about host_response_time  \\\n",
       "0  Hi and welcome. My name is Ebbe, I am a medica...                NaN   \n",
       "1  Hej -  I read the Master in Pedagogy. My husba...                NaN   \n",
       "\n",
       "  host_response_rate host_acceptance_rate host_is_superhost  \\\n",
       "0                NaN                  NaN                 f   \n",
       "1                NaN                 100%                 f   \n",
       "\n",
       "                                  host_thumbnail_url  \\\n",
       "0  https://a0.muscache.com/im/users/129976/profil...   \n",
       "1  https://a0.muscache.com/im/pictures/user/43342...   \n",
       "\n",
       "                                    host_picture_url  \n",
       "0  https://a0.muscache.com/im/users/129976/profil...  \n",
       "1  https://a0.muscache.com/im/pictures/user/43342...  "
      ]
     },
     "execution_count": 35,
     "metadata": {},
     "output_type": "execute_result"
    }
   ],
   "source": [
    "lis.iloc[:2, 10:20]"
   ]
  },
  {
   "cell_type": "code",
   "execution_count": null,
   "metadata": {},
   "outputs": [],
   "source": [
    "rev[:5]"
   ]
  },
  {
   "cell_type": "code",
   "execution_count": null,
   "metadata": {},
   "outputs": [],
   "source": [
    "lis.info()"
   ]
  },
  {
   "cell_type": "code",
   "execution_count": null,
   "metadata": {},
   "outputs": [],
   "source": [
    "# remap to boolean + sanity check\n",
    "# print(lis.groupby('instant_bookable').size())\n",
    "# print(lis[['instant_bookable']].groupby('instant_bookable').head(2))\n",
    "\n",
    "# lis['instant_bookable'] = lis['instant_bookable'] == 't'\n",
    "\n",
    "# print(lis.groupby('instant_bookable').size())\n",
    "# print(lis[['instant_bookable']].groupby('instant_bookable').head(2))\n",
    "\n",
    "# print(rev.reviewer_name)#.nunique())\n",
    "rev.describe()"
   ]
  },
  {
   "cell_type": "code",
   "execution_count": null,
   "metadata": {},
   "outputs": [],
   "source": []
  }
 ],
 "metadata": {
  "kernelspec": {
   "display_name": "base",
   "language": "python",
   "name": "python3"
  },
  "language_info": {
   "codemirror_mode": {
    "name": "ipython",
    "version": 3
   },
   "file_extension": ".py",
   "mimetype": "text/x-python",
   "name": "python",
   "nbconvert_exporter": "python",
   "pygments_lexer": "ipython3",
   "version": "3.11.8"
  }
 },
 "nbformat": 4,
 "nbformat_minor": 2
}
