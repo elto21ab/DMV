{
 "cells": [
  {
   "cell_type": "code",
   "execution_count": 51,
   "metadata": {},
   "outputs": [],
   "source": [
    "import pandas as pd"
   ]
  },
  {
   "cell_type": "code",
   "execution_count": 52,
   "metadata": {},
   "outputs": [],
   "source": [
    "# Read the CSV files\n",
    "cal = pd.read_csv('data/calendar2024.csv')\n",
    "lis = pd.read_csv('data/listings2024.csv') \n",
    "rev = pd.read_csv('data/reviews2024.csv')"
   ]
  },
  {
   "cell_type": "markdown",
   "metadata": {},
   "source": [
    "## TODO\n",
    "- [ ] Many variables are stored as generic objects, instead of their actual datatype\n",
    "- [ ] datetime columns are stored as objects\n",
    "- [ ] lis.neighbourhood_cleansed has spelling mistakes\n",
    "- [ ] first name of reviewer/host seems irrelevant, when unique-ID is available\n",
    "- [ ] NaN, missing, and null values are inconsistent\n",
    "- [ ] Boolean is expressed as t/f\n",
    "- [ ] Price is stored as a string in an arbitrary currency (is it $ or local?)\n",
    "\n",
    "**lis csv** \n",
    "- property_type, and room_type are mapped as obj., is categorial\n",
    "- bathroom and bathrooms_text are the same, but bathrooms_text has some values that are not in bathroom.\n",
    "- bedrooms, and beds\tare stored as float, but is int.\n",
    "\n",
    "- [ ] ETL: Extract, Transform, Load\n",
    "\n",
    "---\n",
    "> Attributes of datasets identified at initial look\n",
    "- Primary keys: cal.listing_id, list.id, rev.listing_id\n"
   ]
  },
  {
   "cell_type": "markdown",
   "metadata": {},
   "source": [
    "### Clean"
   ]
  },
  {
   "cell_type": "code",
   "execution_count": 53,
   "metadata": {},
   "outputs": [],
   "source": [
    "cal.drop(columns=['adjusted_price'], inplace=True)\n",
    "\n",
    "null_cols_lis = lis.columns[lis.isna().all()].tolist()\n",
    "lis = lis.drop(columns=null_cols_lis)\n",
    "\n",
    "lis.drop(columns=['scrape_id'], inplace=True)\n",
    "\n",
    "lis.drop(columns=['host_name'], inplace=True)\n",
    "rev.drop(columns=['reviewer_name'], inplace=True)"
   ]
  },
  {
   "cell_type": "code",
   "execution_count": null,
   "metadata": {},
   "outputs": [],
   "source": [
    "# cal['price'] = cal['price'].str.replace(r'[\\$,]', '', regex=True)\n",
    "\n",
    "# cal = cal.rename(columns={'price': 'price($)'})\n",
    "# cal['price($)'] = pd.to_numeric(cal['price($)'], errors='coerce')\n",
    "\n",
    "cal['available'] = cal['available'] == 't'\n",
    "lis['instant_bookable'] = lis['instant_bookable'] == 't'\n",
    "lis['host_is_superhost'] = lis['host_is_superhost'] == 't'\n",
    "lis['host_has_profile_pic'] = lis['host_has_profile_pic'] == 't'\n",
    "lis['host_identity_verified'] = lis['host_identity_verified'] == 't'\n",
    "lis['has_availability'] = lis['has_availability'] == 't'\n",
    "\n",
    "\n",
    "cal['date'] = pd.to_datetime(cal['date'])\n",
    "rev['date'] = pd.to_datetime(rev['date'])\n",
    "lis['last_scraped'] = pd.to_datetime(lis['last_scraped'])\n",
    "lis['host_since'] = pd.to_datetime(lis['host_since'])\n",
    "\n",
    "rev['comments'].astype(\"string\")#(str)"
   ]
  },
  {
   "cell_type": "code",
   "execution_count": null,
   "metadata": {},
   "outputs": [],
   "source": [
    "lis[:5]\n",
    "# calendar_df[calendar_df['listing_id'] == 31094]"
   ]
  },
  {
   "cell_type": "code",
   "execution_count": null,
   "metadata": {},
   "outputs": [],
   "source": [
    "# Convert to datetime\n",
    "rev['comments'] = rev['comments'].astype(\"string\")\n",
    "\n",
    "# Check both type and dtype since astype(str) was called but comments may still not be string dtype\n",
    "print(\"Python type:\", type(rev['comments']))\n",
    "print(\"Pandas dtype:\", rev['comments'].dtype)\n",
    "# rev.info()\n",
    "# Sanity check\n",
    "# print(\"Calendar date range:\", cal['datetime'].min(), \"to\", cal['datetime'].max())"
   ]
  },
  {
   "cell_type": "code",
   "execution_count": null,
   "metadata": {},
   "outputs": [],
   "source": [
    "lis.info()"
   ]
  },
  {
   "cell_type": "code",
   "execution_count": null,
   "metadata": {},
   "outputs": [],
   "source": [
    "print(cal.price.unique())#.nunique())"
   ]
  },
  {
   "cell_type": "code",
   "execution_count": null,
   "metadata": {},
   "outputs": [],
   "source": [
    "print(lis.beds.unique())"
   ]
  },
  {
   "cell_type": "code",
   "execution_count": null,
   "metadata": {},
   "outputs": [],
   "source": [
    "print(lis.instant_bookable)"
   ]
  },
  {
   "cell_type": "code",
   "execution_count": null,
   "metadata": {},
   "outputs": [],
   "source": [
    "lis[lis.columns[10:20]].info()"
   ]
  },
  {
   "cell_type": "code",
   "execution_count": 75,
   "metadata": {},
   "outputs": [],
   "source": [
    "lis = lis.where(pd.notnull(lis), None)"
   ]
  },
  {
   "cell_type": "code",
   "execution_count": null,
   "metadata": {},
   "outputs": [],
   "source": [
    "lis[lis.columns[:-20]].info()"
   ]
  },
  {
   "cell_type": "code",
   "execution_count": null,
   "metadata": {},
   "outputs": [],
   "source": [
    "lis.iloc[:2, :-20]"
   ]
  },
  {
   "cell_type": "code",
   "execution_count": null,
   "metadata": {},
   "outputs": [],
   "source": [
    "# Get columns with less than 3 unique values\n",
    "low_unique_cols = [col for col in lis.columns if lis[col].nunique() < 3]\n",
    "print(\"Columns with less than 3 unique values:\")\n",
    "for col in low_unique_cols:\n",
    "    print(f\"{col}: {lis[col].nunique()}\")"
   ]
  },
  {
   "cell_type": "code",
   "execution_count": null,
   "metadata": {},
   "outputs": [],
   "source": [
    "# remap to boolean + sanity check\n",
    "# print(lis.groupby('instant_bookable').size())\n",
    "# print(lis[['instant_bookable']].groupby('instant_bookable').head(2))\n",
    "\n",
    "# lis['instant_bookable'] = lis['instant_bookable'] == 't'\n",
    "\n",
    "# print(lis.groupby('instant_bookable').size())\n",
    "# print(lis[['instant_bookable']].groupby('instant_bookable').head(2))\n",
    "\n",
    "# print(rev.reviewer_name)#.nunique())\n",
    "rev.describe()"
   ]
  }
 ],
 "metadata": {
  "kernelspec": {
   "display_name": "base",
   "language": "python",
   "name": "python3"
  },
  "language_info": {
   "codemirror_mode": {
    "name": "ipython",
    "version": 3
   },
   "file_extension": ".py",
   "mimetype": "text/x-python",
   "name": "python",
   "nbconvert_exporter": "python",
   "pygments_lexer": "ipython3",
   "version": "3.11.8"
  }
 },
 "nbformat": 4,
 "nbformat_minor": 2
}
