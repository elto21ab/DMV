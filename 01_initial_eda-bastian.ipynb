{
 "cells": [
  {
   "cell_type": "code",
   "execution_count": 1,
   "metadata": {},
   "outputs": [],
   "source": [
    "# Import necessary libraries\n",
    "import pandas as pd\n",
    "import numpy as np\n",
    "import matplotlib.pyplot as plt\n",
    "import seaborn as sns"
   ]
  },
  {
   "cell_type": "code",
   "execution_count": 2,
   "metadata": {},
   "outputs": [],
   "source": [
    "# Set display options for better notebook readability\n",
    "pd.set_option('display.max_columns', None)\n",
    "pd.set_option('display.max_rows', 100)\n",
    "\n",
    "# Read the datasets\n",
    "listings_df = pd.read_csv('/Users/bastianmeyer/Library/Mobile Documents/com~apple~CloudDocs/CBS/MSc Businesss Administration & Data Science/First year/1st Semester/Data Management & Visualization/Exam/airbnb_analysis/data/raw/calendar2024.csv')\n",
    "calendar_df = pd.read_csv('/Users/bastianmeyer/Library/Mobile Documents/com~apple~CloudDocs/CBS/MSc Businesss Administration & Data Science/First year/1st Semester/Data Management & Visualization/Exam/airbnb_analysis/data/raw/listings2024.csv')\n",
    "reviews_df = pd.read_csv('/Users/bastianmeyer/Library/Mobile Documents/com~apple~CloudDocs/CBS/MSc Businesss Administration & Data Science/First year/1st Semester/Data Management & Visualization/Exam/airbnb_analysis/data/raw/reviews2024.csv')"
   ]
  },
  {
   "cell_type": "code",
   "execution_count": null,
   "metadata": {},
   "outputs": [],
   "source": [
    "listings_df.head()"
   ]
  },
  {
   "cell_type": "code",
   "execution_count": null,
   "metadata": {},
   "outputs": [],
   "source": [
    "calendar_df.head()"
   ]
  },
  {
   "cell_type": "code",
   "execution_count": null,
   "metadata": {},
   "outputs": [],
   "source": [
    "reviews_df.head()"
   ]
  },
  {
   "cell_type": "code",
   "execution_count": 6,
   "metadata": {},
   "outputs": [],
   "source": [
    "# Initial exploration functions\n",
    "def explore_dataset(df, name):\n",
    "    print(f\"\\n{'='*50}\")\n",
    "    print(f\"Dataset: {name}\")\n",
    "    print(f\"{'='*50}\")\n",
    "    \n",
    "    print(\"\\n1. Basic Information:\")\n",
    "    print(f\"Shape: {df.shape}\")\n",
    "    print(\"\\n2. Data Types:\")\n",
    "    print(df.dtypes)\n",
    "    \n",
    "    print(\"\\n3. Missing Values:\")\n",
    "    missing = df.isnull().sum()\n",
    "    missing_pct = (missing / len(df)) * 100\n",
    "    missing_info = pd.DataFrame({\n",
    "        'Missing Values': missing,\n",
    "        'Percentage': missing_pct\n",
    "    })\n",
    "    print(missing_info[missing_info['Missing Values'] > 0])\n",
    "    \n",
    "    print(\"\\n4. Sample Data:\")\n",
    "    print(df.head())\n",
    "    \n",
    "    return missing_info"
   ]
  },
  {
   "cell_type": "code",
   "execution_count": null,
   "metadata": {},
   "outputs": [],
   "source": [
    "# Explore each dataset\n",
    "listings_missing = explore_dataset(listings_df, 'Listings')\n",
    "calendar_missing = explore_dataset(calendar_df, 'Calendar')\n",
    "reviews_missing = explore_dataset(reviews_df, 'Reviews')"
   ]
  },
  {
   "cell_type": "code",
   "execution_count": null,
   "metadata": {},
   "outputs": [],
   "source": [
    "# Basic visualizations for initial insights\n",
    "def plot_missing_values(missing_info, title):\n",
    "    plt.figure(figsize=(12, 6))\n",
    "    missing_info[missing_info['Missing Values'] > 0]['Percentage'].plot(kind='bar')\n",
    "    plt.title(f'Missing Values in {title} Dataset')\n",
    "    plt.xlabel('Columns')\n",
    "    plt.ylabel('Percentage Missing')\n",
    "    plt.xticks(rotation=45, ha='right')\n",
    "    plt.tight_layout()\n",
    "    plt.show()\n",
    "\n",
    "# Plot missing values for each dataset\n",
    "plot_missing_values(listings_missing, 'Listings')\n",
    "plot_missing_values(calendar_missing, 'Calendar')\n",
    "plot_missing_values(reviews_missing, 'Reviews')"
   ]
  },
  {
   "cell_type": "code",
   "execution_count": null,
   "metadata": {},
   "outputs": [],
   "source": []
  }
 ],
 "metadata": {
  "kernelspec": {
   "display_name": "Python 3",
   "language": "python",
   "name": "python3"
  },
  "language_info": {
   "codemirror_mode": {
    "name": "ipython",
    "version": 3
   },
   "file_extension": ".py",
   "mimetype": "text/x-python",
   "name": "python",
   "nbconvert_exporter": "python",
   "pygments_lexer": "ipython3",
   "version": "3.12.5"
  }
 },
 "nbformat": 4,
 "nbformat_minor": 2
}
