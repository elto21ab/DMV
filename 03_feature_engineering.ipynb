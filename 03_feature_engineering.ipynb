{
 "cells": [
  {
   "cell_type": "code",
   "execution_count": 5,
   "metadata": {},
   "outputs": [],
   "source": [
    "import pandas as pd\n",
    "import numpy as np"
   ]
  },
  {
   "cell_type": "code",
   "execution_count": 6,
   "metadata": {},
   "outputs": [
    {
     "name": "stdout",
     "output_type": "stream",
     "text": [
      "(20905, 66) \n",
      " (366636, 5)\n"
     ]
    }
   ],
   "source": [
    "lis_df = pd.read_parquet('data/processed/02_listings.parquet')\n",
    "rev_df = pd.read_parquet('data/processed/02_reviews.parquet')\n",
    "print(lis_df.shape,'\\n',rev_df.shape)"
   ]
  },
  {
   "cell_type": "code",
   "execution_count": 4,
   "metadata": {},
   "outputs": [
    {
     "name": "stdout",
     "output_type": "stream",
     "text": [
      "(10117, 66) \n",
      " (366636, 5)\n"
     ]
    }
   ],
   "source": [
    "# Drop rows where price_DKK is missing, keep all other columns\n",
    "lis_df = lis_df.dropna(subset=['price_DKK'])\n",
    "\n",
    "# Drop listings with same first/last review dates or no reviews\n",
    "lis_df = lis_df[\n",
    "    (lis_df['first_review'] != lis_df['last_review']) & \n",
    "    ~(lis_df[['first_review', 'last_review']].isnull().all(axis=1))\n",
    "]\n",
    "print(lis_df.shape,'\\n',rev_df.shape)"
   ]
  },
  {
   "cell_type": "markdown",
   "metadata": {},
   "source": [
    "### 7. Handle Missing Values"
   ]
  },
  {
   "cell_type": "markdown",
   "metadata": {},
   "source": [
    "#### Imputation for Listings"
   ]
  },
  {
   "cell_type": "code",
   "execution_count": 12,
   "metadata": {},
   "outputs": [],
   "source": [
    "# Physical characteristics imputation - revised approach\n",
    "# Bathrooms - keep room_type median as it must exist\n",
    "lis_df['bathrooms'] = lis_df.groupby('room_type')['bathrooms'].transform(lambda x: x.fillna(x.median()))\n",
    "lis_df['bathrooms'] = lis_df['bathrooms'].fillna(1.0)  # Fallback to 1 if still missing\n",
    "\n",
    "# Bedrooms - set to 0 for shared/studio, impute for homes\n",
    "lis_df.loc[lis_df['room_type'].isin(['Shared room', 'Private room']), 'bedrooms'] = \\\n",
    "    lis_df.loc[lis_df['room_type'].isin(['Shared room', 'Private room']), 'bedrooms'].fillna(0)\n",
    "lis_df.loc[lis_df['room_type'] == 'Entire home/apt', 'bedrooms'] = \\\n",
    "    lis_df.loc[lis_df['room_type'] == 'Entire home/apt', 'bedrooms'].transform(lambda x: x.fillna(x.median()))\n",
    "lis_df['bedrooms'] = lis_df['bedrooms'].fillna(0)  # Any remaining missing to 0\n",
    "\n",
    "# Beds - ensure at least 1 bed per listing based on accommodates\n",
    "lis_df['beds'] = lis_df['beds'].fillna(lis_df['accommodates'].clip(lower=1))\n",
    "\n",
    "\n",
    "################ Alternative, just drop missing values. It is 7k out of 18m rows ################\n",
    "# Price imputation\n",
    "# If price is missing, use the median price for that room type\n",
    "lis_df['price_DKK'] = lis_df.groupby('room_type')['price_DKK'].transform(lambda x: x.fillna(x.median()))\n",
    "\n",
    "# If any prices are still missing (very rare case), use overall median\n",
    "lis_df['price_DKK'] = lis_df['price_DKK'].fillna(lis_df['price_DKK'].median())\n",
    "# lis_df['price_DKK'].isna().sum()\n",
    "################ Alternative, just drop missing values. It is 7k out of 18m rows ################\n",
    "\n",
    "\n",
    "# Numeric imputation - ensure all numeric fields have appropriate values for PostgreSQL numeric types\n",
    "numeric_cols_to_impute = {\n",
    "    'host_response_rate_pct': 0.0,  # Use 0 instead of mean for percentage\n",
    "    'host_acceptance_rate_pct': 0.0,  # Use 0 instead of mean for percentage\n",
    "    'review_scores_rating': 0,  # Use 0 instead of median for scores\n",
    "    'review_scores_accuracy': 0,\n",
    "    'review_scores_cleanliness': 0,\n",
    "    'review_scores_checkin': 0,\n",
    "    'review_scores_communication': 0,\n",
    "    'review_scores_location': 0,\n",
    "    'review_scores_value': 0,\n",
    "    'reviews_per_month': 0,\n",
    "    'host_listings_count': 1,\n",
    "    'host_total_listings_count': 1\n",
    "}\n",
    "\n",
    "for col, value in numeric_cols_to_impute.items():\n",
    "    lis_df[col] = lis_df[col].fillna(value)\n",
    "\n",
    "# Categorical imputation - use empty string for VARCHAR fields where appropriate\n",
    "categorical_cols_to_impute = {\n",
    "    'host_response_time': '',  # VARCHAR\n",
    "    'host_neighbourhood': '',  # VARCHAR\n",
    "    'bathrooms_text': '',  # VARCHAR\n",
    "    'neighbourhood': 'mode',  # Keep mode for geographic consistency\n",
    "    'neighbourhood_cleansed': 'mode',  # Keep mode for geographic consistency\n",
    "    'host_location': 'Copenhagen, Denmark',  # Important location default\n",
    "}\n",
    "\n",
    "for col, strategy in categorical_cols_to_impute.items():\n",
    "    if strategy == 'mode':\n",
    "        lis_df[col] = lis_df[col].fillna(lis_df[col].mode()[0])\n",
    "    else:\n",
    "        lis_df[col] = lis_df[col].fillna(strategy)\n",
    "\n",
    "# Text columns - use empty string for TEXT fields\n",
    "text_cols_to_impute = ['host_about', 'neighborhood_overview', 'description']\n",
    "for col in text_cols_to_impute:\n",
    "    lis_df[col] = lis_df[col].fillna('')\n",
    "\n",
    "# Date columns - use explicit PostgreSQL-compatible dates\n",
    "current_date = pd.Timestamp.now().date()\n",
    "lis_df['host_since'] = lis_df['host_since'].fillna(pd.Timestamp(pd.NaT))  # Use explicit default date\n",
    "lis_df['first_review'] = lis_df['first_review'].fillna(pd.NaT)  # Keep as NULL for no reviews\n",
    "lis_df['last_review'] = lis_df['last_review'].fillna(pd.NaT)  # Keep as NULL for no reviews\n",
    "\n",
    "# Boolean columns - ensure True/False (not NULL)\n",
    "boolean_cols = ['instant_bookable', 'host_is_superhost', 'host_has_profile_pic', \n",
    "                'host_identity_verified', 'has_availability']\n",
    "for col in boolean_cols:\n",
    "    lis_df[col] = lis_df[col].fillna(False)  # Default to False for missing booleans"
   ]
  },
  {
   "cell_type": "markdown",
   "metadata": {},
   "source": [
    "#### Imputation for Calendar"
   ]
  },
  {
   "cell_type": "code",
   "execution_count": null,
   "metadata": {},
   "outputs": [],
   "source": [
    "# Price imputation for calendar\n",
    "# cal_df['price_USD'] = cal_df.groupby(['listing_id', 'available'])['price_USD'].transform(lambda x: x.fillna(x.median()))\n",
    "\n",
    "# Todo: Maybe 0 is not as good as median for default?\n",
    "# cal_df['price_USD'] = cal_df['price_USD'].fillna(0)  # Default to 0 for any remaining NULL prices\n",
    "\n",
    "# Handle minimum and maximum nights\n",
    "# cal_df['minimum_nights'] = cal_df.groupby('listing_id')['minimum_nights'].transform(lambda x: x.fillna(x.median()))\n",
    "# cal_df['maximum_nights'] = cal_df.groupby('listing_id')['maximum_nights'].transform(lambda x: x.fillna(x.median()))\n",
    "# Default to 1 and 365 if still missing\n",
    "# cal_df['minimum_nights'] = cal_df['minimum_nights'].fillna(1)\n",
    "# cal_df['maximum_nights'] = cal_df['maximum_nights'].fillna(365)"
   ]
  },
  {
   "cell_type": "markdown",
   "metadata": {},
   "source": [
    "#### Imputation for Reviews"
   ]
  },
  {
   "cell_type": "code",
   "execution_count": 13,
   "metadata": {},
   "outputs": [],
   "source": [
    "# Handle missing comments\n",
    "rev_df['comments'] = rev_df['comments'].fillna('')  # Empty string for TEXT field"
   ]
  },
  {
   "cell_type": "code",
   "execution_count": 14,
   "metadata": {},
   "outputs": [
    {
     "name": "stdout",
     "output_type": "stream",
     "text": [
      "\n",
      "Columns with remaining NULL values:\n",
      "host_since                     1\n",
      "first_review                3220\n",
      "last_review                 3220\n",
      "host_verifications_count       1\n",
      "dtype: int64\n"
     ]
    }
   ],
   "source": [
    "# After all imputations, check which columns still have nulls\n",
    "null_check = lis_df.isnull().sum()\n",
    "print(\"\\nColumns with remaining NULL values:\")\n",
    "print(null_check[null_check > 0])\n",
    "\n",
    "# Fix remaining nulls based on their data types\n",
    "for col in lis_df.columns[lis_df.isnull().any()]:\n",
    "    dtype = lis_df[col].dtype\n",
    "    \n",
    "    if np.issubdtype(dtype, np.number):  # Numeric columns\n",
    "        lis_df[col] = lis_df[col].fillna(0)\n",
    "    elif dtype == 'datetime64[ns]':  # DateTime columns\n",
    "        lis_df[col] = lis_df[col].fillna(pd.NaT)\n",
    "    elif dtype == 'bool':  # Boolean columns\n",
    "        lis_df[col] = lis_df[col].fillna(False)\n",
    "    else:  # String/object columns\n",
    "        lis_df[col] = lis_df[col].fillna('')"
   ]
  },
  {
   "cell_type": "code",
   "execution_count": 15,
   "metadata": {},
   "outputs": [
    {
     "name": "stdout",
     "output_type": "stream",
     "text": [
      "\n",
      "Verifying no NULL values remain:\n",
      "\n",
      "Listings nulls: 6441\n",
      "Reviews nulls: 0\n"
     ]
    }
   ],
   "source": [
    "# Verify imputation\n",
    "print(\"\\nVerifying no NULL values remain:\")\n",
    "print(\"\\nListings nulls:\", lis_df.isnull().sum().sum())\n",
    "print(\"Reviews nulls:\", rev_df.isnull().sum().sum())"
   ]
  },
  {
   "cell_type": "markdown",
   "metadata": {},
   "source": [
    "### 8. Feature Engineering"
   ]
  },
  {
   "cell_type": "code",
   "execution_count": 16,
   "metadata": {},
   "outputs": [],
   "source": [
    "# Store original columns\n",
    "original_columns = lis_df.columns.copy()"
   ]
  },
  {
   "cell_type": "code",
   "execution_count": 17,
   "metadata": {},
   "outputs": [
    {
     "name": "stdout",
     "output_type": "stream",
     "text": [
      "<class 'pandas.core.frame.DataFrame'>\n",
      "RangeIndex: 20909 entries, 0 to 20908\n",
      "Data columns (total 70 columns):\n",
      " #   Column                                        Non-Null Count  Dtype         \n",
      "---  ------                                        --------------  -----         \n",
      " 0   id                                            20909 non-null  int64         \n",
      " 1   listing_url                                   20909 non-null  string        \n",
      " 2   last_scraped                                  20909 non-null  datetime64[ns]\n",
      " 3   source                                        20909 non-null  string        \n",
      " 4   name                                          20909 non-null  string        \n",
      " 5   description                                   20909 non-null  string        \n",
      " 6   neighborhood_overview                         20909 non-null  string        \n",
      " 7   host_id                                       20909 non-null  int64         \n",
      " 8   host_since                                    20908 non-null  datetime64[ns]\n",
      " 9   host_location                                 20909 non-null  string        \n",
      " 10  host_about                                    20909 non-null  string        \n",
      " 11  host_response_time                            20909 non-null  string        \n",
      " 12  host_response_rate_pct                        20909 non-null  float64       \n",
      " 13  host_acceptance_rate_pct                      20909 non-null  float64       \n",
      " 14  host_is_superhost                             20909 non-null  bool          \n",
      " 15  host_neighbourhood                            20909 non-null  string        \n",
      " 16  host_listings_count                           20909 non-null  float64       \n",
      " 17  host_total_listings_count                     20909 non-null  float64       \n",
      " 18  host_has_profile_pic                          20909 non-null  bool          \n",
      " 19  host_identity_verified                        20909 non-null  bool          \n",
      " 20  neighbourhood                                 20909 non-null  string        \n",
      " 21  neighbourhood_cleansed                        20909 non-null  string        \n",
      " 22  latitude                                      20909 non-null  float64       \n",
      " 23  longitude                                     20909 non-null  float64       \n",
      " 24  property_type                                 20909 non-null  string        \n",
      " 25  room_type                                     20909 non-null  string        \n",
      " 26  accommodates                                  20909 non-null  int64         \n",
      " 27  bathrooms                                     20909 non-null  float64       \n",
      " 28  bathrooms_text                                20909 non-null  string        \n",
      " 29  bedrooms                                      20909 non-null  float64       \n",
      " 30  beds                                          20909 non-null  float64       \n",
      " 31  price_DKK                                     20909 non-null  float64       \n",
      " 32  minimum_nights                                20909 non-null  int64         \n",
      " 33  maximum_nights                                20909 non-null  int64         \n",
      " 34  minimum_minimum_nights                        20909 non-null  int64         \n",
      " 35  maximum_minimum_nights                        20909 non-null  int64         \n",
      " 36  minimum_maximum_nights                        20909 non-null  int64         \n",
      " 37  maximum_maximum_nights                        20909 non-null  int64         \n",
      " 38  minimum_nights_avg_ntm                        20909 non-null  float64       \n",
      " 39  maximum_nights_avg_ntm                        20909 non-null  float64       \n",
      " 40  has_availability                              20909 non-null  bool          \n",
      " 41  availability_30                               20909 non-null  int64         \n",
      " 42  availability_60                               20909 non-null  int64         \n",
      " 43  availability_90                               20909 non-null  int64         \n",
      " 44  availability_365                              20909 non-null  int64         \n",
      " 45  calendar_last_scraped                         20909 non-null  datetime64[ns]\n",
      " 46  number_of_reviews                             20909 non-null  int64         \n",
      " 47  number_of_reviews_ltm                         20909 non-null  int64         \n",
      " 48  number_of_reviews_l30d                        20909 non-null  int64         \n",
      " 49  first_review                                  17689 non-null  datetime64[ns]\n",
      " 50  last_review                                   17689 non-null  datetime64[ns]\n",
      " 51  review_scores_rating                          20909 non-null  float64       \n",
      " 52  review_scores_accuracy                        20909 non-null  float64       \n",
      " 53  review_scores_cleanliness                     20909 non-null  float64       \n",
      " 54  review_scores_checkin                         20909 non-null  float64       \n",
      " 55  review_scores_communication                   20909 non-null  float64       \n",
      " 56  review_scores_location                        20909 non-null  float64       \n",
      " 57  review_scores_value                           20909 non-null  float64       \n",
      " 58  instant_bookable                              20909 non-null  bool          \n",
      " 59  calculated_host_listings_count                20909 non-null  int64         \n",
      " 60  calculated_host_listings_count_entire_homes   20909 non-null  int64         \n",
      " 61  calculated_host_listings_count_private_rooms  20909 non-null  int64         \n",
      " 62  calculated_host_listings_count_shared_rooms   20909 non-null  int64         \n",
      " 63  reviews_per_month                             20909 non-null  float64       \n",
      " 64  amenities_count                               20909 non-null  int64         \n",
      " 65  host_verifications_count                      20909 non-null  float64       \n",
      " 66  verification_email                            20909 non-null  int64         \n",
      " 67  verification_phone                            20909 non-null  int64         \n",
      " 68  verification_photographer                     20909 non-null  int64         \n",
      " 69  verification_work_email                       20909 non-null  int64         \n",
      "dtypes: bool(5), datetime64[ns](5), float64(21), int64(25), string(14)\n",
      "memory usage: 10.5 MB\n"
     ]
    }
   ],
   "source": [
    "lis_df.info()"
   ]
  },
  {
   "cell_type": "code",
   "execution_count": 18,
   "metadata": {},
   "outputs": [],
   "source": [
    "# Listing Quality Indicators\n",
    "lis_df['is_superhost'] = lis_df['host_is_superhost']  # Already boolean\n",
    "lis_df['total_reviews'] = lis_df['number_of_reviews']\n",
    "lis_df['avg_rating'] = lis_df['review_scores_rating']\n",
    "# lis_df['review_frequency'] = lis_df['reviews_per_month']\n"
   ]
  },
  {
   "cell_type": "code",
   "execution_count": 19,
   "metadata": {},
   "outputs": [],
   "source": [
    "# Location Features\n",
    "COPENHAGEN_CENTER_LAT = 55.6761\n",
    "COPENHAGEN_CENTER_LON = 12.5683\n",
    "\n",
    "# Distance to center in birdeye view\n",
    "lis_df['distance_to_center_km'] = np.sqrt(\n",
    "    (lis_df['latitude'] - COPENHAGEN_CENTER_LAT)**2 + \n",
    "    (lis_df['longitude'] - COPENHAGEN_CENTER_LON)**2\n",
    ") * 111  # Rough conversion to kilometers\n",
    "\n",
    "# Neighborhood density\n",
    "lis_df['listings_in_neighborhood'] = lis_df.groupby('neighbourhood_cleansed')['id'].transform('count')"
   ]
  },
  {
   "cell_type": "code",
   "execution_count": 20,
   "metadata": {},
   "outputs": [],
   "source": [
    "# Price Features\n",
    "# Neighborhood price comparison\n",
    "lis_df['neighborhood_avg_price'] = lis_df.groupby('neighbourhood_cleansed')['price_DKK'].transform('mean')\n",
    "lis_df['price_vs_neighborhood'] = lis_df['price_DKK'] / lis_df['neighborhood_avg_price']\n",
    "\n",
    "# Room type price comparison\n",
    "lis_df['room_type_avg_price'] = lis_df.groupby('room_type')['price_DKK'].transform('mean')\n",
    "lis_df['price_vs_room_type'] = lis_df['price_DKK'] / lis_df['room_type_avg_price']\n",
    "\n",
    "# Value indicators\n",
    "lis_df['price_per_person'] = lis_df['price_DKK'] / lis_df['accommodates']\n",
    "lis_df['price_per_bedroom'] = lis_df['price_DKK'].div(lis_df['bedrooms'].where(lis_df['bedrooms'] > 0, 1))"
   ]
  },
  {
   "cell_type": "markdown",
   "metadata": {},
   "source": [
    "# Host"
   ]
  },
  {
   "cell_type": "code",
   "execution_count": 27,
   "metadata": {},
   "outputs": [],
   "source": [
    "# Host Features\n",
    "lis_df['host_experience_years'] = (lis_df['last_review'] - lis_df['first_review']).dt.total_seconds() / (365.25 * 24 * 60 * 60)\n",
    "lis_df['host_experience_years'] = lis_df['host_experience_years'].fillna(0)  # For listings with no reviews\n",
    "\n",
    "# How big of a scale does the host operate on relatively to the rest in this neighborhood\n",
    "lis_df['host_listings_ratio'] = lis_df['host_total_listings_count'] / lis_df['listings_in_neighborhood']"
   ]
  },
  {
   "cell_type": "code",
   "execution_count": 28,
   "metadata": {},
   "outputs": [],
   "source": [
    "# Response Quality: ordinal rating of each possible response time category\n",
    "# One hot encode: lis_df['host_response_time']"
   ]
  },
  {
   "cell_type": "code",
   "execution_count": 23,
   "metadata": {},
   "outputs": [],
   "source": [
    "# Review Features\n",
    "lis_df['days_since_last_review'] = (pd.Timestamp.now() - lis_df['last_review']).dt.total_seconds() / (24 * 60 * 60)\n",
    "lis_df['yearly_review'] = lis_df['number_of_reviews'] / lis_df['host_experience_years']\n",
    "\n",
    "# Calculate review score variance; consistency of the host's recieved reviews by guests\n",
    "review_score_cols = [col for col in lis_df.columns if col.startswith('review_scores_')]\n",
    "lis_df['review_score_variance'] = lis_df[review_score_cols].var(axis=1)"
   ]
  },
  {
   "cell_type": "code",
   "execution_count": 24,
   "metadata": {},
   "outputs": [
    {
     "name": "stdout",
     "output_type": "stream",
     "text": [
      "\n",
      "New Feature Summary:\n",
      "\n",
      "avg_rating:\n",
      "count    20909.000000\n",
      "mean         4.087925\n",
      "std          1.760318\n",
      "min          0.000000\n",
      "25%          4.590000\n",
      "50%          4.860000\n",
      "75%          5.000000\n",
      "max          5.000000\n",
      "Name: avg_rating, dtype: float64\n",
      "\n",
      "days_since_last_review:\n",
      "count    17689.000000\n",
      "mean       522.717767\n",
      "std        477.479532\n",
      "min        228.498874\n",
      "25%        243.498874\n",
      "50%        311.498874\n",
      "75%        566.498874\n",
      "max       4423.498874\n",
      "Name: days_since_last_review, dtype: float64\n",
      "\n",
      "distance_to_center_km:\n",
      "count    20909.000000\n",
      "mean         3.733427\n",
      "std          2.014880\n",
      "min          0.096576\n",
      "25%          2.259250\n",
      "50%          3.445322\n",
      "75%          4.762564\n",
      "max         13.204881\n",
      "Name: distance_to_center_km, dtype: float64\n",
      "\n",
      "host_experience_years:\n",
      "count    20909.000000\n",
      "mean         2.022692\n",
      "std          2.687940\n",
      "min          0.000000\n",
      "25%          0.021903\n",
      "50%          0.854209\n",
      "75%          2.926762\n",
      "max         13.859001\n",
      "Name: host_experience_years, dtype: float64\n",
      "\n",
      "host_listings_ratio:\n",
      "count    20909.000000\n",
      "mean         0.005179\n",
      "std          0.033076\n",
      "min          0.000268\n",
      "25%          0.000334\n",
      "50%          0.000557\n",
      "75%          0.001115\n",
      "max          0.802680\n",
      "Name: host_listings_ratio, dtype: float64\n",
      "\n",
      "is_superhost:\n",
      "count     20909\n",
      "unique        2\n",
      "top       False\n",
      "freq      18438\n",
      "Name: is_superhost, dtype: object\n",
      "\n",
      "listings_in_neighborhood:\n",
      "count    20909.000000\n",
      "mean      2569.418863\n",
      "std       1009.267884\n",
      "min        366.000000\n",
      "25%       1869.000000\n",
      "50%       2248.000000\n",
      "75%       3588.000000\n",
      "max       3734.000000\n",
      "Name: listings_in_neighborhood, dtype: float64\n",
      "\n",
      "neighborhood_avg_price:\n",
      "count    20909.000000\n",
      "mean      1291.086135\n",
      "std        177.720953\n",
      "min       1026.678283\n",
      "25%       1167.216926\n",
      "50%       1282.545909\n",
      "75%       1304.860320\n",
      "max       1689.012175\n",
      "Name: neighborhood_avg_price, dtype: float64\n",
      "\n",
      "price_per_bedroom:\n",
      "count     20909.000000\n",
      "mean        916.060289\n",
      "std         956.554060\n",
      "min          82.333333\n",
      "25%         600.000000\n",
      "50%         864.000000\n",
      "75%        1200.000000\n",
      "max      100000.000000\n",
      "Name: price_per_bedroom, dtype: float64\n",
      "\n",
      "price_per_person:\n",
      "count    20909.000000\n",
      "mean       434.463136\n",
      "std        482.257305\n",
      "min         12.500000\n",
      "25%        300.000000\n",
      "50%        400.000000\n",
      "75%        575.000000\n",
      "max      50000.000000\n",
      "Name: price_per_person, dtype: float64\n",
      "\n",
      "price_vs_neighborhood:\n",
      "count    20909.000000\n",
      "mean         1.000000\n",
      "std          0.865380\n",
      "min          0.077970\n",
      "25%          0.736345\n",
      "50%          0.930420\n",
      "75%          1.075301\n",
      "max         77.509952\n",
      "Name: price_vs_neighborhood, dtype: float64\n",
      "\n",
      "price_vs_room_type:\n",
      "count    20909.000000\n",
      "mean         1.000000\n",
      "std          0.917214\n",
      "min          0.173337\n",
      "25%          0.810626\n",
      "50%          0.885124\n",
      "75%          1.005105\n",
      "max         73.760340\n",
      "Name: price_vs_room_type, dtype: float64\n",
      "\n",
      "review_score_variance:\n",
      "count    20909.000000\n",
      "mean         0.041219\n",
      "std          0.159034\n",
      "min          0.000000\n",
      "25%          0.000000\n",
      "50%          0.010214\n",
      "75%          0.032800\n",
      "max          3.666667\n",
      "Name: review_score_variance, dtype: float64\n",
      "\n",
      "room_type_avg_price:\n",
      "count    20909.000000\n",
      "mean      1291.086135\n",
      "std        204.465665\n",
      "min        489.807692\n",
      "25%       1355.742120\n",
      "50%       1355.742120\n",
      "75%       1355.742120\n",
      "max       1355.742120\n",
      "Name: room_type_avg_price, dtype: float64\n",
      "\n",
      "total_reviews:\n",
      "count    20909.000000\n",
      "mean        17.534841\n",
      "std         41.693636\n",
      "min          0.000000\n",
      "25%          2.000000\n",
      "50%          7.000000\n",
      "75%         18.000000\n",
      "max       1972.000000\n",
      "Name: total_reviews, dtype: float64\n",
      "\n",
      "yearly_review:\n",
      "count    1.768900e+04\n",
      "mean              inf\n",
      "std               NaN\n",
      "min      2.433378e-01\n",
      "25%      4.735818e+00\n",
      "50%      1.027687e+01\n",
      "75%      3.148707e+01\n",
      "max               inf\n",
      "Name: yearly_review, dtype: float64\n",
      "\n",
      "Checking for issues in new features:\n",
      "avg_rating                     0\n",
      "days_since_last_review      3220\n",
      "distance_to_center_km          0\n",
      "host_experience_years          0\n",
      "host_listings_ratio            0\n",
      "is_superhost                   0\n",
      "listings_in_neighborhood       0\n",
      "neighborhood_avg_price         0\n",
      "price_per_bedroom              0\n",
      "price_per_person               0\n",
      "price_vs_neighborhood          0\n",
      "price_vs_room_type             0\n",
      "review_score_variance          0\n",
      "room_type_avg_price            0\n",
      "total_reviews                  0\n",
      "yearly_review               3220\n",
      "dtype: int64\n"
     ]
    },
    {
     "name": "stderr",
     "output_type": "stream",
     "text": [
      "/opt/homebrew/Caskroom/miniconda/base/lib/python3.11/site-packages/pandas/core/nanops.py:1016: RuntimeWarning: invalid value encountered in subtract\n",
      "  sqr = _ensure_numeric((avg - values) ** 2)\n"
     ]
    }
   ],
   "source": [
    "# Print summary of new features\n",
    "print(\"\\nNew Feature Summary:\")\n",
    "new_features = lis_df.columns.difference(original_columns)\n",
    "for col in new_features:\n",
    "    print(f\"\\n{col}:\")\n",
    "    print(lis_df[col].describe())\n",
    "\n",
    "# Check for any issues in new features\n",
    "print(\"\\nChecking for issues in new features:\")\n",
    "print(lis_df[new_features].isnull().sum())"
   ]
  },
  {
   "cell_type": "markdown",
   "metadata": {},
   "source": [
    "### 9. Final Status Check"
   ]
  },
  {
   "cell_type": "code",
   "execution_count": 9,
   "metadata": {},
   "outputs": [
    {
     "name": "stdout",
     "output_type": "stream",
     "text": [
      "Listings shape: (20909, 70)\n",
      "Reviews shape: (366636, 5)\n"
     ]
    }
   ],
   "source": [
    "print(\"Listings shape:\", lis_df.shape)\n",
    "print(\"Reviews shape:\", rev_df.shape)"
   ]
  },
  {
   "cell_type": "markdown",
   "metadata": {},
   "source": [
    "### 10. Save Processed Datasets"
   ]
  },
  {
   "cell_type": "code",
   "execution_count": null,
   "metadata": {},
   "outputs": [],
   "source": [
    "lis_df.to_parquet('data/processed/03_listings.parquet')\n",
    "rev_df.to_parquet('data/processed/03_reviews.parquet')"
   ]
  }
 ],
 "metadata": {
  "kernelspec": {
   "display_name": "base",
   "language": "python",
   "name": "python3"
  },
  "language_info": {
   "codemirror_mode": {
    "name": "ipython",
    "version": 3
   },
   "file_extension": ".py",
   "mimetype": "text/x-python",
   "name": "python",
   "nbconvert_exporter": "python",
   "pygments_lexer": "ipython3",
   "version": "3.11.8"
  }
 },
 "nbformat": 4,
 "nbformat_minor": 2
}
