{
 "cells": [
  {
   "cell_type": "markdown",
   "metadata": {},
   "source": [
    "# Feature Engineering"
   ]
  },
  {
   "cell_type": "markdown",
   "metadata": {},
   "source": [
    "### 1. Setup and Processed Data Import"
   ]
  },
  {
   "cell_type": "code",
   "execution_count": 152,
   "metadata": {},
   "outputs": [],
   "source": [
    "import pandas as pd\n",
    "import numpy as np\n",
    "from transformers import pipeline\n",
    "import torch\n",
    "from tqdm import tqdm\n",
    "import pandas as pd"
   ]
  },
  {
   "cell_type": "code",
   "execution_count": 153,
   "metadata": {},
   "outputs": [
    {
     "name": "stdout",
     "output_type": "stream",
     "text": [
      "(20905, 40) \n",
      " (366636, 5)\n"
     ]
    }
   ],
   "source": [
    "lis_df = pd.read_parquet('data/processed/02_listings.parquet')\n",
    "rev_df = pd.read_parquet('data/processed/02_reviews.parquet')\n",
    "print(lis_df.shape,'\\n',rev_df.shape)"
   ]
  },
  {
   "cell_type": "markdown",
   "metadata": {},
   "source": [
    "### 2. Feature Generation"
   ]
  },
  {
   "cell_type": "code",
   "execution_count": 154,
   "metadata": {},
   "outputs": [],
   "source": [
    "# Store original columns\n",
    "original_columns = lis_df.columns.copy()"
   ]
  },
  {
   "cell_type": "code",
   "execution_count": 155,
   "metadata": {},
   "outputs": [],
   "source": [
    "# Location Features\n",
    "COPENHAGEN_CENTER_LAT = 55.6761\n",
    "COPENHAGEN_CENTER_LON = 12.5683\n",
    "\n",
    "# Distance to center in birdeye view\n",
    "lis_df['distance_to_center_km'] = np.sqrt(\n",
    "    (lis_df['latitude'] - COPENHAGEN_CENTER_LAT)**2 + \n",
    "    (lis_df['longitude'] - COPENHAGEN_CENTER_LON)**2\n",
    ") * 111  # Rough conversion to kilometers\n",
    "\n",
    "# Neighborhood density\n",
    "lis_df['listings_in_neighborhood'] = lis_df.groupby('neighbourhood_cleansed')['id'].transform('count')"
   ]
  },
  {
   "cell_type": "code",
   "execution_count": 156,
   "metadata": {},
   "outputs": [],
   "source": [
    "# Price Features\n",
    "# Neighborhood price comparison\n",
    "lis_df['neighborhood_avg_price'] = lis_df.groupby('neighbourhood_cleansed')['price_DKK'].transform('mean')\n",
    "lis_df['price_vs_neighborhood'] = lis_df['price_DKK'] / lis_df['neighborhood_avg_price']\n",
    "\n",
    "# Room type price comparison\n",
    "lis_df['room_type_avg_price'] = lis_df.groupby('room_type')['price_DKK'].transform('mean')\n",
    "lis_df['price_vs_room_type'] = lis_df['price_DKK'] / lis_df['room_type_avg_price']\n",
    "\n",
    "# Value indicators\n",
    "lis_df['price_per_person'] = lis_df['price_DKK'] / lis_df['accommodates']\n",
    "lis_df['price_per_bedroom'] = lis_df['price_DKK'].div(lis_df['bedrooms'].where(lis_df['bedrooms'] > 0, 1))"
   ]
  },
  {
   "cell_type": "code",
   "execution_count": 157,
   "metadata": {},
   "outputs": [],
   "source": [
    "# Create boolean masks for different conditions\n",
    "mask_diff_dates = lis_df['first_review'] != lis_df['last_review']\n",
    "mask_same_dates = lis_df['first_review'] == lis_df['last_review']\n",
    "\n",
    "\n",
    "# Calculate for different first and last review dates\n",
    "lis_df.loc[mask_diff_dates, 'host_experience_years'] = (\n",
    "    (lis_df.loc[mask_diff_dates, 'last_review'] - \n",
    "     lis_df.loc[mask_diff_dates, 'first_review']).dt.total_seconds() / (365.25 * 24 * 60 * 60)\n",
    ")\n",
    "\n",
    "# Calculate for same first and last review date\n",
    "lis_df.loc[mask_same_dates, 'host_experience_years'] = (\n",
    "    (pd.Timestamp.now() - lis_df.loc[mask_same_dates, 'last_review']).dt.total_seconds() / (365.25 * 24 * 60 * 60)\n",
    ")\n",
    "\n",
    "# Set host_experience_years to 0 where both review dates are missing\n",
    "mask_no_reviews = lis_df['last_review'].isna() & lis_df['first_review'].isna()\n",
    "lis_df.loc[mask_no_reviews, 'host_experience_years'] = 0"
   ]
  },
  {
   "cell_type": "code",
   "execution_count": 158,
   "metadata": {},
   "outputs": [],
   "source": [
    "# How big of a scale does the host operate on relatively to the rest in this neighborhood\n",
    "lis_df['host_listings_ratio'] = lis_df['host_total_listings_count'] / lis_df['listings_in_neighborhood']"
   ]
  },
  {
   "cell_type": "code",
   "execution_count": 159,
   "metadata": {},
   "outputs": [],
   "source": [
    "# Avoid division by zero in yearly_review calculation\n",
    "lis_df['yearly_review'] = lis_df['number_of_reviews'] / lis_df['host_experience_years'].replace(0, 1)\n",
    "lis_df['yearly_review'] = lis_df['yearly_review'].fillna(0)  # No reviews = 0 reviews per year\n",
    "\n",
    "# Calculate review score variance; consistency of the host's recieved reviews by guests\n",
    "review_score_cols = [col for col in lis_df.columns if col.startswith('review_scores_')]\n",
    "lis_df['review_score_variance'] = lis_df[review_score_cols].var(axis=1)\n",
    "lis_df.drop(columns=[col for col in lis_df.columns if 'review_scores_' in col], inplace=True)"
   ]
  },
  {
   "cell_type": "code",
   "execution_count": 160,
   "metadata": {},
   "outputs": [
    {
     "name": "stdout",
     "output_type": "stream",
     "text": [
      "\n",
      "New Feature Summary:\n",
      "\n",
      "distance_to_center_km:\n",
      "count    20905.000000\n",
      "mean         3.733406\n",
      "std          2.014533\n",
      "min          0.096576\n",
      "25%          2.259348\n",
      "50%          3.445544\n",
      "75%          4.762564\n",
      "max         13.204881\n",
      "Name: distance_to_center_km, dtype: float64\n",
      "\n",
      "host_experience_years:\n",
      "count    20905.000000\n",
      "mean         2.159199\n",
      "std          2.661796\n",
      "min          0.000000\n",
      "25%          0.134155\n",
      "50%          1.013005\n",
      "75%          3.107461\n",
      "max         13.859001\n",
      "Name: host_experience_years, dtype: float64\n",
      "\n",
      "host_listings_ratio:\n",
      "count    20905.000000\n",
      "mean         0.005180\n",
      "std          0.033082\n",
      "min          0.000268\n",
      "25%          0.000334\n",
      "50%          0.000558\n",
      "75%          0.001115\n",
      "max          0.802680\n",
      "Name: host_listings_ratio, dtype: float64\n",
      "\n",
      "listings_in_neighborhood:\n",
      "count    20905.000000\n",
      "mean      2568.974169\n",
      "std       1008.924101\n",
      "min        365.000000\n",
      "25%       1869.000000\n",
      "50%       2247.000000\n",
      "75%       3586.000000\n",
      "max       3734.000000\n",
      "Name: listings_in_neighborhood, dtype: float64\n",
      "\n",
      "neighborhood_avg_price:\n",
      "count    20905.000000\n",
      "mean      1304.368414\n",
      "std        208.992015\n",
      "min       1024.337879\n",
      "25%       1141.055731\n",
      "50%       1251.718098\n",
      "75%       1310.869648\n",
      "max       1775.801201\n",
      "Name: neighborhood_avg_price, dtype: float64\n",
      "\n",
      "price_per_bedroom:\n",
      "count    20905.000000\n",
      "mean       916.952367\n",
      "std        744.178101\n",
      "min         61.950000\n",
      "25%        584.333333\n",
      "50%        800.000000\n",
      "75%       1089.000000\n",
      "max      64900.000000\n",
      "Name: price_per_bedroom, dtype: float64\n",
      "\n",
      "price_per_person:\n",
      "count    20905.000000\n",
      "mean       440.589372\n",
      "std        400.818406\n",
      "min         12.500000\n",
      "25%        278.800000\n",
      "50%        375.000000\n",
      "75%        500.000000\n",
      "max      32450.000000\n",
      "Name: price_per_person, dtype: float64\n",
      "\n",
      "price_vs_neighborhood:\n",
      "count    20905.000000\n",
      "mean         1.000000\n",
      "std          0.704155\n",
      "min          0.077162\n",
      "25%          0.675350\n",
      "50%          0.871163\n",
      "75%          1.152888\n",
      "max         48.538471\n",
      "Name: price_vs_neighborhood, dtype: float64\n",
      "\n",
      "price_vs_room_type:\n",
      "count    20905.000000\n",
      "mean         1.000000\n",
      "std          0.798128\n",
      "min          0.126705\n",
      "25%          0.652741\n",
      "50%          0.822469\n",
      "75%          1.121548\n",
      "max         66.369427\n",
      "Name: price_vs_room_type, dtype: float64\n",
      "\n",
      "review_score_variance:\n",
      "count    20905.000000\n",
      "mean         0.038140\n",
      "std          0.106905\n",
      "min          0.000000\n",
      "25%          0.006114\n",
      "50%          0.010157\n",
      "75%          0.032490\n",
      "max          3.666667\n",
      "Name: review_score_variance, dtype: float64\n",
      "\n",
      "room_type_avg_price:\n",
      "count    20905.000000\n",
      "mean      1304.368414\n",
      "std        105.008488\n",
      "min        686.653846\n",
      "25%       1337.436849\n",
      "50%       1337.436849\n",
      "75%       1337.436849\n",
      "max       1337.436849\n",
      "Name: room_type_avg_price, dtype: float64\n",
      "\n",
      "yearly_review:\n",
      "count    20905.000000\n",
      "mean        16.004871\n",
      "std         35.135049\n",
      "min          0.000000\n",
      "25%          1.496926\n",
      "50%          5.832335\n",
      "75%         15.476695\n",
      "max        730.500000\n",
      "Name: yearly_review, dtype: float64\n",
      "\n",
      "Checking for issues in new features:\n",
      "distance_to_center_km       0\n",
      "host_experience_years       0\n",
      "host_listings_ratio         0\n",
      "listings_in_neighborhood    0\n",
      "neighborhood_avg_price      0\n",
      "price_per_bedroom           0\n",
      "price_per_person            0\n",
      "price_vs_neighborhood       0\n",
      "price_vs_room_type          0\n",
      "review_score_variance       0\n",
      "room_type_avg_price         0\n",
      "yearly_review               0\n",
      "dtype: int64\n"
     ]
    }
   ],
   "source": [
    "# Print summary of new features\n",
    "print(\"\\nNew Feature Summary:\")\n",
    "new_features = lis_df.columns.difference(original_columns)\n",
    "for col in new_features:\n",
    "    print(f\"\\n{col}:\")\n",
    "    print(lis_df[col].describe())\n",
    "\n",
    "# Check for any issues in new features\n",
    "print(\"\\nChecking for issues in new features:\")\n",
    "print(lis_df[new_features].isnull().sum())"
   ]
  },
  {
   "cell_type": "markdown",
   "metadata": {},
   "source": [
    "#### Drop first & last review date, as we've now created the attribute host_experience_years."
   ]
  },
  {
   "cell_type": "code",
   "execution_count": 161,
   "metadata": {},
   "outputs": [],
   "source": [
    "lis_df.drop(['first_review', 'last_review'], axis=1, inplace=True)"
   ]
  },
  {
   "cell_type": "markdown",
   "metadata": {},
   "source": [
    "### 3. Sentiment Scoring"
   ]
  },
  {
   "cell_type": "code",
   "execution_count": 162,
   "metadata": {},
   "outputs": [
    {
     "name": "stdout",
     "output_type": "stream",
     "text": [
      "Total length of all comments: 92,513,161 characters\n"
     ]
    }
   ],
   "source": [
    "# Calculate total length of all comments\n",
    "total_comment_length = rev_df['comments'].str.len().sum()\n",
    "print(f\"Total length of all comments: {total_comment_length:,} characters\")"
   ]
  },
  {
   "cell_type": "code",
   "execution_count": null,
   "metadata": {},
   "outputs": [
    {
     "name": "stderr",
     "output_type": "stream",
     "text": [
      "Device set to use cpu\n"
     ]
    },
    {
     "name": "stdout",
     "output_type": "stream",
     "text": [
      "Processing sample of 10 reviews...\n",
      "Calculating sentiment scores...\n"
     ]
    },
    {
     "name": "stderr",
     "output_type": "stream",
     "text": [
      "100%|██████████| 10/10 [00:01<00:00,  5.86it/s]"
     ]
    },
    {
     "name": "stdout",
     "output_type": "stream",
     "text": [
      "\n",
      "Sample Results by Sentiment Category:\n",
      "\n",
      "Very Positive Reviews Examples (3 random samples):\n",
      "\n",
      "Score: 0.656\n",
      "Review: Runes flat is a very unique place. We liked the style very much. It was cosy and very well located. We didn't need any public transportation at all.\n",
      "\n",
      "Score: 0.825\n",
      "Review: Amazing host\n",
      "\n",
      "Score: 0.844\n",
      "Review: Die Wohnung war einfahch klasse. Sehr sauber, alles neu, top ausgestattet und Elise war sehr hilfriech wenn es um Tips und Unterstützung ging. Wir waren sehr zufrieden und werden sicherlich versuchen bei Elise wieder zu übernachten wenn wir das nächste Mal nach Kopenhagen kommen.\n",
      "\n",
      "Positive Reviews Examples (3 random samples):\n",
      "\n",
      "Score: 0.296\n",
      "Review: Die Unterkunft ist sehr zentral gelegen (Hbf und Tivoli in 5 Minuten zu Fuß zu erreichen) und dennoch absolut ruhig im geschützten Hinterhof. Es ist weniger eine Unterkunft zum Verweilen oder gemütlich Essen, sondern vielmehr ideal zum Ausruhen nach einem langen Tag in der wunderschönen Stadt. Die Unterkunft ist sehr sauber und hat alles was man braucht, ist aber eben recht funktional. Für uns war sie genau richtig!\n",
      "\n",
      "Score: 0.477\n",
      "Review: Bente's beautiful place is located right near the lake and just a ten minute walk to the central train station. She responded quickly to any questions I had and was kind enough to let me leave my bags in the apartment until my flight. I would recommend Bente's apartment to solo travellers or couples wanting to spend a few days in Copenhagen.\n",
      "\n",
      "Score: 0.300\n",
      "Review: Comfortable and nice. Great communication and value for money. It’s a bit outside the city center but who cares when you can rent a bike.\n",
      "\n",
      "Neutral Reviews Examples (3 random samples):\n",
      "\n",
      "Score: 0.000\n",
      "Review: A great price for Copenhagen, good neighbourhood, close to the metro, clean apartment, good communication with the host, but the shower situation is inconvenient and there is no microwave\n",
      "\n",
      "Negative Reviews Examples (3 random samples):\n",
      "\n",
      "Very Negative Reviews Examples (3 random samples):\n",
      "\n",
      "Sentiment Score Distribution:\n",
      "count    10.000000\n",
      "mean      0.593442\n",
      "std       0.308337\n",
      "min       0.000000\n",
      "25%       0.344149\n",
      "50%       0.730063\n",
      "75%       0.834961\n",
      "max       0.894202\n",
      "Name: sentiment_score, dtype: float64\n"
     ]
    },
    {
     "name": "stderr",
     "output_type": "stream",
     "text": [
      "\n"
     ]
    }
   ],
   "source": [
    "'''# Initialize model and tokenizer\n",
    "model_name = \"nlptown/bert-base-multilingual-uncased-sentiment\"  \n",
    "sentiment_analyzer = pipeline(\n",
    "    \"sentiment-analysis\",\n",
    "    model=model_name,\n",
    "    tokenizer=model_name,\n",
    "    device=0 if torch.cuda.is_available() else -1\n",
    ")\n",
    "\n",
    "def get_sentiment_score(text):\n",
    "    if pd.isna(text) or len(str(text).strip()) < 3:\n",
    "        return 0\n",
    "    try:\n",
    "        # Truncate long texts to 512 tokens\n",
    "        result = sentiment_analyzer(str(text)[:10000])[0]\n",
    "        \n",
    "        # This model returns scores from 1-5 stars\n",
    "        score = int(result['label'][0])  # Get first character (1-5)\n",
    "        \n",
    "        # Convert 1-5 scale to [-1, 1]\n",
    "        normalized_score = (score - 3) / 2\n",
    "        \n",
    "        # Weight by confidence\n",
    "        final_score = normalized_score * result['score']\n",
    "        \n",
    "        return final_score\n",
    "        \n",
    "    except Exception as e:\n",
    "        print(f\"Error processing text: {str(e)}\")\n",
    "        return 0\n",
    "\n",
    "# Take a sample of 1000 reviews\n",
    "sample_size = 10\n",
    "print(f\"Processing sample of {sample_size} reviews...\")\n",
    "rev_sample = rev_df.sample(sample_size, random_state=42)\n",
    "\n",
    "# Process reviews with progress bar\n",
    "print(\"Calculating sentiment scores...\")\n",
    "rev_sample['sentiment_score'] = [get_sentiment_score(text) for text in tqdm(rev_sample['comments'])]\n",
    "\n",
    "# Show results\n",
    "print(\"\\nSample Results by Sentiment Category:\")\n",
    "for sentiment, range_vals in [\n",
    "    ('Very Positive', (0.5, 1.0)),\n",
    "    ('Positive', (0.1, 0.5)),\n",
    "    ('Neutral', (-0.1, 0.1)),\n",
    "    ('Negative', (-0.5, -0.1)),\n",
    "    ('Very Negative', (-1.0, -0.5))\n",
    "]:\n",
    "    mask = (rev_sample['sentiment_score'] >= range_vals[0]) & (rev_sample['sentiment_score'] <= range_vals[1])\n",
    "    print(f\"\\n{sentiment} Reviews Examples (3 random samples):\")\n",
    "    sample = rev_sample[mask].sample(min(3, len(rev_sample[mask])))\n",
    "    for _, row in sample.iterrows():\n",
    "        print(f\"\\nScore: {row['sentiment_score']:.3f}\")\n",
    "        print(f\"Review: {row['comments'][:20000]}\")\n",
    "\n",
    "# Print distribution statistics\n",
    "print(\"\\nSentiment Score Distribution:\")\n",
    "print(rev_sample['sentiment_score'].describe())\n",
    "\n",
    "# Save results\n",
    "rev_sample.to_parquet('data/processed/04_sentiment_bert.parquet', index=False)\n",
    "rev_sample.to_csv('data/processed/04_sentiment_bert.csv', index=False)'''"
   ]
  },
  {
   "cell_type": "code",
   "execution_count": 171,
   "metadata": {},
   "outputs": [
    {
     "data": {
      "text/html": [
       "<div>\n",
       "<style scoped>\n",
       "    .dataframe tbody tr th:only-of-type {\n",
       "        vertical-align: middle;\n",
       "    }\n",
       "\n",
       "    .dataframe tbody tr th {\n",
       "        vertical-align: top;\n",
       "    }\n",
       "\n",
       "    .dataframe thead th {\n",
       "        text-align: right;\n",
       "    }\n",
       "</style>\n",
       "<table border=\"1\" class=\"dataframe\">\n",
       "  <thead>\n",
       "    <tr style=\"text-align: right;\">\n",
       "      <th></th>\n",
       "      <th>listing_id</th>\n",
       "      <th>id</th>\n",
       "      <th>date</th>\n",
       "      <th>reviewer_id</th>\n",
       "      <th>comments</th>\n",
       "      <th>sentiment_score</th>\n",
       "    </tr>\n",
       "  </thead>\n",
       "  <tbody>\n",
       "    <tr>\n",
       "      <th>355286</th>\n",
       "      <td>999182760952148206</td>\n",
       "      <td>1058546998493773811</td>\n",
       "      <td>2023-12-31</td>\n",
       "      <td>23184612</td>\n",
       "      <td>Die Wohnung war einfahch klasse. Sehr sauber, ...</td>\n",
       "      <td>0.843871</td>\n",
       "    </tr>\n",
       "    <tr>\n",
       "      <th>3787</th>\n",
       "      <td>338992</td>\n",
       "      <td>610427953</td>\n",
       "      <td>2020-02-24</td>\n",
       "      <td>7530520</td>\n",
       "      <td>Bente's beautiful place is located right near ...</td>\n",
       "      <td>0.477400</td>\n",
       "    </tr>\n",
       "  </tbody>\n",
       "</table>\n",
       "</div>"
      ],
      "text/plain": [
       "                listing_id                   id       date  reviewer_id  \\\n",
       "355286  999182760952148206  1058546998493773811 2023-12-31     23184612   \n",
       "3787                338992            610427953 2020-02-24      7530520   \n",
       "\n",
       "                                                 comments  sentiment_score  \n",
       "355286  Die Wohnung war einfahch klasse. Sehr sauber, ...         0.843871  \n",
       "3787    Bente's beautiful place is located right near ...         0.477400  "
      ]
     },
     "execution_count": 171,
     "metadata": {},
     "output_type": "execute_result"
    }
   ],
   "source": [
    "rev_sample[:2]"
   ]
  },
  {
   "cell_type": "code",
   "execution_count": 166,
   "metadata": {},
   "outputs": [
    {
     "data": {
      "text/html": [
       "<div>\n",
       "<style scoped>\n",
       "    .dataframe tbody tr th:only-of-type {\n",
       "        vertical-align: middle;\n",
       "    }\n",
       "\n",
       "    .dataframe tbody tr th {\n",
       "        vertical-align: top;\n",
       "    }\n",
       "\n",
       "    .dataframe thead th {\n",
       "        text-align: right;\n",
       "    }\n",
       "</style>\n",
       "<table border=\"1\" class=\"dataframe\">\n",
       "  <thead>\n",
       "    <tr style=\"text-align: right;\">\n",
       "      <th></th>\n",
       "      <th>listing_id</th>\n",
       "      <th>id</th>\n",
       "      <th>date</th>\n",
       "      <th>reviewer_id</th>\n",
       "      <th>comments</th>\n",
       "      <th>sentiment_score</th>\n",
       "    </tr>\n",
       "  </thead>\n",
       "  <tbody>\n",
       "    <tr>\n",
       "      <th>0</th>\n",
       "      <td>999182760952148206</td>\n",
       "      <td>1058546998493773811</td>\n",
       "      <td>2023-12-31</td>\n",
       "      <td>23184612</td>\n",
       "      <td>Die Wohnung war einfahch klasse. Sehr sauber, ...</td>\n",
       "      <td>0.843871</td>\n",
       "    </tr>\n",
       "    <tr>\n",
       "      <th>1</th>\n",
       "      <td>338992</td>\n",
       "      <td>610427953</td>\n",
       "      <td>2020-02-24</td>\n",
       "      <td>7530520</td>\n",
       "      <td>Bente's beautiful place is located right near ...</td>\n",
       "      <td>0.477400</td>\n",
       "    </tr>\n",
       "    <tr>\n",
       "      <th>2</th>\n",
       "      <td>39186014</td>\n",
       "      <td>643209693077290041</td>\n",
       "      <td>2022-06-06</td>\n",
       "      <td>47045585</td>\n",
       "      <td>Comfortable and nice. Great communication and ...</td>\n",
       "      <td>0.299731</td>\n",
       "    </tr>\n",
       "    <tr>\n",
       "      <th>3</th>\n",
       "      <td>569909</td>\n",
       "      <td>365270425</td>\n",
       "      <td>2019-01-01</td>\n",
       "      <td>56799129</td>\n",
       "      <td>Runes flat is a very unique place. We liked th...</td>\n",
       "      <td>0.656043</td>\n",
       "    </tr>\n",
       "    <tr>\n",
       "      <th>4</th>\n",
       "      <td>937157101494923200</td>\n",
       "      <td>1154230602692129699</td>\n",
       "      <td>2024-05-11</td>\n",
       "      <td>502588195</td>\n",
       "      <td>A great price for Copenhagen, good neighbourho...</td>\n",
       "      <td>0.000000</td>\n",
       "    </tr>\n",
       "    <tr>\n",
       "      <th>5</th>\n",
       "      <td>26093247</td>\n",
       "      <td>964367199455001036</td>\n",
       "      <td>2023-08-23</td>\n",
       "      <td>456728446</td>\n",
       "      <td>Amazing host</td>\n",
       "      <td>0.825185</td>\n",
       "    </tr>\n",
       "    <tr>\n",
       "      <th>6</th>\n",
       "      <td>29085636</td>\n",
       "      <td>870788038695621336</td>\n",
       "      <td>2023-04-16</td>\n",
       "      <td>14102662</td>\n",
       "      <td>Die Unterkunft ist sehr zentral gelegen (Hbf u...</td>\n",
       "      <td>0.295688</td>\n",
       "    </tr>\n",
       "    <tr>\n",
       "      <th>7</th>\n",
       "      <td>913101728617102476</td>\n",
       "      <td>973073633815093496</td>\n",
       "      <td>2023-09-04</td>\n",
       "      <td>9266496</td>\n",
       "      <td>Wir waren drei Tage in der sehr schönen Wohnun...</td>\n",
       "      <td>0.894202</td>\n",
       "    </tr>\n",
       "    <tr>\n",
       "      <th>8</th>\n",
       "      <td>186454</td>\n",
       "      <td>672315615467612603</td>\n",
       "      <td>2022-07-16</td>\n",
       "      <td>207879695</td>\n",
       "      <td>Great place in a great location.</td>\n",
       "      <td>0.804084</td>\n",
       "    </tr>\n",
       "    <tr>\n",
       "      <th>9</th>\n",
       "      <td>17853510</td>\n",
       "      <td>437437060108678517</td>\n",
       "      <td>2021-08-26</td>\n",
       "      <td>30689889</td>\n",
       "      <td>Ces quelques jours chez Tomas ont été incroyab...</td>\n",
       "      <td>0.838220</td>\n",
       "    </tr>\n",
       "  </tbody>\n",
       "</table>\n",
       "</div>"
      ],
      "text/plain": [
       "           listing_id                   id       date  reviewer_id  \\\n",
       "0  999182760952148206  1058546998493773811 2023-12-31     23184612   \n",
       "1              338992            610427953 2020-02-24      7530520   \n",
       "2            39186014   643209693077290041 2022-06-06     47045585   \n",
       "3              569909            365270425 2019-01-01     56799129   \n",
       "4  937157101494923200  1154230602692129699 2024-05-11    502588195   \n",
       "5            26093247   964367199455001036 2023-08-23    456728446   \n",
       "6            29085636   870788038695621336 2023-04-16     14102662   \n",
       "7  913101728617102476   973073633815093496 2023-09-04      9266496   \n",
       "8              186454   672315615467612603 2022-07-16    207879695   \n",
       "9            17853510   437437060108678517 2021-08-26     30689889   \n",
       "\n",
       "                                            comments  sentiment_score  \n",
       "0  Die Wohnung war einfahch klasse. Sehr sauber, ...         0.843871  \n",
       "1  Bente's beautiful place is located right near ...         0.477400  \n",
       "2  Comfortable and nice. Great communication and ...         0.299731  \n",
       "3  Runes flat is a very unique place. We liked th...         0.656043  \n",
       "4  A great price for Copenhagen, good neighbourho...         0.000000  \n",
       "5                                       Amazing host         0.825185  \n",
       "6  Die Unterkunft ist sehr zentral gelegen (Hbf u...         0.295688  \n",
       "7  Wir waren drei Tage in der sehr schönen Wohnun...         0.894202  \n",
       "8                   Great place in a great location.         0.804084  \n",
       "9  Ces quelques jours chez Tomas ont été incroyab...         0.838220  "
      ]
     },
     "execution_count": 166,
     "metadata": {},
     "output_type": "execute_result"
    }
   ],
   "source": [
    "df = pd.read_parquet('data/processed/04_sentiment_bert.parquet')\n",
    "df"
   ]
  },
  {
   "cell_type": "markdown",
   "metadata": {},
   "source": [
    "# Remember to append sentiment score to rev_df!!!"
   ]
  },
  {
   "cell_type": "markdown",
   "metadata": {},
   "source": [
    "### 4. Final Status Check"
   ]
  },
  {
   "cell_type": "code",
   "execution_count": 167,
   "metadata": {},
   "outputs": [
    {
     "name": "stdout",
     "output_type": "stream",
     "text": [
      "Listings shape: (20905, 43)\n",
      "Reviews shape: (366636, 5)\n"
     ]
    }
   ],
   "source": [
    "print(\"Listings shape:\", lis_df.shape)\n",
    "print(\"Reviews shape:\", rev_df.shape)"
   ]
  },
  {
   "cell_type": "markdown",
   "metadata": {},
   "source": [
    "### 5. Save Processed Datasets"
   ]
  },
  {
   "cell_type": "code",
   "execution_count": 168,
   "metadata": {},
   "outputs": [],
   "source": [
    "lis_df.to_parquet('data/processed/03_listings.parquet')\n",
    "# rev_df.to_parquet('data/processed/03_reviews.parquet')"
   ]
  }
 ],
 "metadata": {
  "kernelspec": {
   "display_name": "base",
   "language": "python",
   "name": "python3"
  },
  "language_info": {
   "codemirror_mode": {
    "name": "ipython",
    "version": 3
   },
   "file_extension": ".py",
   "mimetype": "text/x-python",
   "name": "python",
   "nbconvert_exporter": "python",
   "pygments_lexer": "ipython3",
   "version": "3.12.5"
  }
 },
 "nbformat": 4,
 "nbformat_minor": 2
}
