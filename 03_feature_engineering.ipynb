{
 "cells": [
  {
   "cell_type": "markdown",
   "metadata": {},
   "source": [
    "# Feature Engineering"
   ]
  },
  {
   "cell_type": "markdown",
   "metadata": {},
   "source": [
    "### 1. Setup and Processed Data Import"
   ]
  },
  {
   "cell_type": "code",
   "execution_count": 120,
   "metadata": {},
   "outputs": [],
   "source": [
    "import pandas as pd\n",
    "import numpy as np\n",
    "from transformers import pipeline\n",
    "import torch\n",
    "from tqdm import tqdm\n",
    "import pandas as pd"
   ]
  },
  {
   "cell_type": "code",
   "execution_count": 121,
   "metadata": {},
   "outputs": [
    {
     "name": "stdout",
     "output_type": "stream",
     "text": [
      "(20905, 42) \n",
      " (366636, 5)\n"
     ]
    }
   ],
   "source": [
    "lis_df = pd.read_parquet('data/processed/02_listings.parquet')\n",
    "rev_df = pd.read_parquet('data/processed/02_reviews.parquet')\n",
    "print(lis_df.shape,'\\n',rev_df.shape)"
   ]
  },
  {
   "cell_type": "markdown",
   "metadata": {},
   "source": [
    "### 2. Feature Generation"
   ]
  },
  {
   "cell_type": "code",
   "execution_count": 122,
   "metadata": {},
   "outputs": [],
   "source": [
    "# Store original columns\n",
    "original_columns = lis_df.columns.copy()"
   ]
  },
  {
   "cell_type": "code",
   "execution_count": 123,
   "metadata": {},
   "outputs": [],
   "source": [
    "# Location Features\n",
    "COPENHAGEN_CENTER_LAT = 55.6761\n",
    "COPENHAGEN_CENTER_LON = 12.5683\n",
    "\n",
    "# Distance to center in birdeye view\n",
    "lis_df['distance_to_center_km'] = np.sqrt(\n",
    "    (lis_df['latitude'] - COPENHAGEN_CENTER_LAT)**2 + \n",
    "    (lis_df['longitude'] - COPENHAGEN_CENTER_LON)**2\n",
    ") * 111  # Rough conversion to kilometers\n",
    "\n",
    "# Neighborhood density\n",
    "lis_df['listings_in_neighborhood'] = lis_df.groupby('neighbourhood_cleansed')['id'].transform('count')"
   ]
  },
  {
   "cell_type": "code",
   "execution_count": 124,
   "metadata": {},
   "outputs": [],
   "source": [
    "# Price Features\n",
    "# Neighborhood price comparison\n",
    "lis_df['neighborhood_avg_price'] = lis_df.groupby('neighbourhood_cleansed')['price_DKK'].transform('mean')\n",
    "lis_df['price_vs_neighborhood'] = lis_df['price_DKK'] / lis_df['neighborhood_avg_price']\n",
    "\n",
    "# Room type price comparison\n",
    "lis_df['room_type_avg_price'] = lis_df.groupby('room_type')['price_DKK'].transform('mean')\n",
    "lis_df['price_vs_room_type'] = lis_df['price_DKK'] / lis_df['room_type_avg_price']\n",
    "\n",
    "# Value indicators\n",
    "lis_df['price_per_person'] = lis_df['price_DKK'] / lis_df['accommodates']\n",
    "lis_df['price_per_bedroom'] = lis_df['price_DKK'].div(lis_df['bedrooms'].where(lis_df['bedrooms'] > 0, 1))"
   ]
  },
  {
   "cell_type": "code",
   "execution_count": 125,
   "metadata": {},
   "outputs": [],
   "source": [
    "# Create boolean masks for different conditions\n",
    "mask_diff_dates = lis_df['first_review'] != lis_df['last_review']\n",
    "mask_same_dates = lis_df['first_review'] == lis_df['last_review']\n",
    "\n",
    "\n",
    "# Calculate for different first and last review dates\n",
    "lis_df.loc[mask_diff_dates, 'host_experience_years'] = (\n",
    "    (lis_df.loc[mask_diff_dates, 'last_review'] - \n",
    "     lis_df.loc[mask_diff_dates, 'first_review']).dt.total_seconds() / (365.25 * 24 * 60 * 60)\n",
    ")\n",
    "\n",
    "# Calculate for same first and last review date\n",
    "lis_df.loc[mask_same_dates, 'host_experience_years'] = (\n",
    "    (pd.Timestamp.now() - lis_df.loc[mask_same_dates, 'last_review']).dt.total_seconds() / (365.25 * 24 * 60 * 60)\n",
    ")\n",
    "\n",
    "# Set host_experience_years to 0 where both review dates are missing\n",
    "mask_no_reviews = lis_df['last_review'].isna() & lis_df['first_review'].isna()\n",
    "lis_df.loc[mask_no_reviews, 'host_experience_years'] = 0"
   ]
  },
  {
   "cell_type": "code",
   "execution_count": 126,
   "metadata": {},
   "outputs": [],
   "source": [
    "# How big of a scale does the host operate on relatively to the rest in this neighborhood\n",
    "lis_df['host_listings_ratio'] = lis_df['host_total_listings_count'] / lis_df['listings_in_neighborhood']"
   ]
  },
  {
   "cell_type": "code",
   "execution_count": 127,
   "metadata": {},
   "outputs": [],
   "source": [
    "# Avoid division by zero in yearly_review calculation\n",
    "lis_df['yearly_review'] = lis_df['number_of_reviews'] / lis_df['host_experience_years'].replace(0, 1)\n",
    "lis_df['yearly_review'] = lis_df['yearly_review'].fillna(0)  # No reviews = 0 reviews per year\n",
    "\n",
    "# Calculate review score variance; consistency of the host's recieved reviews by guests\n",
    "review_score_cols = [col for col in lis_df.columns if col.startswith('review_scores_')]\n",
    "lis_df['review_score_variance'] = lis_df[review_score_cols].var(axis=1)\n",
    "lis_df.drop(columns=[col for col in lis_df.columns if 'review_scores_' in col], inplace=True)"
   ]
  },
  {
   "cell_type": "code",
   "execution_count": 128,
   "metadata": {},
   "outputs": [
    {
     "name": "stdout",
     "output_type": "stream",
     "text": [
      "\n",
      "New Feature Summary:\n",
      "\n",
      "distance_to_center_km:\n",
      "count    20905.000000\n",
      "mean         3.733406\n",
      "std          2.014533\n",
      "min          0.096576\n",
      "25%          2.259348\n",
      "50%          3.445544\n",
      "75%          4.762564\n",
      "max         13.204881\n",
      "Name: distance_to_center_km, dtype: float64\n",
      "\n",
      "host_experience_years:\n",
      "count    20905.000000\n",
      "mean         2.159103\n",
      "std          2.661812\n",
      "min          0.000000\n",
      "25%          0.134155\n",
      "50%          1.013005\n",
      "75%          3.107461\n",
      "max         13.859001\n",
      "Name: host_experience_years, dtype: float64\n",
      "\n",
      "host_listings_ratio:\n",
      "count    20905.000000\n",
      "mean         0.005180\n",
      "std          0.033082\n",
      "min          0.000268\n",
      "25%          0.000334\n",
      "50%          0.000558\n",
      "75%          0.001115\n",
      "max          0.802680\n",
      "Name: host_listings_ratio, dtype: float64\n",
      "\n",
      "listings_in_neighborhood:\n",
      "count    20905.000000\n",
      "mean      2568.974169\n",
      "std       1008.924101\n",
      "min        365.000000\n",
      "25%       1869.000000\n",
      "50%       2247.000000\n",
      "75%       3586.000000\n",
      "max       3734.000000\n",
      "Name: listings_in_neighborhood, dtype: float64\n",
      "\n",
      "neighborhood_avg_price:\n",
      "count    20905.000000\n",
      "mean      1304.368414\n",
      "std        208.992015\n",
      "min       1024.337879\n",
      "25%       1141.055731\n",
      "50%       1251.718098\n",
      "75%       1310.869648\n",
      "max       1775.801201\n",
      "Name: neighborhood_avg_price, dtype: float64\n",
      "\n",
      "price_per_bedroom:\n",
      "count    20905.000000\n",
      "mean       916.952367\n",
      "std        744.178101\n",
      "min         61.950000\n",
      "25%        584.333333\n",
      "50%        800.000000\n",
      "75%       1089.000000\n",
      "max      64900.000000\n",
      "Name: price_per_bedroom, dtype: float64\n",
      "\n",
      "price_per_person:\n",
      "count    20905.000000\n",
      "mean       440.589372\n",
      "std        400.818406\n",
      "min         12.500000\n",
      "25%        278.800000\n",
      "50%        375.000000\n",
      "75%        500.000000\n",
      "max      32450.000000\n",
      "Name: price_per_person, dtype: float64\n",
      "\n",
      "price_vs_neighborhood:\n",
      "count    20905.000000\n",
      "mean         1.000000\n",
      "std          0.704155\n",
      "min          0.077162\n",
      "25%          0.675350\n",
      "50%          0.871163\n",
      "75%          1.152888\n",
      "max         48.538471\n",
      "Name: price_vs_neighborhood, dtype: float64\n",
      "\n",
      "price_vs_room_type:\n",
      "count    20905.000000\n",
      "mean         1.000000\n",
      "std          0.798128\n",
      "min          0.126705\n",
      "25%          0.652741\n",
      "50%          0.822469\n",
      "75%          1.121548\n",
      "max         66.369427\n",
      "Name: price_vs_room_type, dtype: float64\n",
      "\n",
      "review_score_variance:\n",
      "count    20905.000000\n",
      "mean         0.038140\n",
      "std          0.106905\n",
      "min          0.000000\n",
      "25%          0.006114\n",
      "50%          0.010157\n",
      "75%          0.032490\n",
      "max          3.666667\n",
      "Name: review_score_variance, dtype: float64\n",
      "\n",
      "room_type_avg_price:\n",
      "count    20905.000000\n",
      "mean      1304.368414\n",
      "std        105.008488\n",
      "min        686.653846\n",
      "25%       1337.436849\n",
      "50%       1337.436849\n",
      "75%       1337.436849\n",
      "max       1337.436849\n",
      "Name: room_type_avg_price, dtype: float64\n",
      "\n",
      "yearly_review:\n",
      "count    20905.000000\n",
      "mean        16.004971\n",
      "std         35.135007\n",
      "min          0.000000\n",
      "25%          1.497169\n",
      "50%          5.832335\n",
      "75%         15.476695\n",
      "max        730.500000\n",
      "Name: yearly_review, dtype: float64\n",
      "\n",
      "Checking for issues in new features:\n",
      "distance_to_center_km       0\n",
      "host_experience_years       0\n",
      "host_listings_ratio         0\n",
      "listings_in_neighborhood    0\n",
      "neighborhood_avg_price      0\n",
      "price_per_bedroom           0\n",
      "price_per_person            0\n",
      "price_vs_neighborhood       0\n",
      "price_vs_room_type          0\n",
      "review_score_variance       0\n",
      "room_type_avg_price         0\n",
      "yearly_review               0\n",
      "dtype: int64\n"
     ]
    }
   ],
   "source": [
    "# Print summary of new features\n",
    "print(\"\\nNew Feature Summary:\")\n",
    "new_features = lis_df.columns.difference(original_columns)\n",
    "for col in new_features:\n",
    "    print(f\"\\n{col}:\")\n",
    "    print(lis_df[col].describe())\n",
    "\n",
    "# Check for any issues in new features\n",
    "print(\"\\nChecking for issues in new features:\")\n",
    "print(lis_df[new_features].isnull().sum())"
   ]
  },
  {
   "cell_type": "markdown",
   "metadata": {},
   "source": [
    "#### Drop first & last review date, as we've now created the attribute host_experience_years."
   ]
  },
  {
   "cell_type": "code",
   "execution_count": 129,
   "metadata": {},
   "outputs": [],
   "source": [
    "lis_df.drop(['first_review', 'last_review'], axis=1, inplace=True)"
   ]
  },
  {
   "cell_type": "markdown",
   "metadata": {},
   "source": [
    "### 3. Sentiment Scoring"
   ]
  },
  {
   "cell_type": "code",
   "execution_count": 130,
   "metadata": {},
   "outputs": [
    {
     "name": "stderr",
     "output_type": "stream",
     "text": [
      "Device set to use cpu\n"
     ]
    },
    {
     "name": "stdout",
     "output_type": "stream",
     "text": [
      "Processing sample of 1000 reviews...\n",
      "Calculating sentiment scores...\n"
     ]
    },
    {
     "name": "stderr",
     "output_type": "stream",
     "text": [
      "100%|██████████| 1000/1000 [00:53<00:00, 18.60it/s]\n"
     ]
    },
    {
     "name": "stdout",
     "output_type": "stream",
     "text": [
      "\n",
      "Sample Results by Sentiment Category:\n",
      "\n",
      "Very Positive Reviews Examples (3 random samples):\n",
      "\n",
      "Score: 0.619\n",
      "Review: I liked the airbnb, nice, worth the money, great and responsive host....\n",
      "\n",
      "Score: 0.940\n",
      "Review: Lina is a fantastic host. She even contacted us days before arriving to tell us how to get her place. The apartment is really cosy, nice and in a perfect location. Groceries and the metro station are ...\n",
      "\n",
      "Score: 0.730\n",
      "Review: We had a wonderful stay and are very satisfied with our choice. Sara is friendly and responds to questions very quickly. The apartment is quite small but has everything you need. It would be great to ...\n",
      "\n",
      "Positive Reviews Examples (3 random samples):\n",
      "\n",
      "Score: 0.267\n",
      "Review: Kristoffer's apartment is a lovely place to stay. I stayed there with two friends for the weekend. The apartment is lovely inside and is in a good area to explore the city from. Kristoffer was a great...\n",
      "\n",
      "Score: 0.231\n",
      "Review: Amei a estadia no apartamento do Karl. Bem localizado, fora do agito do centro, mas perto de tudo pegando o metrô que é a alguns minutos do apartamento.<br/>Único inconveniente foi uma obra que começa...\n",
      "\n",
      "Score: 0.298\n",
      "Review: Place is really nice. Location perfect. I missed coffee machine and kettle, but luckily there is tons of nice cafes, restaurants and bars everywhere.<br/>A rare Airbnb-place, because this really is a ...\n",
      "\n",
      "Neutral Reviews Examples (3 random samples):\n",
      "\n",
      "Score: 0.000\n",
      "Review: ....\n",
      "\n",
      "Score: 0.000\n",
      "Review: Copenhagen Downtown Hostel is in a great location in the city center. However, it can be quite loud and isn’t necessarily the nicest-looking/cleanest hostel. I recommend getting earplugs from receptio...\n",
      "\n",
      "Score: 0.000\n",
      "Review: If ur a deep sleeper, this is definitely for you. But if u are bothered by little noises, this would not be a great place....\n",
      "\n",
      "Negative Reviews Examples (3 random samples):\n",
      "\n",
      "Score: -0.257\n",
      "Review: We had not very pleasant moments with this apartment, and we wrote about it to our host, but no one did anything.<br/>When we arrived at the apartment and saw some problems that upset us very much: th...\n",
      "\n",
      "Score: -0.233\n",
      "Review: Pros:<br/>-Close to airport and transportation<br/>-Inexpensive and convenient<br/>-Area felt safe<br/>-Clean<br/>Cons:<br/>-No window curtains for privacy and on the first floor which means everyone ...\n",
      "\n",
      "Score: -0.223\n",
      "Review: I stayed in CDH in two parts. In my first stay I was allotted 6th floor which had no lift (lift available only till 5th).had to struggle my way from 5th to 6th with out lift with my heavy suitcase and...\n",
      "\n",
      "Very Negative Reviews Examples (3 random samples):\n",
      "\n",
      "Score: -0.820\n",
      "Review: HOST MOVED US TO ANOTHER DOWNGRADED UNIT AND REFUSED REFUND  - A half hour after landing we were told that this apartment was not available due to a toilet issue.  BUT. . .  They have another one arou...\n",
      "\n",
      "Score: -0.743\n",
      "Review: Wohnung war unheimlich dreckig (Bilder können dies belegen). Rollos an den Fenstern defekt. WLAN funktionierte nur am letzten Tag nach diversen Nachfragen. Wohnung wurde mit Sicherheit in den letzten ...\n",
      "\n",
      "Sentiment Score Distribution:\n",
      "count    1000.000000\n",
      "mean        0.575136\n",
      "std         0.256870\n",
      "min        -0.820199\n",
      "25%         0.333918\n",
      "50%         0.633669\n",
      "75%         0.777601\n",
      "max         0.966915\n",
      "Name: sentiment_score, dtype: float64\n"
     ]
    }
   ],
   "source": [
    "# Initialize model and tokenizer\n",
    "model_name = \"nlptown/bert-base-multilingual-uncased-sentiment\"  # Using a more stable model\n",
    "sentiment_analyzer = pipeline(\n",
    "    \"sentiment-analysis\",\n",
    "    model=model_name,\n",
    "    tokenizer=model_name,\n",
    "    device=0 if torch.cuda.is_available() else -1\n",
    ")\n",
    "\n",
    "def get_sentiment_score(text):\n",
    "    if pd.isna(text) or len(str(text).strip()) < 3:\n",
    "        return 0\n",
    "    try:\n",
    "        # Truncate long texts to 512 tokens\n",
    "        result = sentiment_analyzer(str(text)[:512])[0]\n",
    "        \n",
    "        # This model returns scores from 1-5 stars\n",
    "        score = int(result['label'][0])  # Get first character (1-5)\n",
    "        \n",
    "        # Convert 1-5 scale to [-1, 1]\n",
    "        normalized_score = (score - 3) / 2\n",
    "        \n",
    "        # Weight by confidence\n",
    "        final_score = normalized_score * result['score']\n",
    "        \n",
    "        return final_score\n",
    "        \n",
    "    except Exception as e:\n",
    "        print(f\"Error processing text: {str(e)}\")\n",
    "        return 0\n",
    "\n",
    "# Take a sample of 1000 reviews\n",
    "sample_size = 1000\n",
    "print(f\"Processing sample of {sample_size} reviews...\")\n",
    "rev_sample = rev_df.sample(sample_size, random_state=42)\n",
    "\n",
    "# Process reviews with progress bar\n",
    "print(\"Calculating sentiment scores...\")\n",
    "rev_sample['sentiment_score'] = [get_sentiment_score(text) for text in tqdm(rev_sample['comments'])]\n",
    "\n",
    "# Show results\n",
    "print(\"\\nSample Results by Sentiment Category:\")\n",
    "for sentiment, range_vals in [\n",
    "    ('Very Positive', (0.5, 1.0)),\n",
    "    ('Positive', (0.1, 0.5)),\n",
    "    ('Neutral', (-0.1, 0.1)),\n",
    "    ('Negative', (-0.5, -0.1)),\n",
    "    ('Very Negative', (-1.0, -0.5))\n",
    "]:\n",
    "    mask = (rev_sample['sentiment_score'] >= range_vals[0]) & (rev_sample['sentiment_score'] <= range_vals[1])\n",
    "    print(f\"\\n{sentiment} Reviews Examples (3 random samples):\")\n",
    "    sample = rev_sample[mask].sample(min(3, len(rev_sample[mask])))\n",
    "    for _, row in sample.iterrows():\n",
    "        print(f\"\\nScore: {row['sentiment_score']:.3f}\")\n",
    "        print(f\"Review: {row['comments'][:200]}...\")\n",
    "\n",
    "# Print distribution statistics\n",
    "print(\"\\nSentiment Score Distribution:\")\n",
    "print(rev_sample['sentiment_score'].describe())\n",
    "\n",
    "# Save results\n",
    "rev_sample.to_csv('sentiment_analysis_sample_bert.csv', index=False)"
   ]
  },
  {
   "cell_type": "markdown",
   "metadata": {},
   "source": [
    "# Remember to append sentiment score to rev_df!!!"
   ]
  },
  {
   "cell_type": "markdown",
   "metadata": {},
   "source": [
    "### 4. Final Status Check"
   ]
  },
  {
   "cell_type": "code",
   "execution_count": 133,
   "metadata": {},
   "outputs": [
    {
     "name": "stdout",
     "output_type": "stream",
     "text": [
      "Listings shape: (20905, 45)\n",
      "Reviews shape: (366636, 5)\n"
     ]
    }
   ],
   "source": [
    "print(\"Listings shape:\", lis_df.shape)\n",
    "print(\"Reviews shape:\", rev_df.shape)"
   ]
  },
  {
   "cell_type": "markdown",
   "metadata": {},
   "source": [
    "### 5. Save Processed Datasets"
   ]
  },
  {
   "cell_type": "code",
   "execution_count": 134,
   "metadata": {},
   "outputs": [],
   "source": [
    "lis_df.to_parquet('data/processed/03_listings.parquet')\n",
    "rev_df.to_parquet('data/processed/03_reviews.parquet')"
   ]
  }
 ],
 "metadata": {
  "kernelspec": {
   "display_name": "base",
   "language": "python",
   "name": "python3"
  },
  "language_info": {
   "codemirror_mode": {
    "name": "ipython",
    "version": 3
   },
   "file_extension": ".py",
   "mimetype": "text/x-python",
   "name": "python",
   "nbconvert_exporter": "python",
   "pygments_lexer": "ipython3",
   "version": "3.12.5"
  }
 },
 "nbformat": 4,
 "nbformat_minor": 2
}
