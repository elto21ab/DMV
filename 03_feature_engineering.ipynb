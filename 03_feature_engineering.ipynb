{
 "cells": [
  {
   "cell_type": "code",
   "execution_count": 1,
   "metadata": {},
   "outputs": [],
   "source": [
    "import pandas as pd\n",
    "import numpy as np"
   ]
  },
  {
   "cell_type": "code",
   "execution_count": null,
   "metadata": {},
   "outputs": [],
   "source": [
    "lis_df = pd.read_parquet('data/processed/02_listings.parquet')\n",
    "rev_df = pd.read_parquet('data/processed/02_reviews.parquet')\n",
    "print(lis_df.shape,'\\n',rev_df.shape)"
   ]
  },
  {
   "cell_type": "markdown",
   "metadata": {},
   "source": [
    "### 7. Handle Missing Values"
   ]
  },
  {
   "cell_type": "markdown",
   "metadata": {},
   "source": [
    "#### Imputation for Listings"
   ]
  },
  {
   "cell_type": "code",
   "execution_count": 3,
   "metadata": {},
   "outputs": [],
   "source": [
    "# Physical characteristics imputation - revised approach\n",
    "# Bathrooms - keep room_type median as it must exist\n",
    "lis_df['bathrooms'] = lis_df.groupby('room_type')['bathrooms'].transform(lambda x: x.fillna(x.median()))\n",
    "lis_df['bathrooms'] = lis_df['bathrooms'].fillna(1.0)  # Fallback to 1 if still missing\n",
    "\n",
    "# Bedrooms - set to 0 for shared/studio, impute for homes\n",
    "lis_df.loc[lis_df['room_type'].isin(['Shared room', 'Private room']), 'bedrooms'] = \\\n",
    "    lis_df.loc[lis_df['room_type'].isin(['Shared room', 'Private room']), 'bedrooms'].fillna(0)\n",
    "lis_df.loc[lis_df['room_type'] == 'Entire home/apt', 'bedrooms'] = \\\n",
    "    lis_df.loc[lis_df['room_type'] == 'Entire home/apt', 'bedrooms'].transform(lambda x: x.fillna(x.median()))\n",
    "lis_df['bedrooms'] = lis_df['bedrooms'].fillna(0)  # Any remaining missing to 0\n",
    "\n",
    "# Beds - ensure at least 1 bed per listing based on accommodates\n",
    "lis_df['beds'] = lis_df['beds'].fillna(lis_df['accommodates'].clip(lower=1))\n",
    "\n",
    "# Numeric imputation - ensure all numeric fields have appropriate values for PostgreSQL numeric types\n",
    "numeric_cols_to_impute = {\n",
    "    'host_acceptance_rate_pct': 0.0,  # Use 0 instead of mean for percentage\n",
    "    'review_scores_rating': 0,  # Use 0 instead of median for scores\n",
    "    'review_scores_accuracy': 0,\n",
    "    'review_scores_cleanliness': 0,\n",
    "    'review_scores_checkin': 0,\n",
    "    'review_scores_communication': 0,\n",
    "    'review_scores_location': 0,\n",
    "    'review_scores_value': 0,\n",
    "    'reviews_per_month': 0,\n",
    "    'host_total_listings_count': 1\n",
    "}\n",
    "\n",
    "for col, value in numeric_cols_to_impute.items():\n",
    "    lis_df[col] = lis_df[col].fillna(value)\n",
    "\n",
    "# Categorical imputation - use empty string for VARCHAR fields where appropriate\n",
    "categorical_cols_to_impute = {\n",
    "    'host_response_time': '',  # VARCHAR\n",
    "    'host_neighbourhood': '',  # VARCHAR\n",
    "    'bathrooms_text': '',  # VARCHAR\n",
    "    'neighbourhood': 'mode',  # Keep mode for geographic consistency\n",
    "    'neighbourhood_cleansed': 'mode',  # Keep mode for geographic consistency\n",
    "    'host_location': 'Copenhagen, Denmark',  # Important location default\n",
    "}\n",
    "\n",
    "for col, strategy in categorical_cols_to_impute.items():\n",
    "    if strategy == 'mode':\n",
    "        lis_df[col] = lis_df[col].fillna(lis_df[col].mode()[0])\n",
    "    else:\n",
    "        lis_df[col] = lis_df[col].fillna(strategy)\n",
    "\n",
    "# Text columns - use empty string for TEXT fields\n",
    "text_cols_to_impute = ['host_about', 'neighborhood_overview', 'description']\n",
    "for col in text_cols_to_impute:\n",
    "    lis_df[col] = lis_df[col].fillna('')\n",
    "\n",
    "# Date columns - use explicit PostgreSQL-compatible dates\n",
    "current_date = pd.Timestamp.now().date()\n",
    "lis_df['host_since'] = lis_df['host_since'].fillna(pd.Timestamp(pd.NaT))  # Use explicit default date\n",
    "lis_df['first_review'] = lis_df['first_review'].fillna(pd.NaT)  # Keep as NULL for no reviews\n",
    "lis_df['last_review'] = lis_df['last_review'].fillna(pd.NaT)  # Keep as NULL for no reviews\n",
    "\n",
    "# Boolean columns - ensure True/False (not NULL)\n",
    "boolean_cols = ['instant_bookable', 'superhost', 'host_has_profile_pic', \n",
    "                'host_identity_verified', 'has_availability']\n",
    "for col in boolean_cols:\n",
    "    lis_df[col] = lis_df[col].fillna(False)  # Default to False for missing booleans"
   ]
  },
  {
   "cell_type": "markdown",
   "metadata": {},
   "source": [
    "#### Imputation for Calendar"
   ]
  },
  {
   "cell_type": "code",
   "execution_count": 4,
   "metadata": {},
   "outputs": [],
   "source": [
    "# Price imputation for calendar\n",
    "# cal_df['price_USD'] = cal_df.groupby(['listing_id', 'available'])['price_USD'].transform(lambda x: x.fillna(x.median()))\n",
    "\n",
    "# Todo: Maybe 0 is not as good as median for default?\n",
    "# cal_df['price_USD'] = cal_df['price_USD'].fillna(0)  # Default to 0 for any remaining NULL prices\n",
    "\n",
    "# Handle minimum and maximum nights\n",
    "# cal_df['minimum_nights'] = cal_df.groupby('listing_id')['minimum_nights'].transform(lambda x: x.fillna(x.median()))\n",
    "# cal_df['maximum_nights'] = cal_df.groupby('listing_id')['maximum_nights'].transform(lambda x: x.fillna(x.median()))\n",
    "# Default to 1 and 365 if still missing\n",
    "# cal_df['minimum_nights'] = cal_df['minimum_nights'].fillna(1)\n",
    "# cal_df['maximum_nights'] = cal_df['maximum_nights'].fillna(365)"
   ]
  },
  {
   "cell_type": "markdown",
   "metadata": {},
   "source": [
    "#### Imputation for Reviews"
   ]
  },
  {
   "cell_type": "code",
   "execution_count": 5,
   "metadata": {},
   "outputs": [],
   "source": [
    "# Handle missing comments\n",
    "rev_df['comments'] = rev_df['comments'].fillna('')  # Empty string for TEXT field"
   ]
  },
  {
   "cell_type": "code",
   "execution_count": null,
   "metadata": {},
   "outputs": [],
   "source": [
    "# After all imputations, check which columns still have nulls\n",
    "null_check = lis_df.isnull().sum()\n",
    "print(\"\\nColumns with remaining NULL values:\")\n",
    "print(null_check[null_check > 0])\n",
    "\n",
    "# Fix remaining nulls based on their data types\n",
    "for col in lis_df.columns[lis_df.isnull().any()]:\n",
    "    dtype = lis_df[col].dtype\n",
    "    \n",
    "    if np.issubdtype(dtype, np.number):  # Numeric columns\n",
    "        lis_df[col] = lis_df[col].fillna(0)\n",
    "    elif dtype == 'datetime64[ns]':  # DateTime columns\n",
    "        lis_df[col] = lis_df[col].fillna(pd.NaT)\n",
    "    elif dtype == 'bool':  # Boolean columns\n",
    "        lis_df[col] = lis_df[col].fillna(False)\n",
    "    else:  # String/object columns\n",
    "        lis_df[col] = lis_df[col].fillna('')"
   ]
  },
  {
   "cell_type": "code",
   "execution_count": null,
   "metadata": {},
   "outputs": [],
   "source": [
    "# Verify imputation\n",
    "print(\"\\nVerifying no NULL values remain:\")\n",
    "print(\"\\nListings nulls:\", lis_df.isnull().sum().sum())\n",
    "print(\"Reviews nulls:\", rev_df.isnull().sum().sum())"
   ]
  },
  {
   "cell_type": "markdown",
   "metadata": {},
   "source": [
    "### 8. Feature Engineering"
   ]
  },
  {
   "cell_type": "code",
   "execution_count": 8,
   "metadata": {},
   "outputs": [],
   "source": [
    "# Store original columns\n",
    "original_columns = lis_df.columns.copy()"
   ]
  },
  {
   "cell_type": "code",
   "execution_count": null,
   "metadata": {},
   "outputs": [],
   "source": [
    "lis_df.info()"
   ]
  },
  {
   "cell_type": "code",
   "execution_count": 10,
   "metadata": {},
   "outputs": [],
   "source": [
    "# Listing Quality Indicators\n",
    "# lis_df['is_superhost'] = lis_df['host_is_superhost']  # Already boolean\n",
    "#lis_df['total_reviews'] = lis_df['number_of_reviews'] #TODO\n",
    "# lis_df['avg_rating'] = lis_df['review_scores_rating'] #TODO \n",
    "# lis_df['review_frequency'] = lis_df['reviews_per_month']\n"
   ]
  },
  {
   "cell_type": "code",
   "execution_count": 11,
   "metadata": {},
   "outputs": [],
   "source": [
    "# Location Features\n",
    "COPENHAGEN_CENTER_LAT = 55.6761\n",
    "COPENHAGEN_CENTER_LON = 12.5683\n",
    "\n",
    "# Distance to center in birdeye view\n",
    "lis_df['distance_to_center_km'] = np.sqrt(\n",
    "    (lis_df['latitude'] - COPENHAGEN_CENTER_LAT)**2 + \n",
    "    (lis_df['longitude'] - COPENHAGEN_CENTER_LON)**2\n",
    ") * 111  # Rough conversion to kilometers\n",
    "\n",
    "# Neighborhood density\n",
    "lis_df['listings_in_neighborhood'] = lis_df.groupby('neighbourhood_cleansed')['id'].transform('count')"
   ]
  },
  {
   "cell_type": "code",
   "execution_count": 12,
   "metadata": {},
   "outputs": [],
   "source": [
    "# Price Features\n",
    "# Neighborhood price comparison\n",
    "lis_df['neighborhood_avg_price'] = lis_df.groupby('neighbourhood_cleansed')['price_DKK'].transform('mean')\n",
    "lis_df['price_vs_neighborhood'] = lis_df['price_DKK'] / lis_df['neighborhood_avg_price']\n",
    "\n",
    "# Room type price comparison\n",
    "lis_df['room_type_avg_price'] = lis_df.groupby('room_type')['price_DKK'].transform('mean')\n",
    "lis_df['price_vs_room_type'] = lis_df['price_DKK'] / lis_df['room_type_avg_price']\n",
    "\n",
    "# Value indicators\n",
    "lis_df['price_per_person'] = lis_df['price_DKK'] / lis_df['accommodates']\n",
    "lis_df['price_per_bedroom'] = lis_df['price_DKK'].div(lis_df['bedrooms'].where(lis_df['bedrooms'] > 0, 1))"
   ]
  },
  {
   "cell_type": "markdown",
   "metadata": {},
   "source": [
    "# Host"
   ]
  },
  {
   "cell_type": "code",
   "execution_count": 13,
   "metadata": {},
   "outputs": [],
   "source": [
    "# Create boolean masks for different conditions\n",
    "mask_diff_dates = lis_df['first_review'] != lis_df['last_review']\n",
    "mask_same_dates = lis_df['first_review'] == lis_df['last_review']\n",
    "\n",
    "# Initialize host_experience_years with zeros\n",
    "# lis_df['host_experience_years'] = 0\n",
    "\n",
    "# Calculate for different first and last review dates\n",
    "lis_df.loc[mask_diff_dates, 'host_experience_years'] = (\n",
    "    (lis_df.loc[mask_diff_dates, 'last_review'] - \n",
    "     lis_df.loc[mask_diff_dates, 'first_review']).dt.total_seconds() / (365.25 * 24 * 60 * 60)\n",
    ")\n",
    "\n",
    "# Calculate for same first and last review date\n",
    "lis_df.loc[mask_same_dates, 'host_experience_years'] = (\n",
    "    (pd.Timestamp.now() - lis_df.loc[mask_same_dates, 'last_review']).dt.total_seconds() / (365.25 * 24 * 60 * 60)\n",
    ")\n",
    "\n",
    "# Set host_experience_years to 0 where both review dates are missing\n",
    "mask_no_reviews = lis_df['last_review'].isna() & lis_df['first_review'].isna()\n",
    "lis_df.loc[mask_no_reviews, 'host_experience_years'] = 0"
   ]
  },
  {
   "cell_type": "code",
   "execution_count": 14,
   "metadata": {},
   "outputs": [],
   "source": [
    "# Response Quality: encode ordinal rating of each possible response time category\n",
    "# lis_df['host_response_time']"
   ]
  },
  {
   "cell_type": "code",
   "execution_count": 15,
   "metadata": {},
   "outputs": [],
   "source": [
    "# How big of a scale does the host operate on relatively to the rest in this neighborhood\n",
    "lis_df['host_listings_ratio'] = lis_df['host_total_listings_count'] / lis_df['listings_in_neighborhood']"
   ]
  },
  {
   "cell_type": "code",
   "execution_count": 16,
   "metadata": {},
   "outputs": [],
   "source": [
    "# Avoid division by zero in yearly_review calculation\n",
    "lis_df['yearly_review'] = lis_df['number_of_reviews'] / lis_df['host_experience_years'].replace(0, 1)\n",
    "lis_df['yearly_review'] = lis_df['yearly_review'].fillna(0)  # No reviews = 0 reviews per year\n",
    "\n",
    "# Calculate review score variance; consistency of the host's recieved reviews by guests\n",
    "review_score_cols = [col for col in lis_df.columns if col.startswith('review_scores_')]\n",
    "lis_df['review_score_variance'] = lis_df[review_score_cols].var(axis=1)"
   ]
  },
  {
   "cell_type": "code",
   "execution_count": null,
   "metadata": {},
   "outputs": [],
   "source": [
    "# Print summary of new features\n",
    "print(\"\\nNew Feature Summary:\")\n",
    "new_features = lis_df.columns.difference(original_columns)\n",
    "for col in new_features:\n",
    "    print(f\"\\n{col}:\")\n",
    "    print(lis_df[col].describe())\n",
    "\n",
    "# Check for any issues in new features\n",
    "print(\"\\nChecking for issues in new features:\")\n",
    "print(lis_df[new_features].isnull().sum())"
   ]
  },
  {
   "cell_type": "markdown",
   "metadata": {},
   "source": [
    "## Drop first|last review date, and latitude|longitude after calculated."
   ]
  },
  {
   "cell_type": "code",
   "execution_count": 18,
   "metadata": {},
   "outputs": [],
   "source": [
    "lis_df.drop(['latitude', 'longitude'], axis=1, inplace=True)"
   ]
  },
  {
   "cell_type": "code",
   "execution_count": 19,
   "metadata": {},
   "outputs": [],
   "source": [
    "lis_df.drop(['first_review', 'last_review'], axis=1, inplace=True)"
   ]
  },
  {
   "cell_type": "markdown",
   "metadata": {},
   "source": [
    "### 9. Final Status Check"
   ]
  },
  {
   "cell_type": "code",
   "execution_count": null,
   "metadata": {},
   "outputs": [],
   "source": [
    "print(\"Listings shape:\", lis_df.shape)\n",
    "print(\"Reviews shape:\", rev_df.shape)"
   ]
  },
  {
   "cell_type": "markdown",
   "metadata": {},
   "source": [
    "### 10. Save Processed Datasets"
   ]
  },
  {
   "cell_type": "code",
   "execution_count": 21,
   "metadata": {},
   "outputs": [],
   "source": [
    "lis_df.to_parquet('data/processed/03_listings.parquet')\n",
    "rev_df.to_parquet('data/processed/03_reviews.parquet')"
   ]
  }
 ],
 "metadata": {
  "kernelspec": {
   "display_name": "base",
   "language": "python",
   "name": "python3"
  },
  "language_info": {
   "codemirror_mode": {
    "name": "ipython",
    "version": 3
   },
   "file_extension": ".py",
   "mimetype": "text/x-python",
   "name": "python",
   "nbconvert_exporter": "python",
   "pygments_lexer": "ipython3",
   "version": "3.11.8"
  }
 },
 "nbformat": 4,
 "nbformat_minor": 2
}
