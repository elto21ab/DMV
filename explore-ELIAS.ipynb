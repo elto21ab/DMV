{
 "cells": [
  {
   "cell_type": "code",
   "execution_count": 2,
   "metadata": {},
   "outputs": [],
   "source": [
    "import pandas as pd"
   ]
  },
  {
   "cell_type": "code",
   "execution_count": 3,
   "metadata": {},
   "outputs": [],
   "source": [
    "# Read the CSV files\n",
    "cal = pd.read_csv('data/calendar2024.csv')\n",
    "lis = pd.read_csv('data/listings2024.csv') \n",
    "rev = pd.read_csv('data/reviews2024.csv')"
   ]
  },
  {
   "cell_type": "markdown",
   "metadata": {},
   "source": [
    "## TODO\n",
    "- [ ] Many variables are stored as generic objects, instead of their actual datatype\n",
    "- [ ] datetime columns are stored as objects\n",
    "- [ ] lis.neighbourhood_cleansed has spelling mistakes\n",
    "- [ ] first name of reviewer/host seems irrelevant, when unique-ID is available\n",
    "- [ ] NaN, missing, and null values are inconsistent\n",
    "- [ ] Boolean is expressed as t/f\n",
    "- [ ] Price is stored as a string in an arbitrary currency (is it $ or local?)\n",
    "\n",
    "**lis csv** \n",
    "- property_type, and room_type are mapped as obj., is categorial\n",
    "- bathroom and bathrooms_text are the same, but bathrooms_text has some values that are not in bathroom.\n",
    "- bedrooms, and beds\tare stored as float, but is int.\n",
    "\n",
    "- [ ] ETL: Extract, Transform, Load\n",
    "\n",
    "---\n",
    "> Attributes of datasets identified at initial look\n",
    "- Primary keys: cal.listing_id, list.id, rev.listing_id\n"
   ]
  },
  {
   "cell_type": "markdown",
   "metadata": {},
   "source": [
    "### Clean"
   ]
  },
  {
   "cell_type": "code",
   "execution_count": 4,
   "metadata": {},
   "outputs": [],
   "source": [
    "cal.drop(columns=['adjusted_price'], inplace=True)\n",
    "\n",
    "null_cols_lis = lis.columns[lis.isna().all()].tolist()\n",
    "lis = lis.drop(columns=null_cols_lis)\n",
    "\n",
    "lis.drop(columns=['scrape_id'], inplace=True)\n",
    "\n",
    "lis.drop(columns=['host_name'], inplace=True)\n",
    "rev.drop(columns=['reviewer_name'], inplace=True)"
   ]
  },
  {
   "cell_type": "code",
   "execution_count": 5,
   "metadata": {},
   "outputs": [
    {
     "data": {
      "text/plain": [
       "0         We had a great stay. Conveniently located, qui...\n",
       "1         It was a very good stay. The appartment was re...\n",
       "2         Really enjoyed my time at Ebbe's place.  It is...\n",
       "3         The apartment was very well located, 10-15 min...\n",
       "4         This is a great flat, very clean with everythi...\n",
       "                                ...                        \n",
       "366631                             Great apt in Copenhagen!\n",
       "366632    I recently had the pleasure of staying at Emil...\n",
       "366633                                                    👍\n",
       "366634    Laura has been a great host, very nice and wel...\n",
       "366635    Ellen Sophie's apartment is above all expectat...\n",
       "Name: comments, Length: 366636, dtype: string"
      ]
     },
     "execution_count": 5,
     "metadata": {},
     "output_type": "execute_result"
    }
   ],
   "source": [
    "# cal['price'] = cal['price'].str.replace(r'[\\$,]', '', regex=True)\n",
    "\n",
    "# cal = cal.rename(columns={'price': 'price($)'})\n",
    "# cal['price($)'] = pd.to_numeric(cal['price($)'], errors='coerce')\n",
    "\n",
    "cal['available'] = cal['available'] == 't'\n",
    "lis['instant_bookable'] = lis['instant_bookable'] == 't'\n",
    "lis['host_is_superhost'] = lis['host_is_superhost'] == 't'\n",
    "lis['host_has_profile_pic'] = lis['host_has_profile_pic'] == 't'\n",
    "lis['host_identity_verified'] = lis['host_identity_verified'] == 't'\n",
    "lis['has_availability'] = lis['has_availability'] == 't'\n",
    "\n",
    "\n",
    "cal['date'] = pd.to_datetime(cal['date'])\n",
    "rev['date'] = pd.to_datetime(rev['date'])\n",
    "lis['last_scraped'] = pd.to_datetime(lis['last_scraped'])\n",
    "lis['host_since'] = pd.to_datetime(lis['host_since'])\n",
    "\n",
    "rev['comments'].astype(\"string\")#(str)"
   ]
  },
  {
   "cell_type": "code",
   "execution_count": 8,
   "metadata": {},
   "outputs": [
    {
     "data": {
      "text/html": [
       "<div>\n",
       "<style scoped>\n",
       "    .dataframe tbody tr th:only-of-type {\n",
       "        vertical-align: middle;\n",
       "    }\n",
       "\n",
       "    .dataframe tbody tr th {\n",
       "        vertical-align: top;\n",
       "    }\n",
       "\n",
       "    .dataframe thead th {\n",
       "        text-align: right;\n",
       "    }\n",
       "</style>\n",
       "<table border=\"1\" class=\"dataframe\">\n",
       "  <thead>\n",
       "    <tr style=\"text-align: right;\">\n",
       "      <th></th>\n",
       "      <th>id</th>\n",
       "      <th>listing_url</th>\n",
       "      <th>last_scraped</th>\n",
       "      <th>source</th>\n",
       "      <th>name</th>\n",
       "      <th>description</th>\n",
       "      <th>neighborhood_overview</th>\n",
       "      <th>picture_url</th>\n",
       "      <th>host_id</th>\n",
       "      <th>host_url</th>\n",
       "      <th>...</th>\n",
       "      <th>review_scores_checkin</th>\n",
       "      <th>review_scores_communication</th>\n",
       "      <th>review_scores_location</th>\n",
       "      <th>review_scores_value</th>\n",
       "      <th>instant_bookable</th>\n",
       "      <th>calculated_host_listings_count</th>\n",
       "      <th>calculated_host_listings_count_entire_homes</th>\n",
       "      <th>calculated_host_listings_count_private_rooms</th>\n",
       "      <th>calculated_host_listings_count_shared_rooms</th>\n",
       "      <th>reviews_per_month</th>\n",
       "    </tr>\n",
       "  </thead>\n",
       "  <tbody>\n",
       "    <tr>\n",
       "      <th>0</th>\n",
       "      <td>31094</td>\n",
       "      <td>https://www.airbnb.com/rooms/31094</td>\n",
       "      <td>2024-06-30</td>\n",
       "      <td>previous scrape</td>\n",
       "      <td>Beautiful, spacious, central, renovated Penthouse</td>\n",
       "      <td>Welcome to our home, we hope you will enjoy Wo...</td>\n",
       "      <td>What else is nearby?&lt;br /&gt;To be honest, We thi...</td>\n",
       "      <td>https://a0.muscache.com/pictures/miso/Hosting-...</td>\n",
       "      <td>129976</td>\n",
       "      <td>https://www.airbnb.com/users/show/129976</td>\n",
       "      <td>...</td>\n",
       "      <td>4.87</td>\n",
       "      <td>4.82</td>\n",
       "      <td>4.80</td>\n",
       "      <td>4.53</td>\n",
       "      <td>False</td>\n",
       "      <td>1</td>\n",
       "      <td>1</td>\n",
       "      <td>0</td>\n",
       "      <td>0</td>\n",
       "      <td>0.11</td>\n",
       "    </tr>\n",
       "    <tr>\n",
       "      <th>1</th>\n",
       "      <td>262961</td>\n",
       "      <td>https://www.airbnb.com/rooms/262961</td>\n",
       "      <td>2024-06-30</td>\n",
       "      <td>city scrape</td>\n",
       "      <td>192m2 FLAT+ 8m2 BALCONY IN CENTER NØRREBRO HOOD</td>\n",
       "      <td>If you are looking for a large apartment in ce...</td>\n",
       "      <td>TIME OUT - The world’s coolest neighbourhoods ...</td>\n",
       "      <td>https://a0.muscache.com/pictures/261aa506-7b13...</td>\n",
       "      <td>1379904</td>\n",
       "      <td>https://www.airbnb.com/users/show/1379904</td>\n",
       "      <td>...</td>\n",
       "      <td>4.94</td>\n",
       "      <td>4.94</td>\n",
       "      <td>4.89</td>\n",
       "      <td>4.53</td>\n",
       "      <td>False</td>\n",
       "      <td>1</td>\n",
       "      <td>1</td>\n",
       "      <td>0</td>\n",
       "      <td>0</td>\n",
       "      <td>0.24</td>\n",
       "    </tr>\n",
       "    <tr>\n",
       "      <th>2</th>\n",
       "      <td>263036</td>\n",
       "      <td>https://www.airbnb.com/rooms/263036</td>\n",
       "      <td>2024-06-30</td>\n",
       "      <td>city scrape</td>\n",
       "      <td>Bright flat in central location</td>\n",
       "      <td>NaN</td>\n",
       "      <td>NaN</td>\n",
       "      <td>https://a0.muscache.com/pictures/17770169/f1fb...</td>\n",
       "      <td>1232471</td>\n",
       "      <td>https://www.airbnb.com/users/show/1232471</td>\n",
       "      <td>...</td>\n",
       "      <td>4.86</td>\n",
       "      <td>4.86</td>\n",
       "      <td>4.81</td>\n",
       "      <td>4.67</td>\n",
       "      <td>False</td>\n",
       "      <td>1</td>\n",
       "      <td>1</td>\n",
       "      <td>0</td>\n",
       "      <td>0</td>\n",
       "      <td>0.14</td>\n",
       "    </tr>\n",
       "    <tr>\n",
       "      <th>3</th>\n",
       "      <td>32379</td>\n",
       "      <td>https://www.airbnb.com/rooms/32379</td>\n",
       "      <td>2024-06-30</td>\n",
       "      <td>city scrape</td>\n",
       "      <td>155 m2 artist flat on Vesterbro, with 2 bathrooms</td>\n",
       "      <td>You enter a narrow entrance and feel the good ...</td>\n",
       "      <td>Værnedamsvej area is super hip area, we call i...</td>\n",
       "      <td>https://a0.muscache.com/pictures/miso/Hosting-...</td>\n",
       "      <td>140105</td>\n",
       "      <td>https://www.airbnb.com/users/show/140105</td>\n",
       "      <td>...</td>\n",
       "      <td>4.88</td>\n",
       "      <td>4.91</td>\n",
       "      <td>4.89</td>\n",
       "      <td>4.71</td>\n",
       "      <td>False</td>\n",
       "      <td>2</td>\n",
       "      <td>1</td>\n",
       "      <td>1</td>\n",
       "      <td>0</td>\n",
       "      <td>0.49</td>\n",
       "    </tr>\n",
       "    <tr>\n",
       "      <th>4</th>\n",
       "      <td>263708</td>\n",
       "      <td>https://www.airbnb.com/rooms/263708</td>\n",
       "      <td>2024-06-30</td>\n",
       "      <td>city scrape</td>\n",
       "      <td>Urban garden on Vesterbro rooftop</td>\n",
       "      <td>NaN</td>\n",
       "      <td>NaN</td>\n",
       "      <td>https://a0.muscache.com/pictures/8ce36f40-ac59...</td>\n",
       "      <td>1383888</td>\n",
       "      <td>https://www.airbnb.com/users/show/1383888</td>\n",
       "      <td>...</td>\n",
       "      <td>5.00</td>\n",
       "      <td>5.00</td>\n",
       "      <td>4.67</td>\n",
       "      <td>4.00</td>\n",
       "      <td>False</td>\n",
       "      <td>1</td>\n",
       "      <td>1</td>\n",
       "      <td>0</td>\n",
       "      <td>0</td>\n",
       "      <td>0.02</td>\n",
       "    </tr>\n",
       "  </tbody>\n",
       "</table>\n",
       "<p>5 rows × 70 columns</p>\n",
       "</div>"
      ],
      "text/plain": [
       "       id                          listing_url last_scraped           source  \\\n",
       "0   31094   https://www.airbnb.com/rooms/31094   2024-06-30  previous scrape   \n",
       "1  262961  https://www.airbnb.com/rooms/262961   2024-06-30      city scrape   \n",
       "2  263036  https://www.airbnb.com/rooms/263036   2024-06-30      city scrape   \n",
       "3   32379   https://www.airbnb.com/rooms/32379   2024-06-30      city scrape   \n",
       "4  263708  https://www.airbnb.com/rooms/263708   2024-06-30      city scrape   \n",
       "\n",
       "                                                name  \\\n",
       "0  Beautiful, spacious, central, renovated Penthouse   \n",
       "1    192m2 FLAT+ 8m2 BALCONY IN CENTER NØRREBRO HOOD   \n",
       "2                    Bright flat in central location   \n",
       "3  155 m2 artist flat on Vesterbro, with 2 bathrooms   \n",
       "4                  Urban garden on Vesterbro rooftop   \n",
       "\n",
       "                                         description  \\\n",
       "0  Welcome to our home, we hope you will enjoy Wo...   \n",
       "1  If you are looking for a large apartment in ce...   \n",
       "2                                                NaN   \n",
       "3  You enter a narrow entrance and feel the good ...   \n",
       "4                                                NaN   \n",
       "\n",
       "                               neighborhood_overview  \\\n",
       "0  What else is nearby?<br />To be honest, We thi...   \n",
       "1  TIME OUT - The world’s coolest neighbourhoods ...   \n",
       "2                                                NaN   \n",
       "3  Værnedamsvej area is super hip area, we call i...   \n",
       "4                                                NaN   \n",
       "\n",
       "                                         picture_url  host_id  \\\n",
       "0  https://a0.muscache.com/pictures/miso/Hosting-...   129976   \n",
       "1  https://a0.muscache.com/pictures/261aa506-7b13...  1379904   \n",
       "2  https://a0.muscache.com/pictures/17770169/f1fb...  1232471   \n",
       "3  https://a0.muscache.com/pictures/miso/Hosting-...   140105   \n",
       "4  https://a0.muscache.com/pictures/8ce36f40-ac59...  1383888   \n",
       "\n",
       "                                    host_url  ... review_scores_checkin  \\\n",
       "0   https://www.airbnb.com/users/show/129976  ...                  4.87   \n",
       "1  https://www.airbnb.com/users/show/1379904  ...                  4.94   \n",
       "2  https://www.airbnb.com/users/show/1232471  ...                  4.86   \n",
       "3   https://www.airbnb.com/users/show/140105  ...                  4.88   \n",
       "4  https://www.airbnb.com/users/show/1383888  ...                  5.00   \n",
       "\n",
       "  review_scores_communication review_scores_location review_scores_value  \\\n",
       "0                        4.82                   4.80                4.53   \n",
       "1                        4.94                   4.89                4.53   \n",
       "2                        4.86                   4.81                4.67   \n",
       "3                        4.91                   4.89                4.71   \n",
       "4                        5.00                   4.67                4.00   \n",
       "\n",
       "  instant_bookable calculated_host_listings_count  \\\n",
       "0            False                              1   \n",
       "1            False                              1   \n",
       "2            False                              1   \n",
       "3            False                              2   \n",
       "4            False                              1   \n",
       "\n",
       "   calculated_host_listings_count_entire_homes  \\\n",
       "0                                            1   \n",
       "1                                            1   \n",
       "2                                            1   \n",
       "3                                            1   \n",
       "4                                            1   \n",
       "\n",
       "  calculated_host_listings_count_private_rooms  \\\n",
       "0                                            0   \n",
       "1                                            0   \n",
       "2                                            0   \n",
       "3                                            1   \n",
       "4                                            0   \n",
       "\n",
       "  calculated_host_listings_count_shared_rooms reviews_per_month  \n",
       "0                                           0              0.11  \n",
       "1                                           0              0.24  \n",
       "2                                           0              0.14  \n",
       "3                                           0              0.49  \n",
       "4                                           0              0.02  \n",
       "\n",
       "[5 rows x 70 columns]"
      ]
     },
     "execution_count": 8,
     "metadata": {},
     "output_type": "execute_result"
    }
   ],
   "source": [
    "lis[:5]\n",
    "# calendar_df[calendar_df['listing_id'] == 31094]"
   ]
  },
  {
   "cell_type": "code",
   "execution_count": 10,
   "metadata": {},
   "outputs": [
    {
     "name": "stdout",
     "output_type": "stream",
     "text": [
      "Listings shape: (20909, 70)\n",
      "Calendar shape: (7631731, 6)\n",
      "Reviews shape: (366636, 5)\n"
     ]
    }
   ],
   "source": [
    "print(\"Listings shape:\", lis.shape)\n",
    "print(\"Calendar shape:\", cal.shape) \n",
    "print(\"Reviews shape:\", rev.shape)"
   ]
  },
  {
   "cell_type": "code",
   "execution_count": 7,
   "metadata": {},
   "outputs": [
    {
     "name": "stdout",
     "output_type": "stream",
     "text": [
      "Python type: <class 'pandas.core.series.Series'>\n",
      "Pandas dtype: string\n"
     ]
    }
   ],
   "source": [
    "# Convert to datetime\n",
    "rev['comments'] = rev['comments'].astype(\"string\")\n",
    "\n",
    "# Check both type and dtype since astype(str) was called but comments may still not be string dtype\n",
    "print(\"Python type:\", type(rev['comments']))\n",
    "print(\"Pandas dtype:\", rev['comments'].dtype)\n",
    "# rev.info()\n",
    "# Sanity check\n",
    "# print(\"Calendar date range:\", cal['datetime'].min(), \"to\", cal['datetime'].max())"
   ]
  },
  {
   "cell_type": "code",
   "execution_count": null,
   "metadata": {},
   "outputs": [],
   "source": [
    "print(cal.price.unique())#.nunique())"
   ]
  },
  {
   "cell_type": "code",
   "execution_count": null,
   "metadata": {},
   "outputs": [],
   "source": [
    "print(lis.beds.unique())"
   ]
  },
  {
   "cell_type": "code",
   "execution_count": null,
   "metadata": {},
   "outputs": [],
   "source": [
    "print(lis.instant_bookable)"
   ]
  },
  {
   "cell_type": "code",
   "execution_count": null,
   "metadata": {},
   "outputs": [],
   "source": [
    "lis[lis.columns[10:20]].info()"
   ]
  },
  {
   "cell_type": "code",
   "execution_count": 75,
   "metadata": {},
   "outputs": [],
   "source": [
    "lis = lis.where(pd.notnull(lis), None)"
   ]
  },
  {
   "cell_type": "code",
   "execution_count": null,
   "metadata": {},
   "outputs": [],
   "source": [
    "lis[lis.columns[:-20]].info()"
   ]
  },
  {
   "cell_type": "code",
   "execution_count": null,
   "metadata": {},
   "outputs": [],
   "source": [
    "lis.iloc[:2, :-20]"
   ]
  },
  {
   "cell_type": "code",
   "execution_count": null,
   "metadata": {},
   "outputs": [],
   "source": [
    "# Get columns with less than 3 unique values\n",
    "low_unique_cols = [col for col in lis.columns if lis[col].nunique() < 3]\n",
    "print(\"Columns with less than 3 unique values:\")\n",
    "for col in low_unique_cols:\n",
    "    print(f\"{col}: {lis[col].nunique()}\")"
   ]
  },
  {
   "cell_type": "code",
   "execution_count": null,
   "metadata": {},
   "outputs": [],
   "source": [
    "# remap to boolean + sanity check\n",
    "# print(lis.groupby('instant_bookable').size())\n",
    "# print(lis[['instant_bookable']].groupby('instant_bookable').head(2))\n",
    "\n",
    "# lis['instant_bookable'] = lis['instant_bookable'] == 't'\n",
    "\n",
    "# print(lis.groupby('instant_bookable').size())\n",
    "# print(lis[['instant_bookable']].groupby('instant_bookable').head(2))\n",
    "\n",
    "# print(rev.reviewer_name)#.nunique())\n",
    "rev.describe()"
   ]
  }
 ],
 "metadata": {
  "kernelspec": {
   "display_name": "base",
   "language": "python",
   "name": "python3"
  },
  "language_info": {
   "codemirror_mode": {
    "name": "ipython",
    "version": 3
   },
   "file_extension": ".py",
   "mimetype": "text/x-python",
   "name": "python",
   "nbconvert_exporter": "python",
   "pygments_lexer": "ipython3",
   "version": "3.11.8"
  }
 },
 "nbformat": 4,
 "nbformat_minor": 2
}
